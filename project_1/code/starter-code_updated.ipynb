{
 "cells": [
  {
   "cell_type": "markdown",
   "metadata": {},
   "source": [
    "# Project 1: SAT & ACT Analysis"
   ]
  },
  {
   "cell_type": "markdown",
   "metadata": {},
   "source": [
    "The first markdown cell in a notebook is a great place to provide an overview of your entire project. You will likely want to at least state your\n",
    "\n",
    "## Problem Statement"
   ]
  },
  {
   "cell_type": "markdown",
   "metadata": {},
   "source": [
    "Despite the growing economy, participation rates for College Entrance Exams such as the SAT and ACT are still at a low for many states. With jobs and roles evolving in the work force, the new generation are expected to be equipped with the relevant skills obtained mainly from tertiary education. \n",
    "\n",
    "Hence, attending the entrance exams is the first step for students and we aim to provide recommendations on how to improve rates, particularly for states with lower percentages of participation for both exams."
   ]
  },
  {
   "cell_type": "markdown",
   "metadata": {},
   "source": [
    "## Executive Summary\n",
    "\n",
    "If you want to, it's great to use relative links to direct your audience to various sections of a notebook. **HERE'S A DEMONSTRATION WITH THE CURRENT SECTION HEADERS**:\n",
    "\n",
    "### Contents:\n",
    "- [2017 Data Import & Cleaning](#Data-Import-and-Cleaning)\n",
    "- [2018 Data Import and Cleaning](#2018-Data-Import-and-Cleaning)\n",
    "- [Exploratory Data Analysis](#Exploratory-Data-Analysis)\n",
    "- [Data Visualization](#Visualize-the-data)\n",
    "- [Descriptive and Inferential Statistics](#Descriptive-and-Inferential-Statistics)\n",
    "- [Outside Research](#Outside-Research)\n",
    "- [Conclusions and Recommendations](#Conclusions-and-Recommendations)"
   ]
  },
  {
   "cell_type": "markdown",
   "metadata": {},
   "source": [
    "**If you combine your problem statement, executive summary, data dictionary, and conclusions/recommendations, you have an amazing README.md file that quickly aligns your audience to the contents of your project.** Don't forget to cite your data sources!"
   ]
  },
  {
   "cell_type": "markdown",
   "metadata": {},
   "source": [
    "*All libraries used should be added here*"
   ]
  },
  {
   "cell_type": "code",
   "execution_count": 1,
   "metadata": {},
   "outputs": [],
   "source": [
    "#Imports:\n",
    "\n",
    "import numpy as np\n",
    "import pandas as pd\n",
    "import scipy.stats as stats\n",
    "import seaborn as sns\n",
    "import matplotlib.pyplot as plt"
   ]
  },
  {
   "cell_type": "markdown",
   "metadata": {},
   "source": [
    "## 2017 Data Import and Cleaning"
   ]
  },
  {
   "cell_type": "markdown",
   "metadata": {},
   "source": [
    "#### 1. Read In SAT & ACT  Data\n",
    "\n",
    "Read in the `sat_2017.csv` and `act_2017.csv` files and assign them to appropriately named pandas dataframes."
   ]
  },
  {
   "cell_type": "code",
   "execution_count": 2,
   "metadata": {},
   "outputs": [],
   "source": [
    "#Code:\n",
    "sat_2017 = pd.read_csv('../data/sat_2017.csv')"
   ]
  },
  {
   "cell_type": "code",
   "execution_count": 3,
   "metadata": {},
   "outputs": [],
   "source": [
    "act_2017 = pd.read_csv('../data/act_2017.csv')"
   ]
  },
  {
   "cell_type": "markdown",
   "metadata": {},
   "source": [
    "#### 2. Display Data\n",
    "\n",
    "Print the first 10 rows of each dataframe to your jupyter notebook"
   ]
  },
  {
   "cell_type": "code",
   "execution_count": 4,
   "metadata": {},
   "outputs": [
    {
     "data": {
      "text/html": [
       "<div>\n",
       "<style scoped>\n",
       "    .dataframe tbody tr th:only-of-type {\n",
       "        vertical-align: middle;\n",
       "    }\n",
       "\n",
       "    .dataframe tbody tr th {\n",
       "        vertical-align: top;\n",
       "    }\n",
       "\n",
       "    .dataframe thead th {\n",
       "        text-align: right;\n",
       "    }\n",
       "</style>\n",
       "<table border=\"1\" class=\"dataframe\">\n",
       "  <thead>\n",
       "    <tr style=\"text-align: right;\">\n",
       "      <th></th>\n",
       "      <th>State</th>\n",
       "      <th>Participation</th>\n",
       "      <th>Evidence-Based Reading and Writing</th>\n",
       "      <th>Math</th>\n",
       "      <th>Total</th>\n",
       "    </tr>\n",
       "  </thead>\n",
       "  <tbody>\n",
       "    <tr>\n",
       "      <td>0</td>\n",
       "      <td>Alabama</td>\n",
       "      <td>5%</td>\n",
       "      <td>593</td>\n",
       "      <td>572</td>\n",
       "      <td>1165</td>\n",
       "    </tr>\n",
       "    <tr>\n",
       "      <td>1</td>\n",
       "      <td>Alaska</td>\n",
       "      <td>38%</td>\n",
       "      <td>547</td>\n",
       "      <td>533</td>\n",
       "      <td>1080</td>\n",
       "    </tr>\n",
       "    <tr>\n",
       "      <td>2</td>\n",
       "      <td>Arizona</td>\n",
       "      <td>30%</td>\n",
       "      <td>563</td>\n",
       "      <td>553</td>\n",
       "      <td>1116</td>\n",
       "    </tr>\n",
       "    <tr>\n",
       "      <td>3</td>\n",
       "      <td>Arkansas</td>\n",
       "      <td>3%</td>\n",
       "      <td>614</td>\n",
       "      <td>594</td>\n",
       "      <td>1208</td>\n",
       "    </tr>\n",
       "    <tr>\n",
       "      <td>4</td>\n",
       "      <td>California</td>\n",
       "      <td>53%</td>\n",
       "      <td>531</td>\n",
       "      <td>524</td>\n",
       "      <td>1055</td>\n",
       "    </tr>\n",
       "    <tr>\n",
       "      <td>5</td>\n",
       "      <td>Colorado</td>\n",
       "      <td>11%</td>\n",
       "      <td>606</td>\n",
       "      <td>595</td>\n",
       "      <td>1201</td>\n",
       "    </tr>\n",
       "    <tr>\n",
       "      <td>6</td>\n",
       "      <td>Connecticut</td>\n",
       "      <td>100%</td>\n",
       "      <td>530</td>\n",
       "      <td>512</td>\n",
       "      <td>1041</td>\n",
       "    </tr>\n",
       "    <tr>\n",
       "      <td>7</td>\n",
       "      <td>Delaware</td>\n",
       "      <td>100%</td>\n",
       "      <td>503</td>\n",
       "      <td>492</td>\n",
       "      <td>996</td>\n",
       "    </tr>\n",
       "    <tr>\n",
       "      <td>8</td>\n",
       "      <td>District of Columbia</td>\n",
       "      <td>100%</td>\n",
       "      <td>482</td>\n",
       "      <td>468</td>\n",
       "      <td>950</td>\n",
       "    </tr>\n",
       "    <tr>\n",
       "      <td>9</td>\n",
       "      <td>Florida</td>\n",
       "      <td>83%</td>\n",
       "      <td>520</td>\n",
       "      <td>497</td>\n",
       "      <td>1017</td>\n",
       "    </tr>\n",
       "  </tbody>\n",
       "</table>\n",
       "</div>"
      ],
      "text/plain": [
       "                  State Participation  Evidence-Based Reading and Writing  \\\n",
       "0               Alabama            5%                                 593   \n",
       "1                Alaska           38%                                 547   \n",
       "2               Arizona           30%                                 563   \n",
       "3              Arkansas            3%                                 614   \n",
       "4            California           53%                                 531   \n",
       "5              Colorado           11%                                 606   \n",
       "6           Connecticut          100%                                 530   \n",
       "7              Delaware          100%                                 503   \n",
       "8  District of Columbia          100%                                 482   \n",
       "9               Florida           83%                                 520   \n",
       "\n",
       "   Math  Total  \n",
       "0   572   1165  \n",
       "1   533   1080  \n",
       "2   553   1116  \n",
       "3   594   1208  \n",
       "4   524   1055  \n",
       "5   595   1201  \n",
       "6   512   1041  \n",
       "7   492    996  \n",
       "8   468    950  \n",
       "9   497   1017  "
      ]
     },
     "execution_count": 4,
     "metadata": {},
     "output_type": "execute_result"
    }
   ],
   "source": [
    "#Code:\n",
    "sat_2017.head(10)"
   ]
  },
  {
   "cell_type": "code",
   "execution_count": 5,
   "metadata": {},
   "outputs": [
    {
     "data": {
      "text/html": [
       "<div>\n",
       "<style scoped>\n",
       "    .dataframe tbody tr th:only-of-type {\n",
       "        vertical-align: middle;\n",
       "    }\n",
       "\n",
       "    .dataframe tbody tr th {\n",
       "        vertical-align: top;\n",
       "    }\n",
       "\n",
       "    .dataframe thead th {\n",
       "        text-align: right;\n",
       "    }\n",
       "</style>\n",
       "<table border=\"1\" class=\"dataframe\">\n",
       "  <thead>\n",
       "    <tr style=\"text-align: right;\">\n",
       "      <th></th>\n",
       "      <th>State</th>\n",
       "      <th>Participation</th>\n",
       "      <th>English</th>\n",
       "      <th>Math</th>\n",
       "      <th>Reading</th>\n",
       "      <th>Science</th>\n",
       "      <th>Composite</th>\n",
       "    </tr>\n",
       "  </thead>\n",
       "  <tbody>\n",
       "    <tr>\n",
       "      <td>0</td>\n",
       "      <td>National</td>\n",
       "      <td>60%</td>\n",
       "      <td>20.3</td>\n",
       "      <td>20.7</td>\n",
       "      <td>21.4</td>\n",
       "      <td>21.0</td>\n",
       "      <td>21.0</td>\n",
       "    </tr>\n",
       "    <tr>\n",
       "      <td>1</td>\n",
       "      <td>Alabama</td>\n",
       "      <td>100%</td>\n",
       "      <td>18.9</td>\n",
       "      <td>18.4</td>\n",
       "      <td>19.7</td>\n",
       "      <td>19.4</td>\n",
       "      <td>19.2</td>\n",
       "    </tr>\n",
       "    <tr>\n",
       "      <td>2</td>\n",
       "      <td>Alaska</td>\n",
       "      <td>65%</td>\n",
       "      <td>18.7</td>\n",
       "      <td>19.8</td>\n",
       "      <td>20.4</td>\n",
       "      <td>19.9</td>\n",
       "      <td>19.8</td>\n",
       "    </tr>\n",
       "    <tr>\n",
       "      <td>3</td>\n",
       "      <td>Arizona</td>\n",
       "      <td>62%</td>\n",
       "      <td>18.6</td>\n",
       "      <td>19.8</td>\n",
       "      <td>20.1</td>\n",
       "      <td>19.8</td>\n",
       "      <td>19.7</td>\n",
       "    </tr>\n",
       "    <tr>\n",
       "      <td>4</td>\n",
       "      <td>Arkansas</td>\n",
       "      <td>100%</td>\n",
       "      <td>18.9</td>\n",
       "      <td>19.0</td>\n",
       "      <td>19.7</td>\n",
       "      <td>19.5</td>\n",
       "      <td>19.4</td>\n",
       "    </tr>\n",
       "    <tr>\n",
       "      <td>5</td>\n",
       "      <td>California</td>\n",
       "      <td>31%</td>\n",
       "      <td>22.5</td>\n",
       "      <td>22.7</td>\n",
       "      <td>23.1</td>\n",
       "      <td>22.2</td>\n",
       "      <td>22.8</td>\n",
       "    </tr>\n",
       "    <tr>\n",
       "      <td>6</td>\n",
       "      <td>Colorado</td>\n",
       "      <td>100%</td>\n",
       "      <td>20.1</td>\n",
       "      <td>20.3</td>\n",
       "      <td>21.2</td>\n",
       "      <td>20.9</td>\n",
       "      <td>20.8</td>\n",
       "    </tr>\n",
       "    <tr>\n",
       "      <td>7</td>\n",
       "      <td>Connecticut</td>\n",
       "      <td>31%</td>\n",
       "      <td>25.5</td>\n",
       "      <td>24.6</td>\n",
       "      <td>25.6</td>\n",
       "      <td>24.6</td>\n",
       "      <td>25.2</td>\n",
       "    </tr>\n",
       "    <tr>\n",
       "      <td>8</td>\n",
       "      <td>Delaware</td>\n",
       "      <td>18%</td>\n",
       "      <td>24.1</td>\n",
       "      <td>23.4</td>\n",
       "      <td>24.8</td>\n",
       "      <td>23.6</td>\n",
       "      <td>24.1</td>\n",
       "    </tr>\n",
       "    <tr>\n",
       "      <td>9</td>\n",
       "      <td>District of Columbia</td>\n",
       "      <td>32%</td>\n",
       "      <td>24.4</td>\n",
       "      <td>23.5</td>\n",
       "      <td>24.9</td>\n",
       "      <td>23.5</td>\n",
       "      <td>24.2</td>\n",
       "    </tr>\n",
       "  </tbody>\n",
       "</table>\n",
       "</div>"
      ],
      "text/plain": [
       "                  State Participation  English  Math  Reading  Science  \\\n",
       "0              National           60%     20.3  20.7     21.4     21.0   \n",
       "1               Alabama          100%     18.9  18.4     19.7     19.4   \n",
       "2                Alaska           65%     18.7  19.8     20.4     19.9   \n",
       "3               Arizona           62%     18.6  19.8     20.1     19.8   \n",
       "4              Arkansas          100%     18.9  19.0     19.7     19.5   \n",
       "5            California           31%     22.5  22.7     23.1     22.2   \n",
       "6              Colorado          100%     20.1  20.3     21.2     20.9   \n",
       "7           Connecticut           31%     25.5  24.6     25.6     24.6   \n",
       "8              Delaware           18%     24.1  23.4     24.8     23.6   \n",
       "9  District of Columbia           32%     24.4  23.5     24.9     23.5   \n",
       "\n",
       "  Composite  \n",
       "0      21.0  \n",
       "1      19.2  \n",
       "2      19.8  \n",
       "3      19.7  \n",
       "4      19.4  \n",
       "5      22.8  \n",
       "6      20.8  \n",
       "7      25.2  \n",
       "8      24.1  \n",
       "9      24.2  "
      ]
     },
     "execution_count": 5,
     "metadata": {},
     "output_type": "execute_result"
    }
   ],
   "source": [
    "act_2017.head(10)"
   ]
  },
  {
   "cell_type": "markdown",
   "metadata": {},
   "source": [
    "#### 3. Verbally Describe Data\n",
    "\n",
    "Take your time looking through the data and thoroughly describe the data in the markdown cell below. "
   ]
  },
  {
   "cell_type": "markdown",
   "metadata": {},
   "source": [
    "Answer: The sat_2017 database displays information for each state in the USA, displaying the percentage rate of participation for the SATs and potentially the state average scores of each module as well as the total average of students who have participated.\n",
    "\n",
    "The same applies for the act_2017 database except it displays the state average composite of the modules rather than a total summed score."
   ]
  },
  {
   "cell_type": "markdown",
   "metadata": {},
   "source": [
    "#### 4a. Does the data look complete? "
   ]
  },
  {
   "cell_type": "markdown",
   "metadata": {},
   "source": [
    "Answer: the data appears to be complete, however there are inconsistencies as act_2017 contains national average while sat_2017 does not."
   ]
  },
  {
   "cell_type": "markdown",
   "metadata": {},
   "source": [
    "#### 4b. Are there any obvious issues with the observations?\n",
    "\n",
    "**What is the minimum *possible* value for each test/subtest? What is the maximum *possible* value?**\n",
    "\n",
    "Consider comparing any questionable values to the sources of your data:\n",
    "- [SAT](https://blog.collegevine.com/here-are-the-average-sat-scores-by-state/)\n",
    "- [ACT](https://blog.prepscholar.com/act-scores-by-state-averages-highs-and-lows)"
   ]
  },
  {
   "cell_type": "code",
   "execution_count": 6,
   "metadata": {},
   "outputs": [
    {
     "data": {
      "text/html": [
       "<div>\n",
       "<style scoped>\n",
       "    .dataframe tbody tr th:only-of-type {\n",
       "        vertical-align: middle;\n",
       "    }\n",
       "\n",
       "    .dataframe tbody tr th {\n",
       "        vertical-align: top;\n",
       "    }\n",
       "\n",
       "    .dataframe thead th {\n",
       "        text-align: right;\n",
       "    }\n",
       "</style>\n",
       "<table border=\"1\" class=\"dataframe\">\n",
       "  <thead>\n",
       "    <tr style=\"text-align: right;\">\n",
       "      <th></th>\n",
       "      <th>Evidence-Based Reading and Writing</th>\n",
       "      <th>Math</th>\n",
       "      <th>Total</th>\n",
       "    </tr>\n",
       "  </thead>\n",
       "  <tbody>\n",
       "    <tr>\n",
       "      <td>count</td>\n",
       "      <td>51.000000</td>\n",
       "      <td>51.000000</td>\n",
       "      <td>51.000000</td>\n",
       "    </tr>\n",
       "    <tr>\n",
       "      <td>mean</td>\n",
       "      <td>569.117647</td>\n",
       "      <td>547.627451</td>\n",
       "      <td>1126.098039</td>\n",
       "    </tr>\n",
       "    <tr>\n",
       "      <td>std</td>\n",
       "      <td>45.666901</td>\n",
       "      <td>84.909119</td>\n",
       "      <td>92.494812</td>\n",
       "    </tr>\n",
       "    <tr>\n",
       "      <td>min</td>\n",
       "      <td>482.000000</td>\n",
       "      <td>52.000000</td>\n",
       "      <td>950.000000</td>\n",
       "    </tr>\n",
       "    <tr>\n",
       "      <td>25%</td>\n",
       "      <td>533.500000</td>\n",
       "      <td>522.000000</td>\n",
       "      <td>1055.500000</td>\n",
       "    </tr>\n",
       "    <tr>\n",
       "      <td>50%</td>\n",
       "      <td>559.000000</td>\n",
       "      <td>548.000000</td>\n",
       "      <td>1107.000000</td>\n",
       "    </tr>\n",
       "    <tr>\n",
       "      <td>75%</td>\n",
       "      <td>613.000000</td>\n",
       "      <td>599.000000</td>\n",
       "      <td>1212.000000</td>\n",
       "    </tr>\n",
       "    <tr>\n",
       "      <td>max</td>\n",
       "      <td>644.000000</td>\n",
       "      <td>651.000000</td>\n",
       "      <td>1295.000000</td>\n",
       "    </tr>\n",
       "  </tbody>\n",
       "</table>\n",
       "</div>"
      ],
      "text/plain": [
       "       Evidence-Based Reading and Writing        Math        Total\n",
       "count                           51.000000   51.000000    51.000000\n",
       "mean                           569.117647  547.627451  1126.098039\n",
       "std                             45.666901   84.909119    92.494812\n",
       "min                            482.000000   52.000000   950.000000\n",
       "25%                            533.500000  522.000000  1055.500000\n",
       "50%                            559.000000  548.000000  1107.000000\n",
       "75%                            613.000000  599.000000  1212.000000\n",
       "max                            644.000000  651.000000  1295.000000"
      ]
     },
     "execution_count": 6,
     "metadata": {},
     "output_type": "execute_result"
    }
   ],
   "source": [
    "# In our observation, sat_2017's minimum value is a score of 52 which is very likely an input error\n",
    "sat_2017.describe()"
   ]
  },
  {
   "cell_type": "code",
   "execution_count": 7,
   "metadata": {},
   "outputs": [
    {
     "data": {
      "text/html": [
       "<div>\n",
       "<style scoped>\n",
       "    .dataframe tbody tr th:only-of-type {\n",
       "        vertical-align: middle;\n",
       "    }\n",
       "\n",
       "    .dataframe tbody tr th {\n",
       "        vertical-align: top;\n",
       "    }\n",
       "\n",
       "    .dataframe thead th {\n",
       "        text-align: right;\n",
       "    }\n",
       "</style>\n",
       "<table border=\"1\" class=\"dataframe\">\n",
       "  <thead>\n",
       "    <tr style=\"text-align: right;\">\n",
       "      <th></th>\n",
       "      <th>English</th>\n",
       "      <th>Math</th>\n",
       "      <th>Reading</th>\n",
       "      <th>Science</th>\n",
       "    </tr>\n",
       "  </thead>\n",
       "  <tbody>\n",
       "    <tr>\n",
       "      <td>count</td>\n",
       "      <td>52.000000</td>\n",
       "      <td>52.000000</td>\n",
       "      <td>52.000000</td>\n",
       "      <td>52.000000</td>\n",
       "    </tr>\n",
       "    <tr>\n",
       "      <td>mean</td>\n",
       "      <td>20.919231</td>\n",
       "      <td>21.173077</td>\n",
       "      <td>22.001923</td>\n",
       "      <td>21.040385</td>\n",
       "    </tr>\n",
       "    <tr>\n",
       "      <td>std</td>\n",
       "      <td>2.332132</td>\n",
       "      <td>1.963602</td>\n",
       "      <td>2.048672</td>\n",
       "      <td>3.151113</td>\n",
       "    </tr>\n",
       "    <tr>\n",
       "      <td>min</td>\n",
       "      <td>16.300000</td>\n",
       "      <td>18.000000</td>\n",
       "      <td>18.100000</td>\n",
       "      <td>2.300000</td>\n",
       "    </tr>\n",
       "    <tr>\n",
       "      <td>25%</td>\n",
       "      <td>19.000000</td>\n",
       "      <td>19.400000</td>\n",
       "      <td>20.475000</td>\n",
       "      <td>19.900000</td>\n",
       "    </tr>\n",
       "    <tr>\n",
       "      <td>50%</td>\n",
       "      <td>20.550000</td>\n",
       "      <td>20.900000</td>\n",
       "      <td>21.700000</td>\n",
       "      <td>21.150000</td>\n",
       "    </tr>\n",
       "    <tr>\n",
       "      <td>75%</td>\n",
       "      <td>23.300000</td>\n",
       "      <td>23.100000</td>\n",
       "      <td>24.125000</td>\n",
       "      <td>22.525000</td>\n",
       "    </tr>\n",
       "    <tr>\n",
       "      <td>max</td>\n",
       "      <td>25.500000</td>\n",
       "      <td>25.300000</td>\n",
       "      <td>26.000000</td>\n",
       "      <td>24.900000</td>\n",
       "    </tr>\n",
       "  </tbody>\n",
       "</table>\n",
       "</div>"
      ],
      "text/plain": [
       "         English       Math    Reading    Science\n",
       "count  52.000000  52.000000  52.000000  52.000000\n",
       "mean   20.919231  21.173077  22.001923  21.040385\n",
       "std     2.332132   1.963602   2.048672   3.151113\n",
       "min    16.300000  18.000000  18.100000   2.300000\n",
       "25%    19.000000  19.400000  20.475000  19.900000\n",
       "50%    20.550000  20.900000  21.700000  21.150000\n",
       "75%    23.300000  23.100000  24.125000  22.525000\n",
       "max    25.500000  25.300000  26.000000  24.900000"
      ]
     },
     "execution_count": 7,
     "metadata": {},
     "output_type": "execute_result"
    }
   ],
   "source": [
    "# There is also an issue with the Science minimum score for ACT, to investigate which State is returning this value\n",
    "\n",
    "act_2017.describe()"
   ]
  },
  {
   "cell_type": "code",
   "execution_count": 8,
   "metadata": {},
   "outputs": [
    {
     "data": {
      "text/html": [
       "<div>\n",
       "<style scoped>\n",
       "    .dataframe tbody tr th:only-of-type {\n",
       "        vertical-align: middle;\n",
       "    }\n",
       "\n",
       "    .dataframe tbody tr th {\n",
       "        vertical-align: top;\n",
       "    }\n",
       "\n",
       "    .dataframe thead th {\n",
       "        text-align: right;\n",
       "    }\n",
       "</style>\n",
       "<table border=\"1\" class=\"dataframe\">\n",
       "  <thead>\n",
       "    <tr style=\"text-align: right;\">\n",
       "      <th></th>\n",
       "      <th>State</th>\n",
       "      <th>Participation</th>\n",
       "      <th>Evidence-Based Reading and Writing</th>\n",
       "      <th>Math</th>\n",
       "      <th>Total</th>\n",
       "    </tr>\n",
       "  </thead>\n",
       "  <tbody>\n",
       "    <tr>\n",
       "      <td>20</td>\n",
       "      <td>Maryland</td>\n",
       "      <td>69%</td>\n",
       "      <td>536</td>\n",
       "      <td>52</td>\n",
       "      <td>1060</td>\n",
       "    </tr>\n",
       "    <tr>\n",
       "      <td>8</td>\n",
       "      <td>District of Columbia</td>\n",
       "      <td>100%</td>\n",
       "      <td>482</td>\n",
       "      <td>468</td>\n",
       "      <td>950</td>\n",
       "    </tr>\n",
       "    <tr>\n",
       "      <td>7</td>\n",
       "      <td>Delaware</td>\n",
       "      <td>100%</td>\n",
       "      <td>503</td>\n",
       "      <td>492</td>\n",
       "      <td>996</td>\n",
       "    </tr>\n",
       "    <tr>\n",
       "      <td>12</td>\n",
       "      <td>Idaho</td>\n",
       "      <td>93%</td>\n",
       "      <td>513</td>\n",
       "      <td>493</td>\n",
       "      <td>1005</td>\n",
       "    </tr>\n",
       "    <tr>\n",
       "      <td>22</td>\n",
       "      <td>Michigan</td>\n",
       "      <td>100%</td>\n",
       "      <td>509</td>\n",
       "      <td>495</td>\n",
       "      <td>1005</td>\n",
       "    </tr>\n",
       "  </tbody>\n",
       "</table>\n",
       "</div>"
      ],
      "text/plain": [
       "                   State Participation  Evidence-Based Reading and Writing  \\\n",
       "20              Maryland           69%                                 536   \n",
       "8   District of Columbia          100%                                 482   \n",
       "7               Delaware          100%                                 503   \n",
       "12                 Idaho           93%                                 513   \n",
       "22              Michigan          100%                                 509   \n",
       "\n",
       "    Math  Total  \n",
       "20    52   1060  \n",
       "8    468    950  \n",
       "7    492    996  \n",
       "12   493   1005  \n",
       "22   495   1005  "
      ]
     },
     "execution_count": 8,
     "metadata": {},
     "output_type": "execute_result"
    }
   ],
   "source": [
    "# State of Maryland has an input error for SAT Math score and ACT Science score\n",
    "sat_2017.sort_values('Math').head()"
   ]
  },
  {
   "cell_type": "code",
   "execution_count": 9,
   "metadata": {},
   "outputs": [
    {
     "data": {
      "text/html": [
       "<div>\n",
       "<style scoped>\n",
       "    .dataframe tbody tr th:only-of-type {\n",
       "        vertical-align: middle;\n",
       "    }\n",
       "\n",
       "    .dataframe tbody tr th {\n",
       "        vertical-align: top;\n",
       "    }\n",
       "\n",
       "    .dataframe thead th {\n",
       "        text-align: right;\n",
       "    }\n",
       "</style>\n",
       "<table border=\"1\" class=\"dataframe\">\n",
       "  <thead>\n",
       "    <tr style=\"text-align: right;\">\n",
       "      <th></th>\n",
       "      <th>State</th>\n",
       "      <th>Participation</th>\n",
       "      <th>English</th>\n",
       "      <th>Math</th>\n",
       "      <th>Reading</th>\n",
       "      <th>Science</th>\n",
       "      <th>Composite</th>\n",
       "    </tr>\n",
       "  </thead>\n",
       "  <tbody>\n",
       "    <tr>\n",
       "      <td>21</td>\n",
       "      <td>Maryland</td>\n",
       "      <td>28%</td>\n",
       "      <td>23.3</td>\n",
       "      <td>23.1</td>\n",
       "      <td>24.2</td>\n",
       "      <td>2.3</td>\n",
       "      <td>23.6</td>\n",
       "    </tr>\n",
       "    <tr>\n",
       "      <td>29</td>\n",
       "      <td>Nevada</td>\n",
       "      <td>100%</td>\n",
       "      <td>16.3</td>\n",
       "      <td>18.0</td>\n",
       "      <td>18.1</td>\n",
       "      <td>18.2</td>\n",
       "      <td>17.8</td>\n",
       "    </tr>\n",
       "    <tr>\n",
       "      <td>25</td>\n",
       "      <td>Mississippi</td>\n",
       "      <td>100%</td>\n",
       "      <td>18.2</td>\n",
       "      <td>18.1</td>\n",
       "      <td>18.8</td>\n",
       "      <td>18.8</td>\n",
       "      <td>18.6</td>\n",
       "    </tr>\n",
       "    <tr>\n",
       "      <td>41</td>\n",
       "      <td>South Carolina</td>\n",
       "      <td>100%</td>\n",
       "      <td>17.5</td>\n",
       "      <td>18.6</td>\n",
       "      <td>19.1</td>\n",
       "      <td>18.9</td>\n",
       "      <td>18.7</td>\n",
       "    </tr>\n",
       "    <tr>\n",
       "      <td>34</td>\n",
       "      <td>North Carolina</td>\n",
       "      <td>100%</td>\n",
       "      <td>17.8</td>\n",
       "      <td>19.3</td>\n",
       "      <td>19.6</td>\n",
       "      <td>19.3</td>\n",
       "      <td>19.1</td>\n",
       "    </tr>\n",
       "  </tbody>\n",
       "</table>\n",
       "</div>"
      ],
      "text/plain": [
       "             State Participation  English  Math  Reading  Science Composite\n",
       "21        Maryland           28%     23.3  23.1     24.2      2.3      23.6\n",
       "29          Nevada          100%     16.3  18.0     18.1     18.2      17.8\n",
       "25     Mississippi          100%     18.2  18.1     18.8     18.8      18.6\n",
       "41  South Carolina          100%     17.5  18.6     19.1     18.9      18.7\n",
       "34  North Carolina          100%     17.8  19.3     19.6     19.3      19.1"
      ]
     },
     "execution_count": 9,
     "metadata": {},
     "output_type": "execute_result"
    }
   ],
   "source": [
    "act_2017.sort_values('Science').head()"
   ]
  },
  {
   "cell_type": "markdown",
   "metadata": {},
   "source": [
    "#### 4c. Fix any errors you identified\n",
    "\n",
    "**The data is available** so there's no need to guess or calculate anything. If you didn't find any errors, continue to the next step."
   ]
  },
  {
   "cell_type": "code",
   "execution_count": 10,
   "metadata": {},
   "outputs": [],
   "source": [
    "# Fixing sat_2017 Maryland State's Math score\n",
    "sat_2017['Math'] = sat_2017['Math'].replace(52, 524)"
   ]
  },
  {
   "cell_type": "code",
   "execution_count": 11,
   "metadata": {
    "scrolled": true
   },
   "outputs": [
    {
     "data": {
      "text/html": [
       "<div>\n",
       "<style scoped>\n",
       "    .dataframe tbody tr th:only-of-type {\n",
       "        vertical-align: middle;\n",
       "    }\n",
       "\n",
       "    .dataframe tbody tr th {\n",
       "        vertical-align: top;\n",
       "    }\n",
       "\n",
       "    .dataframe thead th {\n",
       "        text-align: right;\n",
       "    }\n",
       "</style>\n",
       "<table border=\"1\" class=\"dataframe\">\n",
       "  <thead>\n",
       "    <tr style=\"text-align: right;\">\n",
       "      <th></th>\n",
       "      <th>Evidence-Based Reading and Writing</th>\n",
       "      <th>Math</th>\n",
       "      <th>Total</th>\n",
       "    </tr>\n",
       "  </thead>\n",
       "  <tbody>\n",
       "    <tr>\n",
       "      <td>count</td>\n",
       "      <td>51.000000</td>\n",
       "      <td>51.000000</td>\n",
       "      <td>51.000000</td>\n",
       "    </tr>\n",
       "    <tr>\n",
       "      <td>mean</td>\n",
       "      <td>569.117647</td>\n",
       "      <td>556.882353</td>\n",
       "      <td>1126.098039</td>\n",
       "    </tr>\n",
       "    <tr>\n",
       "      <td>std</td>\n",
       "      <td>45.666901</td>\n",
       "      <td>47.121395</td>\n",
       "      <td>92.494812</td>\n",
       "    </tr>\n",
       "    <tr>\n",
       "      <td>min</td>\n",
       "      <td>482.000000</td>\n",
       "      <td>468.000000</td>\n",
       "      <td>950.000000</td>\n",
       "    </tr>\n",
       "    <tr>\n",
       "      <td>25%</td>\n",
       "      <td>533.500000</td>\n",
       "      <td>523.500000</td>\n",
       "      <td>1055.500000</td>\n",
       "    </tr>\n",
       "    <tr>\n",
       "      <td>50%</td>\n",
       "      <td>559.000000</td>\n",
       "      <td>548.000000</td>\n",
       "      <td>1107.000000</td>\n",
       "    </tr>\n",
       "    <tr>\n",
       "      <td>75%</td>\n",
       "      <td>613.000000</td>\n",
       "      <td>599.000000</td>\n",
       "      <td>1212.000000</td>\n",
       "    </tr>\n",
       "    <tr>\n",
       "      <td>max</td>\n",
       "      <td>644.000000</td>\n",
       "      <td>651.000000</td>\n",
       "      <td>1295.000000</td>\n",
       "    </tr>\n",
       "  </tbody>\n",
       "</table>\n",
       "</div>"
      ],
      "text/plain": [
       "       Evidence-Based Reading and Writing        Math        Total\n",
       "count                           51.000000   51.000000    51.000000\n",
       "mean                           569.117647  556.882353  1126.098039\n",
       "std                             45.666901   47.121395    92.494812\n",
       "min                            482.000000  468.000000   950.000000\n",
       "25%                            533.500000  523.500000  1055.500000\n",
       "50%                            559.000000  548.000000  1107.000000\n",
       "75%                            613.000000  599.000000  1212.000000\n",
       "max                            644.000000  651.000000  1295.000000"
      ]
     },
     "execution_count": 11,
     "metadata": {},
     "output_type": "execute_result"
    }
   ],
   "source": [
    "# sat_2017 values have been amended\n",
    "sat_2017.describe()"
   ]
  },
  {
   "cell_type": "code",
   "execution_count": 12,
   "metadata": {},
   "outputs": [],
   "source": [
    "# Fixing sat_2017 Maryland State's Math score\n",
    "act_2017['Science'] = act_2017['Science'].replace(2.3, 23.2)"
   ]
  },
  {
   "cell_type": "code",
   "execution_count": 13,
   "metadata": {
    "scrolled": true
   },
   "outputs": [
    {
     "data": {
      "text/html": [
       "<div>\n",
       "<style scoped>\n",
       "    .dataframe tbody tr th:only-of-type {\n",
       "        vertical-align: middle;\n",
       "    }\n",
       "\n",
       "    .dataframe tbody tr th {\n",
       "        vertical-align: top;\n",
       "    }\n",
       "\n",
       "    .dataframe thead th {\n",
       "        text-align: right;\n",
       "    }\n",
       "</style>\n",
       "<table border=\"1\" class=\"dataframe\">\n",
       "  <thead>\n",
       "    <tr style=\"text-align: right;\">\n",
       "      <th></th>\n",
       "      <th>English</th>\n",
       "      <th>Math</th>\n",
       "      <th>Reading</th>\n",
       "      <th>Science</th>\n",
       "    </tr>\n",
       "  </thead>\n",
       "  <tbody>\n",
       "    <tr>\n",
       "      <td>count</td>\n",
       "      <td>52.000000</td>\n",
       "      <td>52.000000</td>\n",
       "      <td>52.000000</td>\n",
       "      <td>52.000000</td>\n",
       "    </tr>\n",
       "    <tr>\n",
       "      <td>mean</td>\n",
       "      <td>20.919231</td>\n",
       "      <td>21.173077</td>\n",
       "      <td>22.001923</td>\n",
       "      <td>21.442308</td>\n",
       "    </tr>\n",
       "    <tr>\n",
       "      <td>std</td>\n",
       "      <td>2.332132</td>\n",
       "      <td>1.963602</td>\n",
       "      <td>2.048672</td>\n",
       "      <td>1.723351</td>\n",
       "    </tr>\n",
       "    <tr>\n",
       "      <td>min</td>\n",
       "      <td>16.300000</td>\n",
       "      <td>18.000000</td>\n",
       "      <td>18.100000</td>\n",
       "      <td>18.200000</td>\n",
       "    </tr>\n",
       "    <tr>\n",
       "      <td>25%</td>\n",
       "      <td>19.000000</td>\n",
       "      <td>19.400000</td>\n",
       "      <td>20.475000</td>\n",
       "      <td>19.975000</td>\n",
       "    </tr>\n",
       "    <tr>\n",
       "      <td>50%</td>\n",
       "      <td>20.550000</td>\n",
       "      <td>20.900000</td>\n",
       "      <td>21.700000</td>\n",
       "      <td>21.300000</td>\n",
       "    </tr>\n",
       "    <tr>\n",
       "      <td>75%</td>\n",
       "      <td>23.300000</td>\n",
       "      <td>23.100000</td>\n",
       "      <td>24.125000</td>\n",
       "      <td>23.200000</td>\n",
       "    </tr>\n",
       "    <tr>\n",
       "      <td>max</td>\n",
       "      <td>25.500000</td>\n",
       "      <td>25.300000</td>\n",
       "      <td>26.000000</td>\n",
       "      <td>24.900000</td>\n",
       "    </tr>\n",
       "  </tbody>\n",
       "</table>\n",
       "</div>"
      ],
      "text/plain": [
       "         English       Math    Reading    Science\n",
       "count  52.000000  52.000000  52.000000  52.000000\n",
       "mean   20.919231  21.173077  22.001923  21.442308\n",
       "std     2.332132   1.963602   2.048672   1.723351\n",
       "min    16.300000  18.000000  18.100000  18.200000\n",
       "25%    19.000000  19.400000  20.475000  19.975000\n",
       "50%    20.550000  20.900000  21.700000  21.300000\n",
       "75%    23.300000  23.100000  24.125000  23.200000\n",
       "max    25.500000  25.300000  26.000000  24.900000"
      ]
     },
     "execution_count": 13,
     "metadata": {},
     "output_type": "execute_result"
    }
   ],
   "source": [
    "# act_2017 values have been amended\n",
    "act_2017.describe()"
   ]
  },
  {
   "cell_type": "code",
   "execution_count": 14,
   "metadata": {},
   "outputs": [],
   "source": [
    "# We define a function to insert new rows \n",
    "# in the top of the dataframe \n",
    "def Insert_row(row_number, df, row_value): \n",
    "    # Starting value of upper half \n",
    "    start_upper = 0 \n",
    "    end_upper = row_number \n",
    "    start_lower = row_number \n",
    "    end_lower = df.shape[0] \n",
    "    upper_half = [*range(start_upper, end_upper, 1)] \n",
    "    lower_half = [*range(start_lower, end_lower, 1)] \n",
    "    lower_half = [x.__add__(1) for x in lower_half] \n",
    "    index_ = upper_half + lower_half \n",
    "    df.index = index_ \n",
    "    df.loc[row_number] = row_value \n",
    "    df = df.sort_index() \n",
    "    return df"
   ]
  },
  {
   "cell_type": "code",
   "execution_count": 15,
   "metadata": {},
   "outputs": [
    {
     "name": "stdout",
     "output_type": "stream",
     "text": [
      "<class 'pandas.core.frame.DataFrame'>\n",
      "RangeIndex: 51 entries, 0 to 50\n",
      "Data columns (total 5 columns):\n",
      "State                                 51 non-null object\n",
      "Participation                         51 non-null object\n",
      "Evidence-Based Reading and Writing    51 non-null int64\n",
      "Math                                  51 non-null int64\n",
      "Total                                 51 non-null int64\n",
      "dtypes: int64(3), object(2)\n",
      "memory usage: 2.1+ KB\n"
     ]
    }
   ],
   "source": [
    "#code\n",
    "# The code displays the potential number of omitted cells in the database for each column\n",
    "# If RangeIndex entries is equal to each column's non-null object,\n",
    "# there are no omitted cells and the information provided is complete\n",
    "sat_2017.info()"
   ]
  },
  {
   "cell_type": "code",
   "execution_count": 16,
   "metadata": {},
   "outputs": [
    {
     "name": "stdout",
     "output_type": "stream",
     "text": [
      "<class 'pandas.core.frame.DataFrame'>\n",
      "RangeIndex: 52 entries, 0 to 51\n",
      "Data columns (total 7 columns):\n",
      "State            52 non-null object\n",
      "Participation    52 non-null object\n",
      "English          52 non-null float64\n",
      "Math             52 non-null float64\n",
      "Reading          52 non-null float64\n",
      "Science          52 non-null float64\n",
      "Composite        52 non-null object\n",
      "dtypes: float64(4), object(3)\n",
      "memory usage: 3.0+ KB\n"
     ]
    }
   ],
   "source": [
    "act_2017.info()"
   ]
  },
  {
   "cell_type": "markdown",
   "metadata": {},
   "source": [
    "#### 5. What are your data types? \n",
    "Display the data types of each feature. "
   ]
  },
  {
   "cell_type": "code",
   "execution_count": 17,
   "metadata": {},
   "outputs": [
    {
     "data": {
      "text/plain": [
       "pandas.core.frame.DataFrame"
      ]
     },
     "execution_count": 17,
     "metadata": {},
     "output_type": "execute_result"
    }
   ],
   "source": [
    "#code\n",
    "type(sat_2017)"
   ]
  },
  {
   "cell_type": "code",
   "execution_count": 18,
   "metadata": {},
   "outputs": [
    {
     "data": {
      "text/plain": [
       "pandas.core.frame.DataFrame"
      ]
     },
     "execution_count": 18,
     "metadata": {},
     "output_type": "execute_result"
    }
   ],
   "source": [
    "type(act_2017)"
   ]
  },
  {
   "cell_type": "markdown",
   "metadata": {},
   "source": [
    "What did you learn?\n",
    "- Do any of them seem odd?  \n",
    "- Which ones are not as they should be?  "
   ]
  },
  {
   "cell_type": "markdown",
   "metadata": {},
   "source": [
    "Answer: Based on our observation in our sat_2017.info() readings, Participation column values are represented as object types. This is incorrect as percentage values should be represented as floats based on their type (e.g. 60% is numerically a float of 0.6).\n",
    "\n",
    "For act_2017, the Participation and Composite columns are represented as objects and should be converted to floats.\n",
    "\n",
    "Converting objects to floats will prevent type errors in future computation."
   ]
  },
  {
   "cell_type": "markdown",
   "metadata": {},
   "source": [
    "#### 6. Fix Incorrect Data Types\n",
    "Based on what you discovered above, use appropriate methods to re-type incorrectly typed data.\n",
    "- Define a function that will allow you to convert participation rates to an appropriate numeric type. Use `map` or `apply` to change these columns in each dataframe."
   ]
  },
  {
   "cell_type": "code",
   "execution_count": 19,
   "metadata": {},
   "outputs": [
    {
     "name": "stdout",
     "output_type": "stream",
     "text": [
      "<class 'pandas.core.frame.DataFrame'>\n",
      "RangeIndex: 51 entries, 0 to 50\n",
      "Data columns (total 5 columns):\n",
      "State                                 51 non-null object\n",
      "Participation                         51 non-null float64\n",
      "Evidence-Based Reading and Writing    51 non-null int64\n",
      "Math                                  51 non-null int64\n",
      "Total                                 51 non-null int64\n",
      "dtypes: float64(1), int64(3), object(1)\n",
      "memory usage: 2.1+ KB\n"
     ]
    }
   ],
   "source": [
    "#code\n",
    "def percentage_change(series):\n",
    "    \"\"\"Input dataframe column to convert strings into floats, specifically strings with percentage values\"\"\"\n",
    "    return float(series.strip('%'))/100\n",
    "\n",
    "sat_2017['Participation'] = sat_2017['Participation'].apply(percentage_change)\n",
    "sat_2017.info()"
   ]
  },
  {
   "cell_type": "code",
   "execution_count": 20,
   "metadata": {},
   "outputs": [
    {
     "name": "stdout",
     "output_type": "stream",
     "text": [
      "<class 'pandas.core.frame.DataFrame'>\n",
      "RangeIndex: 52 entries, 0 to 51\n",
      "Data columns (total 7 columns):\n",
      "State            52 non-null object\n",
      "Participation    52 non-null float64\n",
      "English          52 non-null float64\n",
      "Math             52 non-null float64\n",
      "Reading          52 non-null float64\n",
      "Science          52 non-null float64\n",
      "Composite        52 non-null object\n",
      "dtypes: float64(5), object(2)\n",
      "memory usage: 3.0+ KB\n"
     ]
    }
   ],
   "source": [
    "act_2017['Participation'] = act_2017['Participation'].apply(percentage_change)\n",
    "act_2017.info()"
   ]
  },
  {
   "cell_type": "markdown",
   "metadata": {},
   "source": [
    "- Fix any individual values preventing other columns from being the appropriate type."
   ]
  },
  {
   "cell_type": "code",
   "execution_count": 21,
   "metadata": {},
   "outputs": [
    {
     "name": "stdout",
     "output_type": "stream",
     "text": [
      "20.2x\n"
     ]
    }
   ],
   "source": [
    "# In the code below, \n",
    "# we discover that there is an object preventing the \"Composite\" column of the act_2017 database to be a float.\n",
    "def composite_change(series):\n",
    "    return float(series)\n",
    "\n",
    "# Create a for loop to scan through the Composite column for the value causing type to be object\n",
    "# Printing out the value causing the issue, we discover that one item has a typo 'x' in it's value\n",
    "for scan in act_2017['Composite']:\n",
    "    try:\n",
    "        float(scan)\n",
    "    except:\n",
    "        print(scan)       "
   ]
  },
  {
   "cell_type": "markdown",
   "metadata": {},
   "source": [
    "- Finish your data modifications by making sure the columns are now typed appropriately."
   ]
  },
  {
   "cell_type": "code",
   "execution_count": 22,
   "metadata": {},
   "outputs": [
    {
     "name": "stdout",
     "output_type": "stream",
     "text": [
      "<class 'pandas.core.frame.DataFrame'>\n",
      "RangeIndex: 52 entries, 0 to 51\n",
      "Data columns (total 7 columns):\n",
      "State            52 non-null object\n",
      "Participation    52 non-null float64\n",
      "English          52 non-null float64\n",
      "Math             52 non-null float64\n",
      "Reading          52 non-null float64\n",
      "Science          52 non-null float64\n",
      "Composite        52 non-null float64\n",
      "dtypes: float64(6), object(1)\n",
      "memory usage: 3.0+ KB\n"
     ]
    }
   ],
   "source": [
    "#code\n",
    "def composite_change(series):\n",
    "    \"\"\"input the DataFrame's column to convert all objects into floats, removing any with the string 'x'\"\"\"\n",
    "    return float(series.strip('x'))\n",
    "\n",
    "act_2017['Composite'] = act_2017['Composite'].apply(composite_change)\n",
    "act_2017.info()"
   ]
  },
  {
   "cell_type": "markdown",
   "metadata": {},
   "source": [
    "- Display the data types again to confirm they are correct."
   ]
  },
  {
   "cell_type": "code",
   "execution_count": 23,
   "metadata": {},
   "outputs": [
    {
     "data": {
      "text/html": [
       "<div>\n",
       "<style scoped>\n",
       "    .dataframe tbody tr th:only-of-type {\n",
       "        vertical-align: middle;\n",
       "    }\n",
       "\n",
       "    .dataframe tbody tr th {\n",
       "        vertical-align: top;\n",
       "    }\n",
       "\n",
       "    .dataframe thead th {\n",
       "        text-align: right;\n",
       "    }\n",
       "</style>\n",
       "<table border=\"1\" class=\"dataframe\">\n",
       "  <thead>\n",
       "    <tr style=\"text-align: right;\">\n",
       "      <th></th>\n",
       "      <th>State</th>\n",
       "      <th>Participation</th>\n",
       "      <th>English</th>\n",
       "      <th>Math</th>\n",
       "      <th>Reading</th>\n",
       "      <th>Science</th>\n",
       "      <th>Composite</th>\n",
       "    </tr>\n",
       "  </thead>\n",
       "  <tbody>\n",
       "    <tr>\n",
       "      <td>47</td>\n",
       "      <td>Virginia</td>\n",
       "      <td>0.29</td>\n",
       "      <td>23.5</td>\n",
       "      <td>23.3</td>\n",
       "      <td>24.6</td>\n",
       "      <td>23.5</td>\n",
       "      <td>23.8</td>\n",
       "    </tr>\n",
       "    <tr>\n",
       "      <td>48</td>\n",
       "      <td>Washington</td>\n",
       "      <td>0.29</td>\n",
       "      <td>20.9</td>\n",
       "      <td>21.9</td>\n",
       "      <td>22.1</td>\n",
       "      <td>22.0</td>\n",
       "      <td>21.9</td>\n",
       "    </tr>\n",
       "    <tr>\n",
       "      <td>49</td>\n",
       "      <td>West Virginia</td>\n",
       "      <td>0.69</td>\n",
       "      <td>20.0</td>\n",
       "      <td>19.4</td>\n",
       "      <td>21.2</td>\n",
       "      <td>20.5</td>\n",
       "      <td>20.4</td>\n",
       "    </tr>\n",
       "    <tr>\n",
       "      <td>50</td>\n",
       "      <td>Wisconsin</td>\n",
       "      <td>1.00</td>\n",
       "      <td>19.7</td>\n",
       "      <td>20.4</td>\n",
       "      <td>20.6</td>\n",
       "      <td>20.9</td>\n",
       "      <td>20.5</td>\n",
       "    </tr>\n",
       "    <tr>\n",
       "      <td>51</td>\n",
       "      <td>Wyoming</td>\n",
       "      <td>1.00</td>\n",
       "      <td>19.4</td>\n",
       "      <td>19.8</td>\n",
       "      <td>20.8</td>\n",
       "      <td>20.6</td>\n",
       "      <td>20.2</td>\n",
       "    </tr>\n",
       "  </tbody>\n",
       "</table>\n",
       "</div>"
      ],
      "text/plain": [
       "            State  Participation  English  Math  Reading  Science  Composite\n",
       "47       Virginia           0.29     23.5  23.3     24.6     23.5       23.8\n",
       "48     Washington           0.29     20.9  21.9     22.1     22.0       21.9\n",
       "49  West Virginia           0.69     20.0  19.4     21.2     20.5       20.4\n",
       "50      Wisconsin           1.00     19.7  20.4     20.6     20.9       20.5\n",
       "51        Wyoming           1.00     19.4  19.8     20.8     20.6       20.2"
      ]
     },
     "execution_count": 23,
     "metadata": {},
     "output_type": "execute_result"
    }
   ],
   "source": [
    "#Code:\n",
    "act_2017.tail()"
   ]
  },
  {
   "cell_type": "markdown",
   "metadata": {},
   "source": [
    "#### 7. Rename Columns\n",
    "Change the names of the columns to more expressive names so that you can tell the difference the SAT columns and the ACT columns. Your solution should map all column names being changed at once (no repeated singular name-changes). **We will be combining these data with some of the data from 2018, and so you should name columns in an appropriate way**.\n",
    "\n",
    "**Guidelines**:\n",
    "- Column names should be all lowercase (you will thank yourself when you start pushing data to SQL later in the course)\n",
    "- Column names should not contain spaces (underscores will suffice--this allows for using the `df.column_name` method to access columns in addition to `df['column_name']`.\n",
    "- Column names should be unique and informative (the only feature that we actually share between dataframes is the state)."
   ]
  },
  {
   "cell_type": "code",
   "execution_count": 24,
   "metadata": {},
   "outputs": [],
   "source": [
    "#code\n",
    "sat_2017.columns = ['state', 'sat_2017_participation', 'sat_2017_erw', 'sat_2017_mth', 'sat_2017_total']\n",
    "act_2017.columns = ['state', 'act_2017_participation', 'act_2017_eng', 'act_2017_mth', 'act_2017_rdg', 'act_2017_sci', 'act_2017_composite']"
   ]
  },
  {
   "cell_type": "markdown",
   "metadata": {},
   "source": [
    "#### 8. Create a data dictionary\n",
    "\n",
    "Now that we've fixed our data, and given it appropriate names, let's create a [data dictionary](http://library.ucmerced.edu/node/10249). \n",
    "\n",
    "A data dictionary provides a quick overview of features/variables/columns, alongside data types and descriptions. The more descriptive you can be, the more useful this document is.\n",
    "\n",
    "Example of a Fictional Data Dictionary Entry: \n",
    "\n",
    "|Feature|Type|Dataset|Description|\n",
    "|---|---|---|---|\n",
    "|**county_pop**|*integer*|2010 census|The population of the county (units in thousands, where 2.5 represents 2500 people).| \n",
    "|**per_poverty**|*float*|2010 census|The percent of the county over the age of 18 living below the 200% of official US poverty rate (units percent to two decimal places 98.10 means 98.1%)|\n",
    "\n",
    "[Here's a quick link to a short guide for formatting markdown in Jupyter notebooks](https://jupyter-notebook.readthedocs.io/en/stable/examples/Notebook/Working%20With%20Markdown%20Cells.html).\n",
    "\n",
    "Provided is the skeleton for formatting a markdown table, with columns headers that will help you create a data dictionary to quickly summarize your data, as well as some examples. **This would be a great thing to copy and paste into your custom README for this project.**"
   ]
  },
  {
   "cell_type": "code",
   "execution_count": 25,
   "metadata": {},
   "outputs": [],
   "source": [
    "# Housing the details\n",
    "\n",
    "data_dictionary = {'Feature': ['state', 'sat_2017_participation', 'sat_2017_erw', 'sat_2017_mth','sat_2017_total', 'act_2017_participation', 'act_2017_eng',\n",
    "       'act_2017_mth', 'act_2017_rdg', 'act_2017_sci', 'act_2017_composite',\n",
    "       'sat_2018_participation', 'sat_2018_erw', 'sat_2018_mth',\n",
    "       'sat_2018_total', 'act_2018_participation', 'act_2018_composite',\n",
    "       'act_2018_eng', 'act_2018_mth', 'act_2018_rdg', 'act_2018_sci'], \n",
    "                   'Type': ['object', 'float', 'integer', 'integer', 'integer', 'float', 'float', 'float', 'float', 'float', 'float', 'float', 'integer', 'integer', 'integer', 'float', 'float', 'float', 'float', 'float', 'float'],\n",
    "                  'Dataset': ['final', 'final', 'final', 'final', 'final', 'final', 'final', 'final', 'final', 'final', 'final', 'final', 'final', 'final', 'final', 'final', 'final', 'final', 'final', 'final', 'final'],\n",
    "                  'Description': ['The names of the 50 states of the USA', 'The SAT 2017 participation rate of each state by % (e.g. 0.4 = 40%)', 'The score for SAT 2017 Evidence-Based Reading & Writing', 'The score for SAT 2017 Math', 'The total score for SAT 2017', 'The ACT 2017 participation rate of each state by % (e.g. 0.4 = 40%)', 'The score for ACT 2017 English', 'The score for ACT 2017 Math', 'The score for ACT 2017 Reading', 'The score for ACT 2017 Science', 'The composite score for ACT 2017', 'The SAT 2018 participation rate of each state by % (e.g. 0.4 = 40%)', 'The score for SAT 2018 Evidence-Based Reading & Writing', 'The score for SAT 2018 Math', 'The total score for SAT 2018', 'The ACT 2018 participation rate of each state by % (e.g. 0.4 = 40%)', 'The score for ACT 2018 English', 'The score for ACT 2018 Math', 'The score for ACT 2018 Reading', 'The score for ACT 2018 Science', 'The composite score for ACT 2018']}"
   ]
  },
  {
   "cell_type": "code",
   "execution_count": 26,
   "metadata": {},
   "outputs": [
    {
     "data": {
      "text/html": [
       "<div>\n",
       "<style scoped>\n",
       "    .dataframe tbody tr th:only-of-type {\n",
       "        vertical-align: middle;\n",
       "    }\n",
       "\n",
       "    .dataframe tbody tr th {\n",
       "        vertical-align: top;\n",
       "    }\n",
       "\n",
       "    .dataframe thead th {\n",
       "        text-align: right;\n",
       "    }\n",
       "</style>\n",
       "<table border=\"1\" class=\"dataframe\">\n",
       "  <thead>\n",
       "    <tr style=\"text-align: right;\">\n",
       "      <th></th>\n",
       "      <th>Type</th>\n",
       "      <th>Dataset</th>\n",
       "      <th>Description</th>\n",
       "    </tr>\n",
       "    <tr>\n",
       "      <th>Feature</th>\n",
       "      <th></th>\n",
       "      <th></th>\n",
       "      <th></th>\n",
       "    </tr>\n",
       "  </thead>\n",
       "  <tbody>\n",
       "    <tr>\n",
       "      <td>state</td>\n",
       "      <td>object</td>\n",
       "      <td>final</td>\n",
       "      <td>The names of the 50 states of the USA</td>\n",
       "    </tr>\n",
       "    <tr>\n",
       "      <td>sat_2017_participation</td>\n",
       "      <td>float</td>\n",
       "      <td>final</td>\n",
       "      <td>The SAT 2017 participation rate of each state by % (e.g. 0.4 = 40%)</td>\n",
       "    </tr>\n",
       "    <tr>\n",
       "      <td>sat_2017_erw</td>\n",
       "      <td>integer</td>\n",
       "      <td>final</td>\n",
       "      <td>The score for SAT 2017 Evidence-Based Reading &amp; Writing</td>\n",
       "    </tr>\n",
       "    <tr>\n",
       "      <td>sat_2017_mth</td>\n",
       "      <td>integer</td>\n",
       "      <td>final</td>\n",
       "      <td>The score for SAT 2017 Math</td>\n",
       "    </tr>\n",
       "    <tr>\n",
       "      <td>sat_2017_total</td>\n",
       "      <td>integer</td>\n",
       "      <td>final</td>\n",
       "      <td>The total score for SAT 2017</td>\n",
       "    </tr>\n",
       "    <tr>\n",
       "      <td>act_2017_participation</td>\n",
       "      <td>float</td>\n",
       "      <td>final</td>\n",
       "      <td>The ACT 2017 participation rate of each state by % (e.g. 0.4 = 40%)</td>\n",
       "    </tr>\n",
       "    <tr>\n",
       "      <td>act_2017_eng</td>\n",
       "      <td>float</td>\n",
       "      <td>final</td>\n",
       "      <td>The score for ACT 2017 English</td>\n",
       "    </tr>\n",
       "    <tr>\n",
       "      <td>act_2017_mth</td>\n",
       "      <td>float</td>\n",
       "      <td>final</td>\n",
       "      <td>The score for ACT 2017 Math</td>\n",
       "    </tr>\n",
       "    <tr>\n",
       "      <td>act_2017_rdg</td>\n",
       "      <td>float</td>\n",
       "      <td>final</td>\n",
       "      <td>The score for ACT 2017 Reading</td>\n",
       "    </tr>\n",
       "    <tr>\n",
       "      <td>act_2017_sci</td>\n",
       "      <td>float</td>\n",
       "      <td>final</td>\n",
       "      <td>The score for ACT 2017 Science</td>\n",
       "    </tr>\n",
       "    <tr>\n",
       "      <td>act_2017_composite</td>\n",
       "      <td>float</td>\n",
       "      <td>final</td>\n",
       "      <td>The composite score for ACT 2017</td>\n",
       "    </tr>\n",
       "    <tr>\n",
       "      <td>sat_2018_participation</td>\n",
       "      <td>float</td>\n",
       "      <td>final</td>\n",
       "      <td>The SAT 2018 participation rate of each state by % (e.g. 0.4 = 40%)</td>\n",
       "    </tr>\n",
       "    <tr>\n",
       "      <td>sat_2018_erw</td>\n",
       "      <td>integer</td>\n",
       "      <td>final</td>\n",
       "      <td>The score for SAT 2018 Evidence-Based Reading &amp; Writing</td>\n",
       "    </tr>\n",
       "    <tr>\n",
       "      <td>sat_2018_mth</td>\n",
       "      <td>integer</td>\n",
       "      <td>final</td>\n",
       "      <td>The score for SAT 2018 Math</td>\n",
       "    </tr>\n",
       "    <tr>\n",
       "      <td>sat_2018_total</td>\n",
       "      <td>integer</td>\n",
       "      <td>final</td>\n",
       "      <td>The total score for SAT 2018</td>\n",
       "    </tr>\n",
       "    <tr>\n",
       "      <td>act_2018_participation</td>\n",
       "      <td>float</td>\n",
       "      <td>final</td>\n",
       "      <td>The ACT 2018 participation rate of each state by % (e.g. 0.4 = 40%)</td>\n",
       "    </tr>\n",
       "    <tr>\n",
       "      <td>act_2018_composite</td>\n",
       "      <td>float</td>\n",
       "      <td>final</td>\n",
       "      <td>The score for ACT 2018 English</td>\n",
       "    </tr>\n",
       "    <tr>\n",
       "      <td>act_2018_eng</td>\n",
       "      <td>float</td>\n",
       "      <td>final</td>\n",
       "      <td>The score for ACT 2018 Math</td>\n",
       "    </tr>\n",
       "    <tr>\n",
       "      <td>act_2018_mth</td>\n",
       "      <td>float</td>\n",
       "      <td>final</td>\n",
       "      <td>The score for ACT 2018 Reading</td>\n",
       "    </tr>\n",
       "    <tr>\n",
       "      <td>act_2018_rdg</td>\n",
       "      <td>float</td>\n",
       "      <td>final</td>\n",
       "      <td>The score for ACT 2018 Science</td>\n",
       "    </tr>\n",
       "    <tr>\n",
       "      <td>act_2018_sci</td>\n",
       "      <td>float</td>\n",
       "      <td>final</td>\n",
       "      <td>The composite score for ACT 2018</td>\n",
       "    </tr>\n",
       "  </tbody>\n",
       "</table>\n",
       "</div>"
      ],
      "text/plain": [
       "                           Type Dataset  \\\n",
       "Feature                                   \n",
       "state                    object   final   \n",
       "sat_2017_participation    float   final   \n",
       "sat_2017_erw            integer   final   \n",
       "sat_2017_mth            integer   final   \n",
       "sat_2017_total          integer   final   \n",
       "act_2017_participation    float   final   \n",
       "act_2017_eng              float   final   \n",
       "act_2017_mth              float   final   \n",
       "act_2017_rdg              float   final   \n",
       "act_2017_sci              float   final   \n",
       "act_2017_composite        float   final   \n",
       "sat_2018_participation    float   final   \n",
       "sat_2018_erw            integer   final   \n",
       "sat_2018_mth            integer   final   \n",
       "sat_2018_total          integer   final   \n",
       "act_2018_participation    float   final   \n",
       "act_2018_composite        float   final   \n",
       "act_2018_eng              float   final   \n",
       "act_2018_mth              float   final   \n",
       "act_2018_rdg              float   final   \n",
       "act_2018_sci              float   final   \n",
       "\n",
       "                                                                                Description  \n",
       "Feature                                                                                      \n",
       "state                                                 The names of the 50 states of the USA  \n",
       "sat_2017_participation  The SAT 2017 participation rate of each state by % (e.g. 0.4 = 40%)  \n",
       "sat_2017_erw                        The score for SAT 2017 Evidence-Based Reading & Writing  \n",
       "sat_2017_mth                                                    The score for SAT 2017 Math  \n",
       "sat_2017_total                                                 The total score for SAT 2017  \n",
       "act_2017_participation  The ACT 2017 participation rate of each state by % (e.g. 0.4 = 40%)  \n",
       "act_2017_eng                                                 The score for ACT 2017 English  \n",
       "act_2017_mth                                                    The score for ACT 2017 Math  \n",
       "act_2017_rdg                                                 The score for ACT 2017 Reading  \n",
       "act_2017_sci                                                 The score for ACT 2017 Science  \n",
       "act_2017_composite                                         The composite score for ACT 2017  \n",
       "sat_2018_participation  The SAT 2018 participation rate of each state by % (e.g. 0.4 = 40%)  \n",
       "sat_2018_erw                        The score for SAT 2018 Evidence-Based Reading & Writing  \n",
       "sat_2018_mth                                                    The score for SAT 2018 Math  \n",
       "sat_2018_total                                                 The total score for SAT 2018  \n",
       "act_2018_participation  The ACT 2018 participation rate of each state by % (e.g. 0.4 = 40%)  \n",
       "act_2018_composite                                           The score for ACT 2018 English  \n",
       "act_2018_eng                                                    The score for ACT 2018 Math  \n",
       "act_2018_mth                                                 The score for ACT 2018 Reading  \n",
       "act_2018_rdg                                                 The score for ACT 2018 Science  \n",
       "act_2018_sci                                               The composite score for ACT 2018  "
      ]
     },
     "execution_count": 26,
     "metadata": {},
     "output_type": "execute_result"
    }
   ],
   "source": [
    "# Converting dictionary into a dataframe, 'Feature' set as index\n",
    "\n",
    "dictionary = pd.DataFrame(data_dictionary)\n",
    "dictionary.set_index('Feature', inplace=True)\n",
    "pd.set_option('max_colwidth', 100)\n",
    "\n",
    "dictionary"
   ]
  },
  {
   "cell_type": "markdown",
   "metadata": {},
   "source": [
    "|Feature|Type|Dataset|Description|\n",
    "|---|---|---|---|\n",
    "|column name|int/float/object|ACT/SAT|This is an example| \n"
   ]
  },
  {
   "cell_type": "markdown",
   "metadata": {},
   "source": [
    "#### 9. Drop unnecessary rows\n",
    "\n",
    "One of our dataframes contains an extra row. Identify and remove this from the dataframe."
   ]
  },
  {
   "cell_type": "code",
   "execution_count": 27,
   "metadata": {},
   "outputs": [],
   "source": [
    "#code\n",
    "# Removing the National Average row to be consistent with sat_2017\n",
    "act_2017 = act_2017.drop(axis=0, index=0)"
   ]
  },
  {
   "cell_type": "markdown",
   "metadata": {},
   "source": [
    "#### 10. Merge Dataframes\n",
    "\n",
    "Join the 2017 ACT and SAT dataframes using the state in each dataframe as the key. Assign this to a new variable."
   ]
  },
  {
   "cell_type": "code",
   "execution_count": 28,
   "metadata": {},
   "outputs": [
    {
     "name": "stdout",
     "output_type": "stream",
     "text": [
      "<class 'pandas.core.frame.DataFrame'>\n",
      "Int64Index: 51 entries, 0 to 50\n",
      "Data columns (total 11 columns):\n",
      "state                     51 non-null object\n",
      "sat_2017_participation    51 non-null float64\n",
      "sat_2017_erw              51 non-null int64\n",
      "sat_2017_mth              51 non-null int64\n",
      "sat_2017_total            51 non-null int64\n",
      "act_2017_participation    51 non-null float64\n",
      "act_2017_eng              51 non-null float64\n",
      "act_2017_mth              51 non-null float64\n",
      "act_2017_rdg              51 non-null float64\n",
      "act_2017_sci              51 non-null float64\n",
      "act_2017_composite        51 non-null float64\n",
      "dtypes: float64(7), int64(3), object(1)\n",
      "memory usage: 4.8+ KB\n"
     ]
    }
   ],
   "source": [
    "#Code:\n",
    "results_2017 = pd.merge(sat_2017, act_2017, on='state', how='outer')\n",
    "results_2017.info()"
   ]
  },
  {
   "cell_type": "markdown",
   "metadata": {},
   "source": [
    "#### 11. Save your cleaned, merged dataframe\n",
    "\n",
    "Use a relative path to save out your data as `combined_2017.csv`."
   ]
  },
  {
   "cell_type": "code",
   "execution_count": 29,
   "metadata": {},
   "outputs": [],
   "source": [
    "#code\n",
    "results_2017.to_csv('../data/combined_2017.csv')"
   ]
  },
  {
   "cell_type": "markdown",
   "metadata": {},
   "source": [
    "## 2018 Data Import and Cleaning"
   ]
  },
  {
   "cell_type": "markdown",
   "metadata": {},
   "source": [
    "Links to the 2018 ACT and SAT data are provided in the README. These data live in PDFs, and so you'll get to enjoy practicing some *manual* data collection. Save these data as a CSV in your `data` directory, and import, explore, and clean these data in the same way you did above. **Make sure you comment on your steps so it is clear *why* you are doing each process**."
   ]
  },
  {
   "cell_type": "code",
   "execution_count": 30,
   "metadata": {},
   "outputs": [],
   "source": [
    "# Importing both 2018 csv files\n",
    "sat_2018 = pd.read_csv('../data/sat_2018.csv')\n",
    "act_2018 = pd.read_csv('../data/act_2018_updated.csv')"
   ]
  },
  {
   "cell_type": "code",
   "execution_count": 31,
   "metadata": {},
   "outputs": [
    {
     "name": "stdout",
     "output_type": "stream",
     "text": [
      "<class 'pandas.core.frame.DataFrame'>\n",
      "RangeIndex: 51 entries, 0 to 50\n",
      "Data columns (total 5 columns):\n",
      "State                                 51 non-null object\n",
      "Participation                         51 non-null object\n",
      "Evidence-Based Reading and Writing    51 non-null int64\n",
      "Math                                  51 non-null int64\n",
      "Total                                 51 non-null int64\n",
      "dtypes: int64(3), object(2)\n",
      "memory usage: 2.1+ KB\n"
     ]
    }
   ],
   "source": [
    "# Getting an idea on what we may need to amend\n",
    "sat_2018.info()\n",
    "# From our observations, Participation should be converted from str to float\n",
    "# The columns would need to be renamed as well"
   ]
  },
  {
   "cell_type": "code",
   "execution_count": 32,
   "metadata": {},
   "outputs": [
    {
     "data": {
      "text/html": [
       "<div>\n",
       "<style scoped>\n",
       "    .dataframe tbody tr th:only-of-type {\n",
       "        vertical-align: middle;\n",
       "    }\n",
       "\n",
       "    .dataframe tbody tr th {\n",
       "        vertical-align: top;\n",
       "    }\n",
       "\n",
       "    .dataframe thead th {\n",
       "        text-align: right;\n",
       "    }\n",
       "</style>\n",
       "<table border=\"1\" class=\"dataframe\">\n",
       "  <thead>\n",
       "    <tr style=\"text-align: right;\">\n",
       "      <th></th>\n",
       "      <th>State</th>\n",
       "      <th>Participation</th>\n",
       "      <th>Evidence-Based Reading and Writing</th>\n",
       "      <th>Math</th>\n",
       "      <th>Total</th>\n",
       "    </tr>\n",
       "  </thead>\n",
       "  <tbody>\n",
       "    <tr>\n",
       "      <td>0</td>\n",
       "      <td>Alabama</td>\n",
       "      <td>6%</td>\n",
       "      <td>595</td>\n",
       "      <td>571</td>\n",
       "      <td>1166</td>\n",
       "    </tr>\n",
       "    <tr>\n",
       "      <td>1</td>\n",
       "      <td>Alaska</td>\n",
       "      <td>43%</td>\n",
       "      <td>562</td>\n",
       "      <td>544</td>\n",
       "      <td>1106</td>\n",
       "    </tr>\n",
       "    <tr>\n",
       "      <td>2</td>\n",
       "      <td>Arizona</td>\n",
       "      <td>29%</td>\n",
       "      <td>577</td>\n",
       "      <td>572</td>\n",
       "      <td>1149</td>\n",
       "    </tr>\n",
       "    <tr>\n",
       "      <td>3</td>\n",
       "      <td>Arkansas</td>\n",
       "      <td>5%</td>\n",
       "      <td>592</td>\n",
       "      <td>576</td>\n",
       "      <td>1169</td>\n",
       "    </tr>\n",
       "    <tr>\n",
       "      <td>4</td>\n",
       "      <td>California</td>\n",
       "      <td>60%</td>\n",
       "      <td>540</td>\n",
       "      <td>536</td>\n",
       "      <td>1076</td>\n",
       "    </tr>\n",
       "  </tbody>\n",
       "</table>\n",
       "</div>"
      ],
      "text/plain": [
       "        State Participation  Evidence-Based Reading and Writing  Math  Total\n",
       "0     Alabama            6%                                 595   571   1166\n",
       "1      Alaska           43%                                 562   544   1106\n",
       "2     Arizona           29%                                 577   572   1149\n",
       "3    Arkansas            5%                                 592   576   1169\n",
       "4  California           60%                                 540   536   1076"
      ]
     },
     "execution_count": 32,
     "metadata": {},
     "output_type": "execute_result"
    }
   ],
   "source": [
    "sat_2018.head()"
   ]
  },
  {
   "cell_type": "code",
   "execution_count": 33,
   "metadata": {},
   "outputs": [
    {
     "name": "stdout",
     "output_type": "stream",
     "text": [
      "<class 'pandas.core.frame.DataFrame'>\n",
      "RangeIndex: 51 entries, 0 to 50\n",
      "Data columns (total 7 columns):\n",
      "State                            51 non-null object\n",
      "Percentage of Students Tested    51 non-null int64\n",
      "Average Composite Score          51 non-null float64\n",
      "Average English Score            51 non-null float64\n",
      "Average Math Score               51 non-null float64\n",
      "Average Reading Score            51 non-null float64\n",
      "Average Science Score            51 non-null float64\n",
      "dtypes: float64(5), int64(1), object(1)\n",
      "memory usage: 2.9+ KB\n"
     ]
    }
   ],
   "source": [
    "# Our observations here detects that the module columns are missing\n",
    "# Participation should be converted from str to float\n",
    "act_2018.info()"
   ]
  },
  {
   "cell_type": "code",
   "execution_count": 34,
   "metadata": {},
   "outputs": [
    {
     "data": {
      "text/html": [
       "<div>\n",
       "<style scoped>\n",
       "    .dataframe tbody tr th:only-of-type {\n",
       "        vertical-align: middle;\n",
       "    }\n",
       "\n",
       "    .dataframe tbody tr th {\n",
       "        vertical-align: top;\n",
       "    }\n",
       "\n",
       "    .dataframe thead th {\n",
       "        text-align: right;\n",
       "    }\n",
       "</style>\n",
       "<table border=\"1\" class=\"dataframe\">\n",
       "  <thead>\n",
       "    <tr style=\"text-align: right;\">\n",
       "      <th></th>\n",
       "      <th>State</th>\n",
       "      <th>Percentage of Students Tested</th>\n",
       "      <th>Average Composite Score</th>\n",
       "      <th>Average English Score</th>\n",
       "      <th>Average Math Score</th>\n",
       "      <th>Average Reading Score</th>\n",
       "      <th>Average Science Score</th>\n",
       "    </tr>\n",
       "  </thead>\n",
       "  <tbody>\n",
       "    <tr>\n",
       "      <td>0</td>\n",
       "      <td>Alabama</td>\n",
       "      <td>100</td>\n",
       "      <td>19.1</td>\n",
       "      <td>18.9</td>\n",
       "      <td>18.3</td>\n",
       "      <td>19.6</td>\n",
       "      <td>19.0</td>\n",
       "    </tr>\n",
       "    <tr>\n",
       "      <td>1</td>\n",
       "      <td>Alaska</td>\n",
       "      <td>33</td>\n",
       "      <td>20.8</td>\n",
       "      <td>19.8</td>\n",
       "      <td>20.6</td>\n",
       "      <td>21.6</td>\n",
       "      <td>20.7</td>\n",
       "    </tr>\n",
       "    <tr>\n",
       "      <td>2</td>\n",
       "      <td>Arizona</td>\n",
       "      <td>66</td>\n",
       "      <td>19.2</td>\n",
       "      <td>18.2</td>\n",
       "      <td>19.4</td>\n",
       "      <td>19.5</td>\n",
       "      <td>19.2</td>\n",
       "    </tr>\n",
       "    <tr>\n",
       "      <td>3</td>\n",
       "      <td>Arkansas</td>\n",
       "      <td>100</td>\n",
       "      <td>19.4</td>\n",
       "      <td>19.1</td>\n",
       "      <td>18.9</td>\n",
       "      <td>19.7</td>\n",
       "      <td>19.4</td>\n",
       "    </tr>\n",
       "    <tr>\n",
       "      <td>4</td>\n",
       "      <td>California</td>\n",
       "      <td>27</td>\n",
       "      <td>22.7</td>\n",
       "      <td>22.5</td>\n",
       "      <td>22.5</td>\n",
       "      <td>23.0</td>\n",
       "      <td>22.1</td>\n",
       "    </tr>\n",
       "  </tbody>\n",
       "</table>\n",
       "</div>"
      ],
      "text/plain": [
       "        State  Percentage of Students Tested  Average Composite Score  \\\n",
       "0     Alabama                            100                     19.1   \n",
       "1      Alaska                             33                     20.8   \n",
       "2     Arizona                             66                     19.2   \n",
       "3    Arkansas                            100                     19.4   \n",
       "4  California                             27                     22.7   \n",
       "\n",
       "   Average English Score  Average Math Score  Average Reading Score  \\\n",
       "0                   18.9                18.3                   19.6   \n",
       "1                   19.8                20.6                   21.6   \n",
       "2                   18.2                19.4                   19.5   \n",
       "3                   19.1                18.9                   19.7   \n",
       "4                   22.5                22.5                   23.0   \n",
       "\n",
       "   Average Science Score  \n",
       "0                   19.0  \n",
       "1                   20.7  \n",
       "2                   19.2  \n",
       "3                   19.4  \n",
       "4                   22.1  "
      ]
     },
     "execution_count": 34,
     "metadata": {},
     "output_type": "execute_result"
    }
   ],
   "source": [
    "# Based on our observations, Percentage of Students Tested is an integer rather than a float\n",
    "act_2018.head()"
   ]
  },
  {
   "cell_type": "code",
   "execution_count": 35,
   "metadata": {},
   "outputs": [],
   "source": [
    "# To summarise our amendments for 2018:\n",
    "# - sat_2018\n",
    "# 1. Change column names\n",
    "# 2. Change Participation type from str to float\n",
    "\n",
    "# - act_2018\n",
    "# 1. Change column names\n",
    "# 2. Change Participation type from int to float\n",
    "\n",
    "#For some of the amendments, we will be re-using functions used for 2017 such as the str to float conversion"
   ]
  },
  {
   "cell_type": "code",
   "execution_count": 36,
   "metadata": {},
   "outputs": [
    {
     "name": "stdout",
     "output_type": "stream",
     "text": [
      "<class 'pandas.core.frame.DataFrame'>\n",
      "RangeIndex: 51 entries, 0 to 50\n",
      "Data columns (total 5 columns):\n",
      "State                                 51 non-null object\n",
      "Participation                         51 non-null float64\n",
      "Evidence-Based Reading and Writing    51 non-null int64\n",
      "Math                                  51 non-null int64\n",
      "Total                                 51 non-null int64\n",
      "dtypes: float64(1), int64(3), object(1)\n",
      "memory usage: 2.1+ KB\n"
     ]
    }
   ],
   "source": [
    "# Converting sat_2018's participation from str to float\n",
    "sat_2018['Participation'] = sat_2018['Participation'].apply(percentage_change)\n",
    "sat_2018.info()"
   ]
  },
  {
   "cell_type": "code",
   "execution_count": 37,
   "metadata": {},
   "outputs": [
    {
     "name": "stdout",
     "output_type": "stream",
     "text": [
      "<class 'pandas.core.frame.DataFrame'>\n",
      "RangeIndex: 51 entries, 0 to 50\n",
      "Data columns (total 7 columns):\n",
      "State                            51 non-null object\n",
      "Percentage of Students Tested    51 non-null float64\n",
      "Average Composite Score          51 non-null float64\n",
      "Average English Score            51 non-null float64\n",
      "Average Math Score               51 non-null float64\n",
      "Average Reading Score            51 non-null float64\n",
      "Average Science Score            51 non-null float64\n",
      "dtypes: float64(6), object(1)\n",
      "memory usage: 2.9+ KB\n"
     ]
    }
   ],
   "source": [
    "# Using a lambda function to convert tested integer into float\n",
    "act_2018['Percentage of Students Tested'] = act_2018['Percentage of Students Tested'].apply(lambda thiscell: float(thiscell)/100)\n",
    "act_2018.info()"
   ]
  },
  {
   "cell_type": "code",
   "execution_count": 38,
   "metadata": {},
   "outputs": [],
   "source": [
    "# Renaming both 2018 datasets' columns\n",
    "# act_2018 column is ordered differently from act_2017\n",
    "sat_2018.columns = ['state', 'sat_2018_participation', 'sat_2018_erw', 'sat_2018_mth', 'sat_2018_total']\n",
    "act_2018.columns = ['state', 'act_2018_participation', 'act_2018_composite', 'act_2018_eng', 'act_2018_mth', 'act_2018_rdg', 'act_2018_sci']"
   ]
  },
  {
   "cell_type": "markdown",
   "metadata": {},
   "source": [
    "#### Combine your 2017 and 2018 data into a single dataframe\n",
    "Joining on state names should work, assuming you formatted all your state names identically. Make sure none of your columns (other than state) have identical names. Do yourself a favor and decide if you're encoding participation rates as floats or integers and standardize this across your datasets.\n",
    "\n",
    "Save the contents of this merged dataframe as `final.csv`.\n",
    "\n",
    "**Use this combined dataframe for the remainder of the project**."
   ]
  },
  {
   "cell_type": "code",
   "execution_count": 39,
   "metadata": {},
   "outputs": [
    {
     "name": "stdout",
     "output_type": "stream",
     "text": [
      "<class 'pandas.core.frame.DataFrame'>\n",
      "Int64Index: 51 entries, 0 to 50\n",
      "Data columns (total 11 columns):\n",
      "state                     51 non-null object\n",
      "sat_2018_participation    51 non-null float64\n",
      "sat_2018_erw              51 non-null int64\n",
      "sat_2018_mth              51 non-null int64\n",
      "sat_2018_total            51 non-null int64\n",
      "act_2018_participation    51 non-null float64\n",
      "act_2018_composite        51 non-null float64\n",
      "act_2018_eng              51 non-null float64\n",
      "act_2018_mth              51 non-null float64\n",
      "act_2018_rdg              51 non-null float64\n",
      "act_2018_sci              51 non-null float64\n",
      "dtypes: float64(7), int64(3), object(1)\n",
      "memory usage: 4.8+ KB\n"
     ]
    }
   ],
   "source": [
    "# Merging sat_2018 and act_2018 dataframes together\n",
    "results_2018 = pd.merge(sat_2018, act_2018, on='state', how='outer')\n",
    "results_2018.info()"
   ]
  },
  {
   "cell_type": "code",
   "execution_count": 40,
   "metadata": {
    "scrolled": true
   },
   "outputs": [
    {
     "name": "stdout",
     "output_type": "stream",
     "text": [
      "<class 'pandas.core.frame.DataFrame'>\n",
      "Int64Index: 51 entries, 0 to 50\n",
      "Data columns (total 21 columns):\n",
      "state                     51 non-null object\n",
      "sat_2017_participation    51 non-null float64\n",
      "sat_2017_erw              51 non-null int64\n",
      "sat_2017_mth              51 non-null int64\n",
      "sat_2017_total            51 non-null int64\n",
      "act_2017_participation    51 non-null float64\n",
      "act_2017_eng              51 non-null float64\n",
      "act_2017_mth              51 non-null float64\n",
      "act_2017_rdg              51 non-null float64\n",
      "act_2017_sci              51 non-null float64\n",
      "act_2017_composite        51 non-null float64\n",
      "sat_2018_participation    51 non-null float64\n",
      "sat_2018_erw              51 non-null int64\n",
      "sat_2018_mth              51 non-null int64\n",
      "sat_2018_total            51 non-null int64\n",
      "act_2018_participation    51 non-null float64\n",
      "act_2018_composite        51 non-null float64\n",
      "act_2018_eng              51 non-null float64\n",
      "act_2018_mth              51 non-null float64\n",
      "act_2018_rdg              51 non-null float64\n",
      "act_2018_sci              51 non-null float64\n",
      "dtypes: float64(14), int64(6), object(1)\n",
      "memory usage: 8.8+ KB\n"
     ]
    }
   ],
   "source": [
    "# Merging 2017 and 2018 into one final.csv\n",
    "final = pd.merge(results_2017, results_2018, on='state', how='outer')\n",
    "final.info()"
   ]
  },
  {
   "cell_type": "code",
   "execution_count": 41,
   "metadata": {},
   "outputs": [],
   "source": [
    "# Save final.csv into relative path\n",
    "results_2017.to_csv('../data/final.csv')"
   ]
  },
  {
   "cell_type": "markdown",
   "metadata": {},
   "source": [
    "## Exploratory Data Analysis\n",
    "\n",
    "\n",
    "### Summary Statistics\n",
    "Transpose the output of pandas `describe` method to create a quick overview of each numeric feature."
   ]
  },
  {
   "cell_type": "code",
   "execution_count": 42,
   "metadata": {},
   "outputs": [
    {
     "data": {
      "text/html": [
       "<div>\n",
       "<style scoped>\n",
       "    .dataframe tbody tr th:only-of-type {\n",
       "        vertical-align: middle;\n",
       "    }\n",
       "\n",
       "    .dataframe tbody tr th {\n",
       "        vertical-align: top;\n",
       "    }\n",
       "\n",
       "    .dataframe thead th {\n",
       "        text-align: right;\n",
       "    }\n",
       "</style>\n",
       "<table border=\"1\" class=\"dataframe\">\n",
       "  <thead>\n",
       "    <tr style=\"text-align: right;\">\n",
       "      <th></th>\n",
       "      <th>sat_2017_participation</th>\n",
       "      <th>sat_2017_erw</th>\n",
       "      <th>sat_2017_mth</th>\n",
       "      <th>sat_2017_total</th>\n",
       "      <th>act_2017_participation</th>\n",
       "      <th>act_2017_eng</th>\n",
       "      <th>act_2017_mth</th>\n",
       "      <th>act_2017_rdg</th>\n",
       "      <th>act_2017_sci</th>\n",
       "      <th>act_2017_composite</th>\n",
       "      <th>sat_2018_participation</th>\n",
       "      <th>sat_2018_erw</th>\n",
       "      <th>sat_2018_mth</th>\n",
       "      <th>sat_2018_total</th>\n",
       "      <th>act_2018_participation</th>\n",
       "      <th>act_2018_composite</th>\n",
       "      <th>act_2018_eng</th>\n",
       "      <th>act_2018_mth</th>\n",
       "      <th>act_2018_rdg</th>\n",
       "      <th>act_2018_sci</th>\n",
       "    </tr>\n",
       "  </thead>\n",
       "  <tbody>\n",
       "    <tr>\n",
       "      <td>count</td>\n",
       "      <td>51.000000</td>\n",
       "      <td>51.000000</td>\n",
       "      <td>51.000000</td>\n",
       "      <td>51.000000</td>\n",
       "      <td>51.000000</td>\n",
       "      <td>51.000000</td>\n",
       "      <td>51.000000</td>\n",
       "      <td>51.000000</td>\n",
       "      <td>51.000000</td>\n",
       "      <td>51.000000</td>\n",
       "      <td>51.000000</td>\n",
       "      <td>51.000000</td>\n",
       "      <td>51.000000</td>\n",
       "      <td>51.000000</td>\n",
       "      <td>51.000000</td>\n",
       "      <td>51.000000</td>\n",
       "      <td>51.000000</td>\n",
       "      <td>51.000000</td>\n",
       "      <td>51.000000</td>\n",
       "      <td>51.000000</td>\n",
       "    </tr>\n",
       "    <tr>\n",
       "      <td>mean</td>\n",
       "      <td>0.398039</td>\n",
       "      <td>569.117647</td>\n",
       "      <td>556.882353</td>\n",
       "      <td>1126.098039</td>\n",
       "      <td>0.652549</td>\n",
       "      <td>20.931373</td>\n",
       "      <td>21.182353</td>\n",
       "      <td>22.013725</td>\n",
       "      <td>21.450980</td>\n",
       "      <td>21.519608</td>\n",
       "      <td>0.457451</td>\n",
       "      <td>563.686275</td>\n",
       "      <td>556.235294</td>\n",
       "      <td>1120.019608</td>\n",
       "      <td>0.616471</td>\n",
       "      <td>21.486275</td>\n",
       "      <td>20.988235</td>\n",
       "      <td>21.125490</td>\n",
       "      <td>22.015686</td>\n",
       "      <td>21.345098</td>\n",
       "    </tr>\n",
       "    <tr>\n",
       "      <td>std</td>\n",
       "      <td>0.352766</td>\n",
       "      <td>45.666901</td>\n",
       "      <td>47.121395</td>\n",
       "      <td>92.494812</td>\n",
       "      <td>0.321408</td>\n",
       "      <td>2.353677</td>\n",
       "      <td>1.981989</td>\n",
       "      <td>2.067271</td>\n",
       "      <td>1.739353</td>\n",
       "      <td>2.020695</td>\n",
       "      <td>0.373143</td>\n",
       "      <td>47.502627</td>\n",
       "      <td>47.772623</td>\n",
       "      <td>94.155083</td>\n",
       "      <td>0.340810</td>\n",
       "      <td>2.106278</td>\n",
       "      <td>2.446356</td>\n",
       "      <td>2.035765</td>\n",
       "      <td>2.167245</td>\n",
       "      <td>1.870114</td>\n",
       "    </tr>\n",
       "    <tr>\n",
       "      <td>min</td>\n",
       "      <td>0.020000</td>\n",
       "      <td>482.000000</td>\n",
       "      <td>468.000000</td>\n",
       "      <td>950.000000</td>\n",
       "      <td>0.080000</td>\n",
       "      <td>16.300000</td>\n",
       "      <td>18.000000</td>\n",
       "      <td>18.100000</td>\n",
       "      <td>18.200000</td>\n",
       "      <td>17.800000</td>\n",
       "      <td>0.020000</td>\n",
       "      <td>480.000000</td>\n",
       "      <td>480.000000</td>\n",
       "      <td>977.000000</td>\n",
       "      <td>0.070000</td>\n",
       "      <td>17.700000</td>\n",
       "      <td>16.600000</td>\n",
       "      <td>17.800000</td>\n",
       "      <td>18.000000</td>\n",
       "      <td>17.900000</td>\n",
       "    </tr>\n",
       "    <tr>\n",
       "      <td>25%</td>\n",
       "      <td>0.040000</td>\n",
       "      <td>533.500000</td>\n",
       "      <td>523.500000</td>\n",
       "      <td>1055.500000</td>\n",
       "      <td>0.310000</td>\n",
       "      <td>19.000000</td>\n",
       "      <td>19.400000</td>\n",
       "      <td>20.450000</td>\n",
       "      <td>19.950000</td>\n",
       "      <td>19.800000</td>\n",
       "      <td>0.045000</td>\n",
       "      <td>534.500000</td>\n",
       "      <td>522.500000</td>\n",
       "      <td>1057.500000</td>\n",
       "      <td>0.285000</td>\n",
       "      <td>19.950000</td>\n",
       "      <td>19.100000</td>\n",
       "      <td>19.400000</td>\n",
       "      <td>20.450000</td>\n",
       "      <td>19.850000</td>\n",
       "    </tr>\n",
       "    <tr>\n",
       "      <td>50%</td>\n",
       "      <td>0.380000</td>\n",
       "      <td>559.000000</td>\n",
       "      <td>548.000000</td>\n",
       "      <td>1107.000000</td>\n",
       "      <td>0.690000</td>\n",
       "      <td>20.700000</td>\n",
       "      <td>20.900000</td>\n",
       "      <td>21.800000</td>\n",
       "      <td>21.300000</td>\n",
       "      <td>21.400000</td>\n",
       "      <td>0.520000</td>\n",
       "      <td>552.000000</td>\n",
       "      <td>544.000000</td>\n",
       "      <td>1098.000000</td>\n",
       "      <td>0.660000</td>\n",
       "      <td>21.300000</td>\n",
       "      <td>20.200000</td>\n",
       "      <td>20.700000</td>\n",
       "      <td>21.600000</td>\n",
       "      <td>21.100000</td>\n",
       "    </tr>\n",
       "    <tr>\n",
       "      <td>75%</td>\n",
       "      <td>0.660000</td>\n",
       "      <td>613.000000</td>\n",
       "      <td>599.000000</td>\n",
       "      <td>1212.000000</td>\n",
       "      <td>1.000000</td>\n",
       "      <td>23.300000</td>\n",
       "      <td>23.100000</td>\n",
       "      <td>24.150000</td>\n",
       "      <td>23.200000</td>\n",
       "      <td>23.600000</td>\n",
       "      <td>0.775000</td>\n",
       "      <td>610.500000</td>\n",
       "      <td>593.500000</td>\n",
       "      <td>1204.000000</td>\n",
       "      <td>1.000000</td>\n",
       "      <td>23.550000</td>\n",
       "      <td>23.700000</td>\n",
       "      <td>23.150000</td>\n",
       "      <td>24.100000</td>\n",
       "      <td>23.050000</td>\n",
       "    </tr>\n",
       "    <tr>\n",
       "      <td>max</td>\n",
       "      <td>1.000000</td>\n",
       "      <td>644.000000</td>\n",
       "      <td>651.000000</td>\n",
       "      <td>1295.000000</td>\n",
       "      <td>1.000000</td>\n",
       "      <td>25.500000</td>\n",
       "      <td>25.300000</td>\n",
       "      <td>26.000000</td>\n",
       "      <td>24.900000</td>\n",
       "      <td>25.500000</td>\n",
       "      <td>1.000000</td>\n",
       "      <td>643.000000</td>\n",
       "      <td>655.000000</td>\n",
       "      <td>1298.000000</td>\n",
       "      <td>1.000000</td>\n",
       "      <td>25.600000</td>\n",
       "      <td>26.000000</td>\n",
       "      <td>25.200000</td>\n",
       "      <td>26.100000</td>\n",
       "      <td>24.900000</td>\n",
       "    </tr>\n",
       "  </tbody>\n",
       "</table>\n",
       "</div>"
      ],
      "text/plain": [
       "       sat_2017_participation  sat_2017_erw  sat_2017_mth  sat_2017_total  \\\n",
       "count               51.000000     51.000000     51.000000       51.000000   \n",
       "mean                 0.398039    569.117647    556.882353     1126.098039   \n",
       "std                  0.352766     45.666901     47.121395       92.494812   \n",
       "min                  0.020000    482.000000    468.000000      950.000000   \n",
       "25%                  0.040000    533.500000    523.500000     1055.500000   \n",
       "50%                  0.380000    559.000000    548.000000     1107.000000   \n",
       "75%                  0.660000    613.000000    599.000000     1212.000000   \n",
       "max                  1.000000    644.000000    651.000000     1295.000000   \n",
       "\n",
       "       act_2017_participation  act_2017_eng  act_2017_mth  act_2017_rdg  \\\n",
       "count               51.000000     51.000000     51.000000     51.000000   \n",
       "mean                 0.652549     20.931373     21.182353     22.013725   \n",
       "std                  0.321408      2.353677      1.981989      2.067271   \n",
       "min                  0.080000     16.300000     18.000000     18.100000   \n",
       "25%                  0.310000     19.000000     19.400000     20.450000   \n",
       "50%                  0.690000     20.700000     20.900000     21.800000   \n",
       "75%                  1.000000     23.300000     23.100000     24.150000   \n",
       "max                  1.000000     25.500000     25.300000     26.000000   \n",
       "\n",
       "       act_2017_sci  act_2017_composite  sat_2018_participation  sat_2018_erw  \\\n",
       "count     51.000000           51.000000               51.000000     51.000000   \n",
       "mean      21.450980           21.519608                0.457451    563.686275   \n",
       "std        1.739353            2.020695                0.373143     47.502627   \n",
       "min       18.200000           17.800000                0.020000    480.000000   \n",
       "25%       19.950000           19.800000                0.045000    534.500000   \n",
       "50%       21.300000           21.400000                0.520000    552.000000   \n",
       "75%       23.200000           23.600000                0.775000    610.500000   \n",
       "max       24.900000           25.500000                1.000000    643.000000   \n",
       "\n",
       "       sat_2018_mth  sat_2018_total  act_2018_participation  \\\n",
       "count     51.000000       51.000000               51.000000   \n",
       "mean     556.235294     1120.019608                0.616471   \n",
       "std       47.772623       94.155083                0.340810   \n",
       "min      480.000000      977.000000                0.070000   \n",
       "25%      522.500000     1057.500000                0.285000   \n",
       "50%      544.000000     1098.000000                0.660000   \n",
       "75%      593.500000     1204.000000                1.000000   \n",
       "max      655.000000     1298.000000                1.000000   \n",
       "\n",
       "       act_2018_composite  act_2018_eng  act_2018_mth  act_2018_rdg  \\\n",
       "count           51.000000     51.000000     51.000000     51.000000   \n",
       "mean            21.486275     20.988235     21.125490     22.015686   \n",
       "std              2.106278      2.446356      2.035765      2.167245   \n",
       "min             17.700000     16.600000     17.800000     18.000000   \n",
       "25%             19.950000     19.100000     19.400000     20.450000   \n",
       "50%             21.300000     20.200000     20.700000     21.600000   \n",
       "75%             23.550000     23.700000     23.150000     24.100000   \n",
       "max             25.600000     26.000000     25.200000     26.100000   \n",
       "\n",
       "       act_2018_sci  \n",
       "count     51.000000  \n",
       "mean      21.345098  \n",
       "std        1.870114  \n",
       "min       17.900000  \n",
       "25%       19.850000  \n",
       "50%       21.100000  \n",
       "75%       23.050000  \n",
       "max       24.900000  "
      ]
     },
     "execution_count": 42,
     "metadata": {},
     "output_type": "execute_result"
    }
   ],
   "source": [
    "#Code:\n",
    "final.describe()"
   ]
  },
  {
   "cell_type": "markdown",
   "metadata": {},
   "source": [
    "#### Manually calculate standard deviation\n",
    "\n",
    "$$\\sigma = \\sqrt{\\frac{1}{n}\\sum_{i=1}^n(x_i - \\mu)^2}$$\n",
    "\n",
    "- Write a function to calculate standard deviation using the formula above"
   ]
  },
  {
   "cell_type": "markdown",
   "metadata": {},
   "source": [
    "- Use a **dictionary comprehension** to apply your standard deviation function to each numeric column in the dataframe.  **No loops**  \n",
    "- Assign the output to variable `sd` as a dictionary where: \n",
    "    - Each column name is now a key \n",
    "    - That standard deviation of the column is the value \n",
    "     \n",
    "*Example Output :* `{'ACT_Math': 120, 'ACT_Reading': 120, ...}`"
   ]
  },
  {
   "cell_type": "code",
   "execution_count": 43,
   "metadata": {},
   "outputs": [],
   "source": [
    "# Define a manual calculation to manually compute Standard Deviation\n",
    "\n",
    "def mean(data):\n",
    "    \"\"\"input dataframe column to compute mean for each row item\"\"\"\n",
    "    return float(sum(data) / len(data))\n",
    "\n",
    "def variance(data):\n",
    "    \"\"\"input dataframe column to iterate through each instance (e.g. x = row item, mu = overall mean, and return the mean of the powered result)\"\"\"\n",
    "    mu = mean(data)\n",
    "    return mean([(x - mu) ** 2 for x in data])\n",
    "\n",
    "def stddev(data):\n",
    "    \"\"\"input dataframe column to square root the variance to obtain the standard deviation\"\"\"\n",
    "    return (variance(data))**0.5"
   ]
  },
  {
   "cell_type": "code",
   "execution_count": 44,
   "metadata": {},
   "outputs": [
    {
     "data": {
      "text/plain": [
       "{'sat_2017_participation': 0.3492907076664507,\n",
       " 'sat_2017_erw': 45.21697020437866,\n",
       " 'sat_2017_mth': 46.65713364485503,\n",
       " 'sat_2017_total': 91.58351056778743,\n",
       " 'act_2017_participation': 0.3182417575123181,\n",
       " 'act_2017_eng': 2.3304876369363363,\n",
       " 'act_2017_mth': 1.9624620273436781,\n",
       " 'act_2017_rdg': 2.0469029314842646,\n",
       " 'act_2017_sci': 1.7222161451443676,\n",
       " 'act_2017_composite': 2.000786081581989,\n",
       " 'sat_2018_participation': 0.3694661922353942,\n",
       " 'sat_2018_erw': 47.03460978357609,\n",
       " 'sat_2018_mth': 47.30194550378352,\n",
       " 'sat_2018_total': 93.22742384464433,\n",
       " 'act_2018_participation': 0.33745194881997503,\n",
       " 'act_2018_composite': 2.0855261815801147,\n",
       " 'act_2018_eng': 2.4222536143202795,\n",
       " 'act_2018_mth': 2.015707255555717,\n",
       " 'act_2018_rdg': 2.145891884510421,\n",
       " 'act_2018_sci': 1.8516885484833543}"
      ]
     },
     "execution_count": 44,
     "metadata": {},
     "output_type": "execute_result"
    }
   ],
   "source": [
    "#Code:\n",
    "# By iterating through the dataframe's columns, we apply the standard deviation function onto the columns where data type is either float or int\n",
    "sd = {col.name:stddev(col) for col in [final[row] for row in final.columns if (final[row].dtype=='float64' or final[row].dtype=='int64')]}\n",
    "sd"
   ]
  },
  {
   "cell_type": "markdown",
   "metadata": {},
   "source": [
    "Do your manually calculated standard deviations match up with the output from pandas `describe`? What about numpy's `std` method?"
   ]
  },
  {
   "cell_type": "code",
   "execution_count": 45,
   "metadata": {},
   "outputs": [
    {
     "data": {
      "text/plain": [
       "sat_2017_participation     0.349291\n",
       "sat_2017_erw              45.216970\n",
       "sat_2017_mth              46.657134\n",
       "sat_2017_total            91.583511\n",
       "act_2017_participation     0.318242\n",
       "act_2017_eng               2.330488\n",
       "act_2017_mth               1.962462\n",
       "act_2017_rdg               2.046903\n",
       "act_2017_sci               1.722216\n",
       "act_2017_composite         2.000786\n",
       "sat_2018_participation     0.369466\n",
       "sat_2018_erw              47.034610\n",
       "sat_2018_mth              47.301946\n",
       "sat_2018_total            93.227424\n",
       "act_2018_participation     0.337452\n",
       "act_2018_composite         2.085526\n",
       "act_2018_eng               2.422254\n",
       "act_2018_mth               2.015707\n",
       "act_2018_rdg               2.145892\n",
       "act_2018_sci               1.851689\n",
       "dtype: float64"
      ]
     },
     "execution_count": 45,
     "metadata": {},
     "output_type": "execute_result"
    }
   ],
   "source": [
    "# Comparing sd with numpy std function\n",
    "np.std(final)"
   ]
  },
  {
   "cell_type": "code",
   "execution_count": 46,
   "metadata": {},
   "outputs": [
    {
     "data": {
      "text/plain": [
       "0.0"
      ]
     },
     "execution_count": 46,
     "metadata": {},
     "output_type": "execute_result"
    }
   ],
   "source": [
    "# Comparing np.std(ddof=1) with pandas .describe()\n",
    "np.std(final['sat_2017_participation'], ddof=1) - final['sat_2017_participation'].describe().loc['std']"
   ]
  },
  {
   "cell_type": "code",
   "execution_count": 47,
   "metadata": {},
   "outputs": [
    {
     "data": {
      "text/plain": [
       "0.35276632270013036"
      ]
     },
     "execution_count": 47,
     "metadata": {},
     "output_type": "execute_result"
    }
   ],
   "source": [
    "final['sat_2017_participation'].describe().loc['std']"
   ]
  },
  {
   "cell_type": "markdown",
   "metadata": {},
   "source": [
    "Answer Based on our observations, our manual standard deviation function is in line with numpy's std function. by determining ddof=1, we are able to tie the values with our dataframe's .describe function"
   ]
  },
  {
   "cell_type": "markdown",
   "metadata": {},
   "source": [
    "#### Investigate trends in the data\n",
    "Using sorting and/or masking (along with the `.head` method to not print our entire dataframe), consider the following questions:\n",
    "\n",
    "- Which states have the highest and lowest participation rates for the:\n",
    "    - 2017 SAT?\n",
    "    - 2018 SAT?\n",
    "    - 2017 ACT?\n",
    "    - 2018 ACT?\n",
    "- Which states have the highest and lowest mean total/composite scores for the:\n",
    "    - 2017 SAT?\n",
    "    - 2018 SAT?\n",
    "    - 2017 ACT?\n",
    "    - 2018 ACT?\n",
    "- Do any states with 100% participation on a given test have a rate change year-to-year?\n",
    "- Do any states show have >50% participation on *both* tests either year?\n",
    "\n",
    "Based on what you've just observed, have you identified any states that you're especially interested in? **Make a note of these and state *why* you think they're interesting**.\n",
    "\n",
    "**You should comment on your findings at each step in a markdown cell below your code block**. Make sure you include at least one example of sorting your dataframe by a column, and one example of using boolean filtering (i.e., masking) to select a subset of the dataframe."
   ]
  },
  {
   "cell_type": "markdown",
   "metadata": {},
   "source": [
    "# Summary of Analysis\n",
    "### We will be performing 4 investigations on both exams on both years, the investigations are ordered as:\n",
    "#### - Highest and Lowest Participation Rates\n",
    "#### - Highest and Lowest Mean / Composite Scores\n",
    "#### - 100% Participation for 2017 or 2018\n",
    "#### - Above 50% Participation for both tests"
   ]
  },
  {
   "cell_type": "markdown",
   "metadata": {},
   "source": [
    "## Highest and Lowest (Top 5)\n",
    "#### Here, we analyse each exam for each year by the lowest and highest 5"
   ]
  },
  {
   "cell_type": "markdown",
   "metadata": {},
   "source": [
    "### Participation Rates\n",
    "#### We observe the bottom 5 and top 5 states' participation rates"
   ]
  },
  {
   "cell_type": "markdown",
   "metadata": {},
   "source": [
    "#### SAT 2017"
   ]
  },
  {
   "cell_type": "code",
   "execution_count": 48,
   "metadata": {},
   "outputs": [
    {
     "data": {
      "text/html": [
       "<div>\n",
       "<style scoped>\n",
       "    .dataframe tbody tr th:only-of-type {\n",
       "        vertical-align: middle;\n",
       "    }\n",
       "\n",
       "    .dataframe tbody tr th {\n",
       "        vertical-align: top;\n",
       "    }\n",
       "\n",
       "    .dataframe thead th {\n",
       "        text-align: right;\n",
       "    }\n",
       "</style>\n",
       "<table border=\"1\" class=\"dataframe\">\n",
       "  <thead>\n",
       "    <tr style=\"text-align: right;\">\n",
       "      <th></th>\n",
       "      <th>state</th>\n",
       "      <th>sat_2017_participation</th>\n",
       "    </tr>\n",
       "  </thead>\n",
       "  <tbody>\n",
       "    <tr>\n",
       "      <td>34</td>\n",
       "      <td>North Dakota</td>\n",
       "      <td>0.02</td>\n",
       "    </tr>\n",
       "    <tr>\n",
       "      <td>24</td>\n",
       "      <td>Mississippi</td>\n",
       "      <td>0.02</td>\n",
       "    </tr>\n",
       "    <tr>\n",
       "      <td>15</td>\n",
       "      <td>Iowa</td>\n",
       "      <td>0.02</td>\n",
       "    </tr>\n",
       "    <tr>\n",
       "      <td>25</td>\n",
       "      <td>Missouri</td>\n",
       "      <td>0.03</td>\n",
       "    </tr>\n",
       "    <tr>\n",
       "      <td>44</td>\n",
       "      <td>Utah</td>\n",
       "      <td>0.03</td>\n",
       "    </tr>\n",
       "    <tr>\n",
       "      <td>8</td>\n",
       "      <td>District of Columbia</td>\n",
       "      <td>1.00</td>\n",
       "    </tr>\n",
       "    <tr>\n",
       "      <td>22</td>\n",
       "      <td>Michigan</td>\n",
       "      <td>1.00</td>\n",
       "    </tr>\n",
       "    <tr>\n",
       "      <td>6</td>\n",
       "      <td>Connecticut</td>\n",
       "      <td>1.00</td>\n",
       "    </tr>\n",
       "    <tr>\n",
       "      <td>7</td>\n",
       "      <td>Delaware</td>\n",
       "      <td>1.00</td>\n",
       "    </tr>\n",
       "    <tr>\n",
       "      <td>29</td>\n",
       "      <td>New Hampshire</td>\n",
       "      <td>0.96</td>\n",
       "    </tr>\n",
       "  </tbody>\n",
       "</table>\n",
       "</div>"
      ],
      "text/plain": [
       "                   state  sat_2017_participation\n",
       "34          North Dakota                    0.02\n",
       "24           Mississippi                    0.02\n",
       "15                  Iowa                    0.02\n",
       "25              Missouri                    0.03\n",
       "44                  Utah                    0.03\n",
       "8   District of Columbia                    1.00\n",
       "22              Michigan                    1.00\n",
       "6            Connecticut                    1.00\n",
       "7               Delaware                    1.00\n",
       "29         New Hampshire                    0.96"
      ]
     },
     "execution_count": 48,
     "metadata": {},
     "output_type": "execute_result"
    }
   ],
   "source": [
    "# 2017 SAT Lowest\n",
    "sat2017least = final.sort_values(['sat_2017_participation']).head()\n",
    "\n",
    "# 2017 SAT Highest\n",
    "sat2017most = final.sort_values(['sat_2017_participation'],ascending=False).head()\n",
    "\n",
    "sat2017 = sat2017least.append(sat2017most)\n",
    "sat2017[['state','sat_2017_participation']]"
   ]
  },
  {
   "cell_type": "markdown",
   "metadata": {},
   "source": [
    "#### SAT 2018"
   ]
  },
  {
   "cell_type": "code",
   "execution_count": 49,
   "metadata": {
    "scrolled": true
   },
   "outputs": [
    {
     "data": {
      "text/html": [
       "<div>\n",
       "<style scoped>\n",
       "    .dataframe tbody tr th:only-of-type {\n",
       "        vertical-align: middle;\n",
       "    }\n",
       "\n",
       "    .dataframe tbody tr th {\n",
       "        vertical-align: top;\n",
       "    }\n",
       "\n",
       "    .dataframe thead th {\n",
       "        text-align: right;\n",
       "    }\n",
       "</style>\n",
       "<table border=\"1\" class=\"dataframe\">\n",
       "  <thead>\n",
       "    <tr style=\"text-align: right;\">\n",
       "      <th></th>\n",
       "      <th>state</th>\n",
       "      <th>sat_2018_participation</th>\n",
       "    </tr>\n",
       "  </thead>\n",
       "  <tbody>\n",
       "    <tr>\n",
       "      <td>34</td>\n",
       "      <td>North Dakota</td>\n",
       "      <td>0.02</td>\n",
       "    </tr>\n",
       "    <tr>\n",
       "      <td>50</td>\n",
       "      <td>Wyoming</td>\n",
       "      <td>0.03</td>\n",
       "    </tr>\n",
       "    <tr>\n",
       "      <td>41</td>\n",
       "      <td>South Dakota</td>\n",
       "      <td>0.03</td>\n",
       "    </tr>\n",
       "    <tr>\n",
       "      <td>27</td>\n",
       "      <td>Nebraska</td>\n",
       "      <td>0.03</td>\n",
       "    </tr>\n",
       "    <tr>\n",
       "      <td>49</td>\n",
       "      <td>Wisconsin</td>\n",
       "      <td>0.03</td>\n",
       "    </tr>\n",
       "    <tr>\n",
       "      <td>5</td>\n",
       "      <td>Colorado</td>\n",
       "      <td>1.00</td>\n",
       "    </tr>\n",
       "    <tr>\n",
       "      <td>6</td>\n",
       "      <td>Connecticut</td>\n",
       "      <td>1.00</td>\n",
       "    </tr>\n",
       "    <tr>\n",
       "      <td>7</td>\n",
       "      <td>Delaware</td>\n",
       "      <td>1.00</td>\n",
       "    </tr>\n",
       "    <tr>\n",
       "      <td>22</td>\n",
       "      <td>Michigan</td>\n",
       "      <td>1.00</td>\n",
       "    </tr>\n",
       "    <tr>\n",
       "      <td>12</td>\n",
       "      <td>Idaho</td>\n",
       "      <td>1.00</td>\n",
       "    </tr>\n",
       "  </tbody>\n",
       "</table>\n",
       "</div>"
      ],
      "text/plain": [
       "           state  sat_2018_participation\n",
       "34  North Dakota                    0.02\n",
       "50       Wyoming                    0.03\n",
       "41  South Dakota                    0.03\n",
       "27      Nebraska                    0.03\n",
       "49     Wisconsin                    0.03\n",
       "5       Colorado                    1.00\n",
       "6    Connecticut                    1.00\n",
       "7       Delaware                    1.00\n",
       "22      Michigan                    1.00\n",
       "12         Idaho                    1.00"
      ]
     },
     "execution_count": 49,
     "metadata": {},
     "output_type": "execute_result"
    }
   ],
   "source": [
    "# 2018 SAT Lowest\n",
    "sat2018least = final.sort_values(['sat_2018_participation']).head()\n",
    "\n",
    "# 2018 SAT Highest\n",
    "sat2018most = final.sort_values(['sat_2018_participation'],ascending=False).head()\n",
    "\n",
    "sat2018 = sat2018least.append(sat2018most)\n",
    "sat2018[['state','sat_2018_participation']]"
   ]
  },
  {
   "cell_type": "markdown",
   "metadata": {},
   "source": [
    "#### SAT Participation Findings:\n",
    "##### North Dakota is seen to have extremely poor participation for both years and Conneticut and Michigan both have 100% Participation for both years."
   ]
  },
  {
   "cell_type": "markdown",
   "metadata": {},
   "source": [
    "#### ACT 2017"
   ]
  },
  {
   "cell_type": "code",
   "execution_count": 50,
   "metadata": {
    "scrolled": false
   },
   "outputs": [
    {
     "data": {
      "text/html": [
       "<div>\n",
       "<style scoped>\n",
       "    .dataframe tbody tr th:only-of-type {\n",
       "        vertical-align: middle;\n",
       "    }\n",
       "\n",
       "    .dataframe tbody tr th {\n",
       "        vertical-align: top;\n",
       "    }\n",
       "\n",
       "    .dataframe thead th {\n",
       "        text-align: right;\n",
       "    }\n",
       "</style>\n",
       "<table border=\"1\" class=\"dataframe\">\n",
       "  <thead>\n",
       "    <tr style=\"text-align: right;\">\n",
       "      <th></th>\n",
       "      <th>state</th>\n",
       "      <th>act_2017_participation</th>\n",
       "      <th>sat_2017_participation</th>\n",
       "    </tr>\n",
       "  </thead>\n",
       "  <tbody>\n",
       "    <tr>\n",
       "      <td>19</td>\n",
       "      <td>Maine</td>\n",
       "      <td>0.08</td>\n",
       "      <td>0.95</td>\n",
       "    </tr>\n",
       "    <tr>\n",
       "      <td>29</td>\n",
       "      <td>New Hampshire</td>\n",
       "      <td>0.18</td>\n",
       "      <td>0.96</td>\n",
       "    </tr>\n",
       "    <tr>\n",
       "      <td>7</td>\n",
       "      <td>Delaware</td>\n",
       "      <td>0.18</td>\n",
       "      <td>1.00</td>\n",
       "    </tr>\n",
       "    <tr>\n",
       "      <td>39</td>\n",
       "      <td>Rhode Island</td>\n",
       "      <td>0.21</td>\n",
       "      <td>0.71</td>\n",
       "    </tr>\n",
       "    <tr>\n",
       "      <td>38</td>\n",
       "      <td>Pennsylvania</td>\n",
       "      <td>0.23</td>\n",
       "      <td>0.65</td>\n",
       "    </tr>\n",
       "    <tr>\n",
       "      <td>0</td>\n",
       "      <td>Alabama</td>\n",
       "      <td>1.00</td>\n",
       "      <td>0.05</td>\n",
       "    </tr>\n",
       "    <tr>\n",
       "      <td>17</td>\n",
       "      <td>Kentucky</td>\n",
       "      <td>1.00</td>\n",
       "      <td>0.04</td>\n",
       "    </tr>\n",
       "    <tr>\n",
       "      <td>49</td>\n",
       "      <td>Wisconsin</td>\n",
       "      <td>1.00</td>\n",
       "      <td>0.03</td>\n",
       "    </tr>\n",
       "    <tr>\n",
       "      <td>44</td>\n",
       "      <td>Utah</td>\n",
       "      <td>1.00</td>\n",
       "      <td>0.03</td>\n",
       "    </tr>\n",
       "    <tr>\n",
       "      <td>42</td>\n",
       "      <td>Tennessee</td>\n",
       "      <td>1.00</td>\n",
       "      <td>0.05</td>\n",
       "    </tr>\n",
       "  </tbody>\n",
       "</table>\n",
       "</div>"
      ],
      "text/plain": [
       "            state  act_2017_participation  sat_2017_participation\n",
       "19          Maine                    0.08                    0.95\n",
       "29  New Hampshire                    0.18                    0.96\n",
       "7        Delaware                    0.18                    1.00\n",
       "39   Rhode Island                    0.21                    0.71\n",
       "38   Pennsylvania                    0.23                    0.65\n",
       "0         Alabama                    1.00                    0.05\n",
       "17       Kentucky                    1.00                    0.04\n",
       "49      Wisconsin                    1.00                    0.03\n",
       "44           Utah                    1.00                    0.03\n",
       "42      Tennessee                    1.00                    0.05"
      ]
     },
     "execution_count": 50,
     "metadata": {},
     "output_type": "execute_result"
    }
   ],
   "source": [
    "# 2017 ACT Lowest\n",
    "act2017least = final.sort_values(['act_2017_participation']).head()\n",
    "\n",
    "# 2017 ACT Highest\n",
    "act2017most = final.sort_values(['act_2017_participation'],ascending=False).head()\n",
    "\n",
    "act2017 = act2017least.append(act2017most)\n",
    "act2017[['state','act_2017_participation', 'sat_2017_participation']]"
   ]
  },
  {
   "cell_type": "markdown",
   "metadata": {},
   "source": [
    "#### ACT 2018"
   ]
  },
  {
   "cell_type": "code",
   "execution_count": 51,
   "metadata": {
    "scrolled": true
   },
   "outputs": [
    {
     "data": {
      "text/html": [
       "<div>\n",
       "<style scoped>\n",
       "    .dataframe tbody tr th:only-of-type {\n",
       "        vertical-align: middle;\n",
       "    }\n",
       "\n",
       "    .dataframe tbody tr th {\n",
       "        vertical-align: top;\n",
       "    }\n",
       "\n",
       "    .dataframe thead th {\n",
       "        text-align: right;\n",
       "    }\n",
       "</style>\n",
       "<table border=\"1\" class=\"dataframe\">\n",
       "  <thead>\n",
       "    <tr style=\"text-align: right;\">\n",
       "      <th></th>\n",
       "      <th>state</th>\n",
       "      <th>act_2018_participation</th>\n",
       "      <th>sat_2018_participation</th>\n",
       "    </tr>\n",
       "  </thead>\n",
       "  <tbody>\n",
       "    <tr>\n",
       "      <td>19</td>\n",
       "      <td>Maine</td>\n",
       "      <td>0.07</td>\n",
       "      <td>0.99</td>\n",
       "    </tr>\n",
       "    <tr>\n",
       "      <td>39</td>\n",
       "      <td>Rhode Island</td>\n",
       "      <td>0.15</td>\n",
       "      <td>0.97</td>\n",
       "    </tr>\n",
       "    <tr>\n",
       "      <td>29</td>\n",
       "      <td>New Hampshire</td>\n",
       "      <td>0.16</td>\n",
       "      <td>0.96</td>\n",
       "    </tr>\n",
       "    <tr>\n",
       "      <td>7</td>\n",
       "      <td>Delaware</td>\n",
       "      <td>0.17</td>\n",
       "      <td>1.00</td>\n",
       "    </tr>\n",
       "    <tr>\n",
       "      <td>38</td>\n",
       "      <td>Pennsylvania</td>\n",
       "      <td>0.20</td>\n",
       "      <td>0.70</td>\n",
       "    </tr>\n",
       "    <tr>\n",
       "      <td>0</td>\n",
       "      <td>Alabama</td>\n",
       "      <td>1.00</td>\n",
       "      <td>0.06</td>\n",
       "    </tr>\n",
       "    <tr>\n",
       "      <td>17</td>\n",
       "      <td>Kentucky</td>\n",
       "      <td>1.00</td>\n",
       "      <td>0.04</td>\n",
       "    </tr>\n",
       "    <tr>\n",
       "      <td>49</td>\n",
       "      <td>Wisconsin</td>\n",
       "      <td>1.00</td>\n",
       "      <td>0.03</td>\n",
       "    </tr>\n",
       "    <tr>\n",
       "      <td>44</td>\n",
       "      <td>Utah</td>\n",
       "      <td>1.00</td>\n",
       "      <td>0.04</td>\n",
       "    </tr>\n",
       "    <tr>\n",
       "      <td>42</td>\n",
       "      <td>Tennessee</td>\n",
       "      <td>1.00</td>\n",
       "      <td>0.06</td>\n",
       "    </tr>\n",
       "  </tbody>\n",
       "</table>\n",
       "</div>"
      ],
      "text/plain": [
       "            state  act_2018_participation  sat_2018_participation\n",
       "19          Maine                    0.07                    0.99\n",
       "39   Rhode Island                    0.15                    0.97\n",
       "29  New Hampshire                    0.16                    0.96\n",
       "7        Delaware                    0.17                    1.00\n",
       "38   Pennsylvania                    0.20                    0.70\n",
       "0         Alabama                    1.00                    0.06\n",
       "17       Kentucky                    1.00                    0.04\n",
       "49      Wisconsin                    1.00                    0.03\n",
       "44           Utah                    1.00                    0.04\n",
       "42      Tennessee                    1.00                    0.06"
      ]
     },
     "execution_count": 51,
     "metadata": {},
     "output_type": "execute_result"
    }
   ],
   "source": [
    "# 2018 ACT Lowest\n",
    "act2018least = final.sort_values(['act_2018_participation']).head()\n",
    "\n",
    "# 2018 ACT Highest\n",
    "act2018most = final.sort_values(['act_2018_participation'],ascending=False).head()\n",
    "\n",
    "act2018 = act2018least.append(act2018most)\n",
    "act2018[['state','act_2018_participation', 'sat_2018_participation']]"
   ]
  },
  {
   "cell_type": "markdown",
   "metadata": {},
   "source": [
    "#### ACT Participation Findings:\n",
    "##### The Top and Bottom 5 seem to be the same for both years, however the interesting thing is that there is an inverse relation for high ACT participants to have low participation rates for SAT."
   ]
  },
  {
   "cell_type": "markdown",
   "metadata": {},
   "source": [
    "### Mean / Composite Score\n",
    "#### We observe the bottom 5 and top 5 states' mean score"
   ]
  },
  {
   "cell_type": "markdown",
   "metadata": {},
   "source": [
    "#### SAT 2017"
   ]
  },
  {
   "cell_type": "code",
   "execution_count": 52,
   "metadata": {},
   "outputs": [
    {
     "data": {
      "text/html": [
       "<div>\n",
       "<style scoped>\n",
       "    .dataframe tbody tr th:only-of-type {\n",
       "        vertical-align: middle;\n",
       "    }\n",
       "\n",
       "    .dataframe tbody tr th {\n",
       "        vertical-align: top;\n",
       "    }\n",
       "\n",
       "    .dataframe thead th {\n",
       "        text-align: right;\n",
       "    }\n",
       "</style>\n",
       "<table border=\"1\" class=\"dataframe\">\n",
       "  <thead>\n",
       "    <tr style=\"text-align: right;\">\n",
       "      <th></th>\n",
       "      <th>state</th>\n",
       "      <th>mean</th>\n",
       "      <th>sat_2017_participation</th>\n",
       "    </tr>\n",
       "  </thead>\n",
       "  <tbody>\n",
       "    <tr>\n",
       "      <td>8</td>\n",
       "      <td>District of Columbia</td>\n",
       "      <td>475.0</td>\n",
       "      <td>1.00</td>\n",
       "    </tr>\n",
       "    <tr>\n",
       "      <td>7</td>\n",
       "      <td>Delaware</td>\n",
       "      <td>498.0</td>\n",
       "      <td>1.00</td>\n",
       "    </tr>\n",
       "    <tr>\n",
       "      <td>12</td>\n",
       "      <td>Idaho</td>\n",
       "      <td>502.5</td>\n",
       "      <td>0.93</td>\n",
       "    </tr>\n",
       "    <tr>\n",
       "      <td>22</td>\n",
       "      <td>Michigan</td>\n",
       "      <td>502.5</td>\n",
       "      <td>1.00</td>\n",
       "    </tr>\n",
       "    <tr>\n",
       "      <td>19</td>\n",
       "      <td>Maine</td>\n",
       "      <td>506.0</td>\n",
       "      <td>0.95</td>\n",
       "    </tr>\n",
       "    <tr>\n",
       "      <td>23</td>\n",
       "      <td>Minnesota</td>\n",
       "      <td>647.5</td>\n",
       "      <td>0.03</td>\n",
       "    </tr>\n",
       "    <tr>\n",
       "      <td>49</td>\n",
       "      <td>Wisconsin</td>\n",
       "      <td>645.5</td>\n",
       "      <td>0.03</td>\n",
       "    </tr>\n",
       "    <tr>\n",
       "      <td>15</td>\n",
       "      <td>Iowa</td>\n",
       "      <td>637.5</td>\n",
       "      <td>0.02</td>\n",
       "    </tr>\n",
       "    <tr>\n",
       "      <td>25</td>\n",
       "      <td>Missouri</td>\n",
       "      <td>635.5</td>\n",
       "      <td>0.03</td>\n",
       "    </tr>\n",
       "    <tr>\n",
       "      <td>16</td>\n",
       "      <td>Kansas</td>\n",
       "      <td>630.0</td>\n",
       "      <td>0.04</td>\n",
       "    </tr>\n",
       "  </tbody>\n",
       "</table>\n",
       "</div>"
      ],
      "text/plain": [
       "                   state   mean  sat_2017_participation\n",
       "8   District of Columbia  475.0                    1.00\n",
       "7               Delaware  498.0                    1.00\n",
       "12                 Idaho  502.5                    0.93\n",
       "22              Michigan  502.5                    1.00\n",
       "19                 Maine  506.0                    0.95\n",
       "23             Minnesota  647.5                    0.03\n",
       "49             Wisconsin  645.5                    0.03\n",
       "15                  Iowa  637.5                    0.02\n",
       "25              Missouri  635.5                    0.03\n",
       "16                Kansas  630.0                    0.04"
      ]
     },
     "execution_count": 52,
     "metadata": {},
     "output_type": "execute_result"
    }
   ],
   "source": [
    "# We create a function to compute the mean for each state for sat 2017 and 2018\n",
    "def sat_mean_2017(row):\n",
    "    \"\"\"computes the sat mean of each state from the dataframe\"\"\"\n",
    "    row['mean'] = row['sat_2017_total']/2\n",
    "    return row\n",
    "\n",
    "# Obtain the bottom 5 and top 5 mean\n",
    "sat2017_meanlow = final.apply(sat_mean_2017, axis=1).sort_values(['mean']).head()\n",
    "sat2017_meanhigh = final.apply(sat_mean_2017, axis=1).sort_values(['mean'], ascending=False).head()\n",
    "\n",
    "# Combine results into one table (10 rows, bottom 5 and top 5)\n",
    "sat2017mean = sat2017_meanlow.append(sat2017_meanhigh)\n",
    "sat2017mean[['state','mean', 'sat_2017_participation']]\n"
   ]
  },
  {
   "cell_type": "markdown",
   "metadata": {},
   "source": [
    "#### SAT 2018"
   ]
  },
  {
   "cell_type": "code",
   "execution_count": 53,
   "metadata": {},
   "outputs": [
    {
     "data": {
      "text/html": [
       "<div>\n",
       "<style scoped>\n",
       "    .dataframe tbody tr th:only-of-type {\n",
       "        vertical-align: middle;\n",
       "    }\n",
       "\n",
       "    .dataframe tbody tr th {\n",
       "        vertical-align: top;\n",
       "    }\n",
       "\n",
       "    .dataframe thead th {\n",
       "        text-align: right;\n",
       "    }\n",
       "</style>\n",
       "<table border=\"1\" class=\"dataframe\">\n",
       "  <thead>\n",
       "    <tr style=\"text-align: right;\">\n",
       "      <th></th>\n",
       "      <th>state</th>\n",
       "      <th>mean</th>\n",
       "      <th>sat_2018_participation</th>\n",
       "    </tr>\n",
       "  </thead>\n",
       "  <tbody>\n",
       "    <tr>\n",
       "      <td>8</td>\n",
       "      <td>District of Columbia</td>\n",
       "      <td>488.5</td>\n",
       "      <td>0.92</td>\n",
       "    </tr>\n",
       "    <tr>\n",
       "      <td>7</td>\n",
       "      <td>Delaware</td>\n",
       "      <td>499.0</td>\n",
       "      <td>1.00</td>\n",
       "    </tr>\n",
       "    <tr>\n",
       "      <td>48</td>\n",
       "      <td>West Virginia</td>\n",
       "      <td>499.5</td>\n",
       "      <td>0.28</td>\n",
       "    </tr>\n",
       "    <tr>\n",
       "      <td>12</td>\n",
       "      <td>Idaho</td>\n",
       "      <td>500.5</td>\n",
       "      <td>1.00</td>\n",
       "    </tr>\n",
       "    <tr>\n",
       "      <td>44</td>\n",
       "      <td>Utah</td>\n",
       "      <td>505.0</td>\n",
       "      <td>0.04</td>\n",
       "    </tr>\n",
       "    <tr>\n",
       "      <td>23</td>\n",
       "      <td>Minnesota</td>\n",
       "      <td>649.0</td>\n",
       "      <td>0.04</td>\n",
       "    </tr>\n",
       "    <tr>\n",
       "      <td>49</td>\n",
       "      <td>Wisconsin</td>\n",
       "      <td>647.0</td>\n",
       "      <td>0.03</td>\n",
       "    </tr>\n",
       "    <tr>\n",
       "      <td>34</td>\n",
       "      <td>North Dakota</td>\n",
       "      <td>641.5</td>\n",
       "      <td>0.02</td>\n",
       "    </tr>\n",
       "    <tr>\n",
       "      <td>15</td>\n",
       "      <td>Iowa</td>\n",
       "      <td>632.5</td>\n",
       "      <td>0.03</td>\n",
       "    </tr>\n",
       "    <tr>\n",
       "      <td>16</td>\n",
       "      <td>Kansas</td>\n",
       "      <td>632.5</td>\n",
       "      <td>0.04</td>\n",
       "    </tr>\n",
       "  </tbody>\n",
       "</table>\n",
       "</div>"
      ],
      "text/plain": [
       "                   state   mean  sat_2018_participation\n",
       "8   District of Columbia  488.5                    0.92\n",
       "7               Delaware  499.0                    1.00\n",
       "48         West Virginia  499.5                    0.28\n",
       "12                 Idaho  500.5                    1.00\n",
       "44                  Utah  505.0                    0.04\n",
       "23             Minnesota  649.0                    0.04\n",
       "49             Wisconsin  647.0                    0.03\n",
       "34          North Dakota  641.5                    0.02\n",
       "15                  Iowa  632.5                    0.03\n",
       "16                Kansas  632.5                    0.04"
      ]
     },
     "execution_count": 53,
     "metadata": {},
     "output_type": "execute_result"
    }
   ],
   "source": [
    "def sat_mean_2018(row):\n",
    "    \"\"\"computes the sat mean of each state from the dataframe\"\"\"\n",
    "    row['mean'] = row['sat_2018_total']/2\n",
    "    return row\n",
    "\n",
    "sat2018_meanlow = final.apply(sat_mean_2018, axis=1).sort_values(['mean']).head()\n",
    "sat2018_meanhigh = final.apply(sat_mean_2018, axis=1).sort_values(['mean'], ascending=False).head()\n",
    "\n",
    "sat2018mean = sat2018_meanlow.append(sat2018_meanhigh)\n",
    "sat2018mean[['state','mean', 'sat_2018_participation']]\n"
   ]
  },
  {
   "cell_type": "markdown",
   "metadata": {},
   "source": [
    "#### ACT 2017"
   ]
  },
  {
   "cell_type": "code",
   "execution_count": 54,
   "metadata": {},
   "outputs": [
    {
     "data": {
      "text/html": [
       "<div>\n",
       "<style scoped>\n",
       "    .dataframe tbody tr th:only-of-type {\n",
       "        vertical-align: middle;\n",
       "    }\n",
       "\n",
       "    .dataframe tbody tr th {\n",
       "        vertical-align: top;\n",
       "    }\n",
       "\n",
       "    .dataframe thead th {\n",
       "        text-align: right;\n",
       "    }\n",
       "</style>\n",
       "<table border=\"1\" class=\"dataframe\">\n",
       "  <thead>\n",
       "    <tr style=\"text-align: right;\">\n",
       "      <th></th>\n",
       "      <th>state</th>\n",
       "      <th>act_2017_composite</th>\n",
       "      <th>act_2017_participation</th>\n",
       "    </tr>\n",
       "  </thead>\n",
       "  <tbody>\n",
       "    <tr>\n",
       "      <td>28</td>\n",
       "      <td>Nevada</td>\n",
       "      <td>17.8</td>\n",
       "      <td>1.00</td>\n",
       "    </tr>\n",
       "    <tr>\n",
       "      <td>24</td>\n",
       "      <td>Mississippi</td>\n",
       "      <td>18.6</td>\n",
       "      <td>1.00</td>\n",
       "    </tr>\n",
       "    <tr>\n",
       "      <td>40</td>\n",
       "      <td>South Carolina</td>\n",
       "      <td>18.7</td>\n",
       "      <td>1.00</td>\n",
       "    </tr>\n",
       "    <tr>\n",
       "      <td>11</td>\n",
       "      <td>Hawaii</td>\n",
       "      <td>19.0</td>\n",
       "      <td>0.90</td>\n",
       "    </tr>\n",
       "    <tr>\n",
       "      <td>33</td>\n",
       "      <td>North Carolina</td>\n",
       "      <td>19.1</td>\n",
       "      <td>1.00</td>\n",
       "    </tr>\n",
       "    <tr>\n",
       "      <td>29</td>\n",
       "      <td>New Hampshire</td>\n",
       "      <td>25.5</td>\n",
       "      <td>0.18</td>\n",
       "    </tr>\n",
       "    <tr>\n",
       "      <td>21</td>\n",
       "      <td>Massachusetts</td>\n",
       "      <td>25.4</td>\n",
       "      <td>0.29</td>\n",
       "    </tr>\n",
       "    <tr>\n",
       "      <td>6</td>\n",
       "      <td>Connecticut</td>\n",
       "      <td>25.2</td>\n",
       "      <td>0.31</td>\n",
       "    </tr>\n",
       "    <tr>\n",
       "      <td>19</td>\n",
       "      <td>Maine</td>\n",
       "      <td>24.3</td>\n",
       "      <td>0.08</td>\n",
       "    </tr>\n",
       "    <tr>\n",
       "      <td>8</td>\n",
       "      <td>District of Columbia</td>\n",
       "      <td>24.2</td>\n",
       "      <td>0.32</td>\n",
       "    </tr>\n",
       "  </tbody>\n",
       "</table>\n",
       "</div>"
      ],
      "text/plain": [
       "                   state  act_2017_composite  act_2017_participation\n",
       "28                Nevada                17.8                    1.00\n",
       "24           Mississippi                18.6                    1.00\n",
       "40        South Carolina                18.7                    1.00\n",
       "11                Hawaii                19.0                    0.90\n",
       "33        North Carolina                19.1                    1.00\n",
       "29         New Hampshire                25.5                    0.18\n",
       "21         Massachusetts                25.4                    0.29\n",
       "6            Connecticut                25.2                    0.31\n",
       "19                 Maine                24.3                    0.08\n",
       "8   District of Columbia                24.2                    0.32"
      ]
     },
     "execution_count": 54,
     "metadata": {},
     "output_type": "execute_result"
    }
   ],
   "source": [
    "# Here, as the Composite is already included, we sort the composite by the highest and the lowest\n",
    "act2017_complow = final.sort_values(['act_2017_composite']).head()\n",
    "act2017_comphigh = final.sort_values(['act_2017_composite'], ascending=False).head()\n",
    "\n",
    "act2017comp = act2017_complow.append(act2017_comphigh)\n",
    "act2017comp[['state','act_2017_composite', 'act_2017_participation']]"
   ]
  },
  {
   "cell_type": "markdown",
   "metadata": {},
   "source": [
    "#### ACT 2018"
   ]
  },
  {
   "cell_type": "code",
   "execution_count": 55,
   "metadata": {
    "scrolled": true
   },
   "outputs": [
    {
     "data": {
      "text/html": [
       "<div>\n",
       "<style scoped>\n",
       "    .dataframe tbody tr th:only-of-type {\n",
       "        vertical-align: middle;\n",
       "    }\n",
       "\n",
       "    .dataframe tbody tr th {\n",
       "        vertical-align: top;\n",
       "    }\n",
       "\n",
       "    .dataframe thead th {\n",
       "        text-align: right;\n",
       "    }\n",
       "</style>\n",
       "<table border=\"1\" class=\"dataframe\">\n",
       "  <thead>\n",
       "    <tr style=\"text-align: right;\">\n",
       "      <th></th>\n",
       "      <th>state</th>\n",
       "      <th>act_2018_composite</th>\n",
       "      <th>act_2018_participation</th>\n",
       "    </tr>\n",
       "  </thead>\n",
       "  <tbody>\n",
       "    <tr>\n",
       "      <td>28</td>\n",
       "      <td>Nevada</td>\n",
       "      <td>17.7</td>\n",
       "      <td>1.00</td>\n",
       "    </tr>\n",
       "    <tr>\n",
       "      <td>40</td>\n",
       "      <td>South Carolina</td>\n",
       "      <td>18.3</td>\n",
       "      <td>1.00</td>\n",
       "    </tr>\n",
       "    <tr>\n",
       "      <td>24</td>\n",
       "      <td>Mississippi</td>\n",
       "      <td>18.6</td>\n",
       "      <td>1.00</td>\n",
       "    </tr>\n",
       "    <tr>\n",
       "      <td>11</td>\n",
       "      <td>Hawaii</td>\n",
       "      <td>18.9</td>\n",
       "      <td>0.89</td>\n",
       "    </tr>\n",
       "    <tr>\n",
       "      <td>0</td>\n",
       "      <td>Alabama</td>\n",
       "      <td>19.1</td>\n",
       "      <td>1.00</td>\n",
       "    </tr>\n",
       "    <tr>\n",
       "      <td>6</td>\n",
       "      <td>Connecticut</td>\n",
       "      <td>25.6</td>\n",
       "      <td>0.26</td>\n",
       "    </tr>\n",
       "    <tr>\n",
       "      <td>21</td>\n",
       "      <td>Massachusetts</td>\n",
       "      <td>25.5</td>\n",
       "      <td>0.25</td>\n",
       "    </tr>\n",
       "    <tr>\n",
       "      <td>29</td>\n",
       "      <td>New Hampshire</td>\n",
       "      <td>25.1</td>\n",
       "      <td>0.16</td>\n",
       "    </tr>\n",
       "    <tr>\n",
       "      <td>32</td>\n",
       "      <td>New York</td>\n",
       "      <td>24.5</td>\n",
       "      <td>0.27</td>\n",
       "    </tr>\n",
       "    <tr>\n",
       "      <td>22</td>\n",
       "      <td>Michigan</td>\n",
       "      <td>24.4</td>\n",
       "      <td>0.22</td>\n",
       "    </tr>\n",
       "  </tbody>\n",
       "</table>\n",
       "</div>"
      ],
      "text/plain": [
       "             state  act_2018_composite  act_2018_participation\n",
       "28          Nevada                17.7                    1.00\n",
       "40  South Carolina                18.3                    1.00\n",
       "24     Mississippi                18.6                    1.00\n",
       "11          Hawaii                18.9                    0.89\n",
       "0          Alabama                19.1                    1.00\n",
       "6      Connecticut                25.6                    0.26\n",
       "21   Massachusetts                25.5                    0.25\n",
       "29   New Hampshire                25.1                    0.16\n",
       "32        New York                24.5                    0.27\n",
       "22        Michigan                24.4                    0.22"
      ]
     },
     "execution_count": 55,
     "metadata": {},
     "output_type": "execute_result"
    }
   ],
   "source": [
    "act2018_complow = final.sort_values(['act_2018_composite']).head()\n",
    "act2018_comphigh = final.sort_values(['act_2018_composite'], ascending=False).head()\n",
    "\n",
    "act2018comp = act2018_complow.append(act2018_comphigh)\n",
    "act2018comp[['state','act_2018_composite', 'act_2018_participation']]"
   ]
  },
  {
   "cell_type": "markdown",
   "metadata": {},
   "source": [
    "#### Mean Findings:\n",
    "##### For all 4 groups, higher participation leads to lower mean scores, this is interesting as it could mean that individuals who are not prepared for the exams attend it anyway for states with high participation."
   ]
  },
  {
   "cell_type": "markdown",
   "metadata": {},
   "source": [
    "## 100% Participation in 2017 and 2018"
   ]
  },
  {
   "cell_type": "markdown",
   "metadata": {},
   "source": [
    "#### SAT"
   ]
  },
  {
   "cell_type": "code",
   "execution_count": 56,
   "metadata": {},
   "outputs": [
    {
     "data": {
      "text/html": [
       "<div>\n",
       "<style scoped>\n",
       "    .dataframe tbody tr th:only-of-type {\n",
       "        vertical-align: middle;\n",
       "    }\n",
       "\n",
       "    .dataframe tbody tr th {\n",
       "        vertical-align: top;\n",
       "    }\n",
       "\n",
       "    .dataframe thead th {\n",
       "        text-align: right;\n",
       "    }\n",
       "</style>\n",
       "<table border=\"1\" class=\"dataframe\">\n",
       "  <thead>\n",
       "    <tr style=\"text-align: right;\">\n",
       "      <th></th>\n",
       "      <th>state</th>\n",
       "      <th>sat_2017_participation</th>\n",
       "      <th>sat_2018_participation</th>\n",
       "    </tr>\n",
       "  </thead>\n",
       "  <tbody>\n",
       "    <tr>\n",
       "      <td>5</td>\n",
       "      <td>Colorado</td>\n",
       "      <td>0.11</td>\n",
       "      <td>1.00</td>\n",
       "    </tr>\n",
       "    <tr>\n",
       "      <td>6</td>\n",
       "      <td>Connecticut</td>\n",
       "      <td>1.00</td>\n",
       "      <td>1.00</td>\n",
       "    </tr>\n",
       "    <tr>\n",
       "      <td>7</td>\n",
       "      <td>Delaware</td>\n",
       "      <td>1.00</td>\n",
       "      <td>1.00</td>\n",
       "    </tr>\n",
       "    <tr>\n",
       "      <td>8</td>\n",
       "      <td>District of Columbia</td>\n",
       "      <td>1.00</td>\n",
       "      <td>0.92</td>\n",
       "    </tr>\n",
       "    <tr>\n",
       "      <td>12</td>\n",
       "      <td>Idaho</td>\n",
       "      <td>0.93</td>\n",
       "      <td>1.00</td>\n",
       "    </tr>\n",
       "    <tr>\n",
       "      <td>22</td>\n",
       "      <td>Michigan</td>\n",
       "      <td>1.00</td>\n",
       "      <td>1.00</td>\n",
       "    </tr>\n",
       "  </tbody>\n",
       "</table>\n",
       "</div>"
      ],
      "text/plain": [
       "                   state  sat_2017_participation  sat_2018_participation\n",
       "5               Colorado                    0.11                    1.00\n",
       "6            Connecticut                    1.00                    1.00\n",
       "7               Delaware                    1.00                    1.00\n",
       "8   District of Columbia                    1.00                    0.92\n",
       "12                 Idaho                    0.93                    1.00\n",
       "22              Michigan                    1.00                    1.00"
      ]
     },
     "execution_count": 56,
     "metadata": {},
     "output_type": "execute_result"
    }
   ],
   "source": [
    "# Returning boolean True values for conditions that participation rates for 2017 or 2018 are 100%\n",
    "\n",
    "sat100 = final[(final['sat_2017_participation']>=1) | (final['sat_2018_participation']>=1)]\n",
    "sat100[['state','sat_2017_participation', 'sat_2018_participation']]"
   ]
  },
  {
   "cell_type": "markdown",
   "metadata": {},
   "source": [
    "#### ACT"
   ]
  },
  {
   "cell_type": "code",
   "execution_count": 57,
   "metadata": {
    "scrolled": false
   },
   "outputs": [
    {
     "data": {
      "text/html": [
       "<div>\n",
       "<style scoped>\n",
       "    .dataframe tbody tr th:only-of-type {\n",
       "        vertical-align: middle;\n",
       "    }\n",
       "\n",
       "    .dataframe tbody tr th {\n",
       "        vertical-align: top;\n",
       "    }\n",
       "\n",
       "    .dataframe thead th {\n",
       "        text-align: right;\n",
       "    }\n",
       "</style>\n",
       "<table border=\"1\" class=\"dataframe\">\n",
       "  <thead>\n",
       "    <tr style=\"text-align: right;\">\n",
       "      <th></th>\n",
       "      <th>state</th>\n",
       "      <th>act_2017_participation</th>\n",
       "      <th>act_2018_participation</th>\n",
       "    </tr>\n",
       "  </thead>\n",
       "  <tbody>\n",
       "    <tr>\n",
       "      <td>0</td>\n",
       "      <td>Alabama</td>\n",
       "      <td>1.00</td>\n",
       "      <td>1.00</td>\n",
       "    </tr>\n",
       "    <tr>\n",
       "      <td>3</td>\n",
       "      <td>Arkansas</td>\n",
       "      <td>1.00</td>\n",
       "      <td>1.00</td>\n",
       "    </tr>\n",
       "    <tr>\n",
       "      <td>5</td>\n",
       "      <td>Colorado</td>\n",
       "      <td>1.00</td>\n",
       "      <td>0.30</td>\n",
       "    </tr>\n",
       "    <tr>\n",
       "      <td>17</td>\n",
       "      <td>Kentucky</td>\n",
       "      <td>1.00</td>\n",
       "      <td>1.00</td>\n",
       "    </tr>\n",
       "    <tr>\n",
       "      <td>18</td>\n",
       "      <td>Louisiana</td>\n",
       "      <td>1.00</td>\n",
       "      <td>1.00</td>\n",
       "    </tr>\n",
       "    <tr>\n",
       "      <td>23</td>\n",
       "      <td>Minnesota</td>\n",
       "      <td>1.00</td>\n",
       "      <td>0.99</td>\n",
       "    </tr>\n",
       "    <tr>\n",
       "      <td>24</td>\n",
       "      <td>Mississippi</td>\n",
       "      <td>1.00</td>\n",
       "      <td>1.00</td>\n",
       "    </tr>\n",
       "    <tr>\n",
       "      <td>25</td>\n",
       "      <td>Missouri</td>\n",
       "      <td>1.00</td>\n",
       "      <td>1.00</td>\n",
       "    </tr>\n",
       "    <tr>\n",
       "      <td>26</td>\n",
       "      <td>Montana</td>\n",
       "      <td>1.00</td>\n",
       "      <td>1.00</td>\n",
       "    </tr>\n",
       "    <tr>\n",
       "      <td>27</td>\n",
       "      <td>Nebraska</td>\n",
       "      <td>0.84</td>\n",
       "      <td>1.00</td>\n",
       "    </tr>\n",
       "    <tr>\n",
       "      <td>28</td>\n",
       "      <td>Nevada</td>\n",
       "      <td>1.00</td>\n",
       "      <td>1.00</td>\n",
       "    </tr>\n",
       "    <tr>\n",
       "      <td>33</td>\n",
       "      <td>North Carolina</td>\n",
       "      <td>1.00</td>\n",
       "      <td>1.00</td>\n",
       "    </tr>\n",
       "    <tr>\n",
       "      <td>35</td>\n",
       "      <td>Ohio</td>\n",
       "      <td>0.75</td>\n",
       "      <td>1.00</td>\n",
       "    </tr>\n",
       "    <tr>\n",
       "      <td>36</td>\n",
       "      <td>Oklahoma</td>\n",
       "      <td>1.00</td>\n",
       "      <td>1.00</td>\n",
       "    </tr>\n",
       "    <tr>\n",
       "      <td>40</td>\n",
       "      <td>South Carolina</td>\n",
       "      <td>1.00</td>\n",
       "      <td>1.00</td>\n",
       "    </tr>\n",
       "    <tr>\n",
       "      <td>42</td>\n",
       "      <td>Tennessee</td>\n",
       "      <td>1.00</td>\n",
       "      <td>1.00</td>\n",
       "    </tr>\n",
       "    <tr>\n",
       "      <td>44</td>\n",
       "      <td>Utah</td>\n",
       "      <td>1.00</td>\n",
       "      <td>1.00</td>\n",
       "    </tr>\n",
       "    <tr>\n",
       "      <td>49</td>\n",
       "      <td>Wisconsin</td>\n",
       "      <td>1.00</td>\n",
       "      <td>1.00</td>\n",
       "    </tr>\n",
       "    <tr>\n",
       "      <td>50</td>\n",
       "      <td>Wyoming</td>\n",
       "      <td>1.00</td>\n",
       "      <td>1.00</td>\n",
       "    </tr>\n",
       "  </tbody>\n",
       "</table>\n",
       "</div>"
      ],
      "text/plain": [
       "             state  act_2017_participation  act_2018_participation\n",
       "0          Alabama                    1.00                    1.00\n",
       "3         Arkansas                    1.00                    1.00\n",
       "5         Colorado                    1.00                    0.30\n",
       "17        Kentucky                    1.00                    1.00\n",
       "18       Louisiana                    1.00                    1.00\n",
       "23       Minnesota                    1.00                    0.99\n",
       "24     Mississippi                    1.00                    1.00\n",
       "25        Missouri                    1.00                    1.00\n",
       "26         Montana                    1.00                    1.00\n",
       "27        Nebraska                    0.84                    1.00\n",
       "28          Nevada                    1.00                    1.00\n",
       "33  North Carolina                    1.00                    1.00\n",
       "35            Ohio                    0.75                    1.00\n",
       "36        Oklahoma                    1.00                    1.00\n",
       "40  South Carolina                    1.00                    1.00\n",
       "42       Tennessee                    1.00                    1.00\n",
       "44            Utah                    1.00                    1.00\n",
       "49       Wisconsin                    1.00                    1.00\n",
       "50         Wyoming                    1.00                    1.00"
      ]
     },
     "execution_count": 57,
     "metadata": {},
     "output_type": "execute_result"
    }
   ],
   "source": [
    "act100 = final[(final['act_2017_participation']>=1) | (final['act_2018_participation']>=1)]\n",
    "act100[['state','act_2017_participation', 'act_2018_participation']]"
   ]
  },
  {
   "cell_type": "markdown",
   "metadata": {},
   "source": [
    "#### 100% Participation Findings:\n",
    "##### 2 States that stand out are Colorado and Ohio. Colorado's SAT participation went from 11% to 100% from 2017 to 2018, however ACT participation went the other way from 100% to 30%. Ohio is interesting as ACT participation increased from 75% to 100%."
   ]
  },
  {
   "cell_type": "markdown",
   "metadata": {},
   "source": [
    "## Above 50% Participation for both tests"
   ]
  },
  {
   "cell_type": "markdown",
   "metadata": {},
   "source": [
    "#### 2017"
   ]
  },
  {
   "cell_type": "code",
   "execution_count": 58,
   "metadata": {
    "scrolled": false
   },
   "outputs": [
    {
     "data": {
      "text/html": [
       "<div>\n",
       "<style scoped>\n",
       "    .dataframe tbody tr th:only-of-type {\n",
       "        vertical-align: middle;\n",
       "    }\n",
       "\n",
       "    .dataframe tbody tr th {\n",
       "        vertical-align: top;\n",
       "    }\n",
       "\n",
       "    .dataframe thead th {\n",
       "        text-align: right;\n",
       "    }\n",
       "</style>\n",
       "<table border=\"1\" class=\"dataframe\">\n",
       "  <thead>\n",
       "    <tr style=\"text-align: right;\">\n",
       "      <th></th>\n",
       "      <th>state</th>\n",
       "      <th>sat_2017_participation</th>\n",
       "      <th>act_2017_participation</th>\n",
       "    </tr>\n",
       "  </thead>\n",
       "  <tbody>\n",
       "    <tr>\n",
       "      <td>9</td>\n",
       "      <td>Florida</td>\n",
       "      <td>0.83</td>\n",
       "      <td>0.73</td>\n",
       "    </tr>\n",
       "    <tr>\n",
       "      <td>10</td>\n",
       "      <td>Georgia</td>\n",
       "      <td>0.61</td>\n",
       "      <td>0.55</td>\n",
       "    </tr>\n",
       "    <tr>\n",
       "      <td>11</td>\n",
       "      <td>Hawaii</td>\n",
       "      <td>0.55</td>\n",
       "      <td>0.90</td>\n",
       "    </tr>\n",
       "    <tr>\n",
       "      <td>40</td>\n",
       "      <td>South Carolina</td>\n",
       "      <td>0.50</td>\n",
       "      <td>1.00</td>\n",
       "    </tr>\n",
       "  </tbody>\n",
       "</table>\n",
       "</div>"
      ],
      "text/plain": [
       "             state  sat_2017_participation  act_2017_participation\n",
       "9          Florida                    0.83                    0.73\n",
       "10         Georgia                    0.61                    0.55\n",
       "11          Hawaii                    0.55                    0.90\n",
       "40  South Carolina                    0.50                    1.00"
      ]
     },
     "execution_count": 58,
     "metadata": {},
     "output_type": "execute_result"
    }
   ],
   "source": [
    "# Returning boolean True values for conditions that participation rates for 2017 that are both above 50%\n",
    "\n",
    "good_participation_2017 = final[(final['sat_2017_participation']>=0.5) & (final['act_2017_participation']>=0.5)]\n",
    "good_participation_2017[['state','sat_2017_participation', 'act_2017_participation']]"
   ]
  },
  {
   "cell_type": "markdown",
   "metadata": {},
   "source": [
    "#### 2018"
   ]
  },
  {
   "cell_type": "code",
   "execution_count": 59,
   "metadata": {
    "scrolled": false
   },
   "outputs": [
    {
     "data": {
      "text/html": [
       "<div>\n",
       "<style scoped>\n",
       "    .dataframe tbody tr th:only-of-type {\n",
       "        vertical-align: middle;\n",
       "    }\n",
       "\n",
       "    .dataframe tbody tr th {\n",
       "        vertical-align: top;\n",
       "    }\n",
       "\n",
       "    .dataframe thead th {\n",
       "        text-align: right;\n",
       "    }\n",
       "</style>\n",
       "<table border=\"1\" class=\"dataframe\">\n",
       "  <thead>\n",
       "    <tr style=\"text-align: right;\">\n",
       "      <th></th>\n",
       "      <th>state</th>\n",
       "      <th>sat_2018_participation</th>\n",
       "      <th>act_2018_participation</th>\n",
       "    </tr>\n",
       "  </thead>\n",
       "  <tbody>\n",
       "    <tr>\n",
       "      <td>9</td>\n",
       "      <td>Florida</td>\n",
       "      <td>0.56</td>\n",
       "      <td>0.66</td>\n",
       "    </tr>\n",
       "    <tr>\n",
       "      <td>10</td>\n",
       "      <td>Georgia</td>\n",
       "      <td>0.70</td>\n",
       "      <td>0.53</td>\n",
       "    </tr>\n",
       "    <tr>\n",
       "      <td>11</td>\n",
       "      <td>Hawaii</td>\n",
       "      <td>0.56</td>\n",
       "      <td>0.89</td>\n",
       "    </tr>\n",
       "    <tr>\n",
       "      <td>33</td>\n",
       "      <td>North Carolina</td>\n",
       "      <td>0.52</td>\n",
       "      <td>1.00</td>\n",
       "    </tr>\n",
       "    <tr>\n",
       "      <td>40</td>\n",
       "      <td>South Carolina</td>\n",
       "      <td>0.55</td>\n",
       "      <td>1.00</td>\n",
       "    </tr>\n",
       "  </tbody>\n",
       "</table>\n",
       "</div>"
      ],
      "text/plain": [
       "             state  sat_2018_participation  act_2018_participation\n",
       "9          Florida                    0.56                    0.66\n",
       "10         Georgia                    0.70                    0.53\n",
       "11          Hawaii                    0.56                    0.89\n",
       "33  North Carolina                    0.52                    1.00\n",
       "40  South Carolina                    0.55                    1.00"
      ]
     },
     "execution_count": 59,
     "metadata": {},
     "output_type": "execute_result"
    }
   ],
   "source": [
    "good_participation_2018 = final[(final['sat_2018_participation']>=0.5) & (final['act_2018_participation']>=0.5)]\n",
    "good_participation_2018[['state','sat_2018_participation', 'act_2018_participation']]"
   ]
  },
  {
   "cell_type": "markdown",
   "metadata": {},
   "source": [
    "#### Above 50% Participation Findings:\n",
    "##### We have found that Florida, Georgia, Hawaii and South Carolina have good participation rates for both SAT and ACT for both years. However, South Carolina and Hawaii fall into the bottom 5 composite score among the 50 states for ACT for both years. This questions if students sitting for the exams are actually prepared."
   ]
  },
  {
   "cell_type": "markdown",
   "metadata": {},
   "source": [
    "## Visualize the data\n",
    "\n",
    "There's not a magic bullet recommendation for the right number of plots to understand a given dataset, but visualizing your data is *always* a good idea. Not only does it allow you to quickly convey your findings (even if you have a non-technical audience), it will often reveal trends in your data that escaped you when you were looking only at numbers.\n",
    "\n",
    "Some recommendations on plotting:\n",
    "- Plots have titles\n",
    "- Plots have axis labels\n",
    "- Plots have appropriate tick labels\n",
    "- All text is legible in a plot\n",
    "- Plots demonstrate meaningful and valid relationships\n",
    "- Plots are interpreted to aid understanding\n",
    "\n",
    "There is such a thing as too many plots, and there are a *lot* of bad plots. You might make some! (But hopefully not with the guided prompts below)."
   ]
  },
  {
   "cell_type": "markdown",
   "metadata": {},
   "source": [
    "#### Use Seaborn's heatmap with pandas `.corr()` to visualize correlations between all numeric features\n",
    "\n",
    "Heatmaps are generally not appropriate for presentations, and should often be excluded from reports as they can be visually overwhelming. **However**, they can be extremely useful in identify relationships of potential interest (as well as identifying potential collinearity before modeling).\n",
    "\n",
    "*example*:\n",
    "```python\n",
    "sns.heatmap(df.corr())\n",
    "```\n",
    "\n",
    "Please take time to format your output, adding a title. Look through some of the additional arguments and options. (Axis labels aren't really necessary, as long as the title is informative)."
   ]
  },
  {
   "cell_type": "code",
   "execution_count": 60,
   "metadata": {},
   "outputs": [
    {
     "data": {
      "image/png": "[encoded data removed]",
      "text/plain": [
       "<Figure size 792x648 with 2 Axes>"
      ]
     },
     "metadata": {
      "needs_background": "light"
     },
     "output_type": "display_data"
    }
   ],
   "source": [
    "d = pd.DataFrame(data=final)\n",
    "\n",
    "# Compute the correlation matrix\n",
    "corr = d.corr()\n",
    "\n",
    "# Generate a mask for the upper triangle\n",
    "mask = np.triu(np.ones_like(corr, dtype=np.bool))\n",
    "\n",
    "# Set up the matplotlib figure\n",
    "f, ax = plt.subplots(figsize=(11, 9))\n",
    "\n",
    "# Generate a custom diverging colormap\n",
    "cmap = sns.diverging_palette(220, 10, as_cmap=True)\n",
    "\n",
    "# Draw the heatmap with the mask and correct aspect ratio\n",
    "sns.heatmap(corr, mask=mask, cmap=cmap, vmax=.3, center=0,\n",
    "            square=True, linewidths=.5, cbar_kws={\"shrink\": .5})\n",
    "\n",
    "bottom, top = ax.get_ylim()\n",
    "ax.set_ylim(bottom + 0.5, top - 0.5)\n",
    "ax.set_title(\"Correlation between SAT and ACT Scores and Participation\");"
   ]
  },
  {
   "cell_type": "markdown",
   "metadata": {},
   "source": [
    "#### Heatmap observations\n",
    "At a quick glance, we notice that as SAT participation increases, ACT participation will decrease. Higher participation also leads to lower mean score for each state."
   ]
  },
  {
   "cell_type": "markdown",
   "metadata": {},
   "source": [
    "#### Define a custom function to subplot histograms\n",
    "\n",
    "We have data for two tests for two years. We only have composite (and not subtest scores) for the 2018 ACT. We should write a function that will take the names of 2+ columns and subplot histograms. While you can use pandas plotting or Seaborn here, matplotlib gives you greater control over all aspects of your plots.\n",
    "\n",
    "[Helpful Link for Plotting Multiple Figures](https://matplotlib.org/users/pyplot_tutorial.html#working-with-multiple-figures-and-axes)\n",
    "\n",
    "Here's some starter code:"
   ]
  },
  {
   "cell_type": "code",
   "execution_count": 61,
   "metadata": {},
   "outputs": [],
   "source": [
    "def subplot_histograms(dataframe, list_of_columns, list_of_titles, list_of_xlabels, main_title, list_of_colour, xlabel):\n",
    "    nrows = int(np.ceil(len(list_of_columns)/2)) # Makes sure you have enough rows\n",
    "    fig, ax = plt.subplots(nrows=nrows, ncols=2, figsize=(12,10)) # You'll want to specify your figsize\n",
    "    ax = ax.ravel() # Ravel turns a matrix into a vector, which is easier to iterate\n",
    "    for i, column in enumerate(list_of_columns): # Gives us an index value to get into all our lists\n",
    "        ax[i].hist(dataframe[column], color=list_of_colour[i]) # feel free to add more settings\n",
    "        ax[i].set_title(list_of_titles[i], fontsize=12)\n",
    "        ax[i].set_xlabel(xlabel, fontsize=12)\n",
    "        ax[i].set_ylabel(\"Number of States\", fontsize=12)\n",
    "        plt.suptitle(main_title, fontsize=20)\n",
    "        ax[i].axvline(np.mean(final[column]), color='maroon', linestyle='--', lw=1); #set the mean line# Set titles, labels, etc here for each subplot"
   ]
  },
  {
   "cell_type": "markdown",
   "metadata": {},
   "source": [
    "#### Plot and interpret histograms \n",
    "For each of the following:\n",
    "- Participation rates for SAT & ACT\n",
    "- Math scores for SAT & ACT\n",
    "- Reading/verbal scores for SAT & ACT"
   ]
  },
  {
   "cell_type": "code",
   "execution_count": 62,
   "metadata": {},
   "outputs": [
    {
     "data": {
      "text/html": [
       "<div>\n",
       "<style scoped>\n",
       "    .dataframe tbody tr th:only-of-type {\n",
       "        vertical-align: middle;\n",
       "    }\n",
       "\n",
       "    .dataframe tbody tr th {\n",
       "        vertical-align: top;\n",
       "    }\n",
       "\n",
       "    .dataframe thead th {\n",
       "        text-align: right;\n",
       "    }\n",
       "</style>\n",
       "<table border=\"1\" class=\"dataframe\">\n",
       "  <thead>\n",
       "    <tr style=\"text-align: right;\">\n",
       "      <th></th>\n",
       "      <th>act_2017_sci</th>\n",
       "      <th>act_2018_sci</th>\n",
       "    </tr>\n",
       "  </thead>\n",
       "  <tbody>\n",
       "    <tr>\n",
       "      <td>count</td>\n",
       "      <td>51.000000</td>\n",
       "      <td>51.000000</td>\n",
       "    </tr>\n",
       "    <tr>\n",
       "      <td>mean</td>\n",
       "      <td>21.450980</td>\n",
       "      <td>21.345098</td>\n",
       "    </tr>\n",
       "    <tr>\n",
       "      <td>std</td>\n",
       "      <td>1.739353</td>\n",
       "      <td>1.870114</td>\n",
       "    </tr>\n",
       "    <tr>\n",
       "      <td>min</td>\n",
       "      <td>18.200000</td>\n",
       "      <td>17.900000</td>\n",
       "    </tr>\n",
       "    <tr>\n",
       "      <td>25%</td>\n",
       "      <td>19.950000</td>\n",
       "      <td>19.850000</td>\n",
       "    </tr>\n",
       "    <tr>\n",
       "      <td>50%</td>\n",
       "      <td>21.300000</td>\n",
       "      <td>21.100000</td>\n",
       "    </tr>\n",
       "    <tr>\n",
       "      <td>75%</td>\n",
       "      <td>23.200000</td>\n",
       "      <td>23.050000</td>\n",
       "    </tr>\n",
       "    <tr>\n",
       "      <td>max</td>\n",
       "      <td>24.900000</td>\n",
       "      <td>24.900000</td>\n",
       "    </tr>\n",
       "  </tbody>\n",
       "</table>\n",
       "</div>"
      ],
      "text/plain": [
       "       act_2017_sci  act_2018_sci\n",
       "count     51.000000     51.000000\n",
       "mean      21.450980     21.345098\n",
       "std        1.739353      1.870114\n",
       "min       18.200000     17.900000\n",
       "25%       19.950000     19.850000\n",
       "50%       21.300000     21.100000\n",
       "75%       23.200000     23.050000\n",
       "max       24.900000     24.900000"
      ]
     },
     "execution_count": 62,
     "metadata": {},
     "output_type": "execute_result"
    }
   ],
   "source": [
    "final[['act_2017_sci', 'act_2018_sci']].describe()"
   ]
  },
  {
   "cell_type": "code",
   "execution_count": 63,
   "metadata": {
    "scrolled": true
   },
   "outputs": [
    {
     "data": {
      "image/png": "[encoded data removed]",
      "text/plain": [
       "<Figure size 864x720 with 4 Axes>"
      ]
     },
     "metadata": {
      "needs_background": "light"
     },
     "output_type": "display_data"
    }
   ],
   "source": [
    "# Code\n",
    "subplot_histograms(final,['sat_2017_participation', 'sat_2018_participation', 'act_2017_participation', 'act_2018_participation'], ['SAT 2017', 'SAT 2018', 'ACT 2017', 'ACT 2018'], ['% of Participation', '% of Participation','% of Participation','% of Participation',], 'USA Exam Participation Rates', ['tab:blue', 'tab:blue', 'tab:red', 'tab:red'], '% of Participation')"
   ]
  },
  {
   "cell_type": "markdown",
   "metadata": {},
   "source": [
    "#### Exam Participation Observations\n",
    "Based on the four graphs, we can deduce that ACT is the more popular exam, some states also have preference on taking only one of the two exams in a year (with exceptions of certain states that have high participation in both exams)."
   ]
  },
  {
   "cell_type": "code",
   "execution_count": 64,
   "metadata": {},
   "outputs": [
    {
     "data": {
      "image/png": "[encoded data removed]",
      "text/plain": [
       "<Figure size 864x720 with 4 Axes>"
      ]
     },
     "metadata": {
      "needs_background": "light"
     },
     "output_type": "display_data"
    }
   ],
   "source": [
    "# Code\n",
    "subplot_histograms(final,['sat_2017_mth', 'sat_2018_mth', 'act_2017_mth', 'act_2018_mth'], ['SAT 2017', 'SAT 2018', 'ACT 2017', 'ACT 2018'], ['% of mth', '% of mth','% of mth','% of mth'], 'USA Math Scores by State', ['tab:blue', 'tab:blue', 'tab:red', 'tab:red'], 'Score')"
   ]
  },
  {
   "cell_type": "markdown",
   "metadata": {},
   "source": [
    "#### Math Scores Observations\n",
    "Based on the four graphs, we can deduce majority of states are performing below the average mean of math scores. ACT in 2018 however has a significant improvement of states with higher ACT scores well above the mean. It will be productive to understand the methods used by these states that helped improve the overall performance."
   ]
  },
  {
   "cell_type": "code",
   "execution_count": 65,
   "metadata": {},
   "outputs": [
    {
     "data": {
      "image/png": "[encoded data removed]",
      "text/plain": [
       "<Figure size 864x720 with 4 Axes>"
      ]
     },
     "metadata": {
      "needs_background": "light"
     },
     "output_type": "display_data"
    }
   ],
   "source": [
    "# Code\n",
    "subplot_histograms(final,['sat_2017_erw', 'sat_2018_erw', 'act_2017_rdg', 'act_2018_rdg'], ['SAT 2017', 'SAT 2018', 'ACT 2017', 'ACT 2018'], ['% of mth', '% of mth','% of mth','% of mth',], 'USA Reading / Verbal Scores by State', ['tab:blue', 'tab:blue', 'tab:red', 'tab:red'], 'Score')"
   ]
  },
  {
   "cell_type": "markdown",
   "metadata": {},
   "source": [
    "#### Reading / Verbal Scores Observations\n",
    "Based on the four graphs, reading scores maintain the same from 2017 to 2018. However it is well worth noting that there are around 10 states which performed close to the max value score for SAT among the 50 states, and majority of states are close to the mean value as well. ACT on the other hand has majority of states performing below the mean average of the nation."
   ]
  },
  {
   "cell_type": "markdown",
   "metadata": {},
   "source": [
    "#### Plot and interpret scatter plots\n",
    "\n",
    "For each of the following:\n",
    "- SAT vs. ACT math scores for 2017\n",
    "- SAT vs. ACT verbal/reading scores for 2017\n",
    "- SAT vs. ACT total/composite scores for 2017\n",
    "- Total scores for SAT 2017 vs. 2018\n",
    "- Composite scores for ACT 2017 vs. 2018\n",
    "\n",
    "Plot the two variables against each other using matplotlib or Seaborn\n",
    "\n",
    "Your plots should show:\n",
    "- Two clearly labeled axes\n",
    "- A proper title\n",
    "- Using colors and symbols that are clear and unmistakable\n",
    "\n",
    "**Feel free to write a custom function, and subplot if you'd like.** Functions save both time and space.\n"
   ]
  },
  {
   "cell_type": "code",
   "execution_count": 66,
   "metadata": {},
   "outputs": [],
   "source": [
    "# Code\n",
    "def subplot_scatter(dataframe, list_of_columns, list_of_xaxis, list_of_titles, list_of_xlabels, list_of_ylabels, main_title, list_of_colour):\n",
    "    nrows = int(np.ceil(len(list_of_columns)/2)) # Makes sure you have enough rows\n",
    "    fig, ax = plt.subplots(nrows=nrows, ncols=2, figsize=(15,5)) # You'll want to specify your figsize\n",
    "    ax = ax.ravel() # Ravel turns a matrix into a vector, which is easier to iterate\n",
    "    for i, column in enumerate(list_of_columns): # Gives us an index value to get into all our lists\n",
    "        ax[i].scatter(dataframe[column], color=list_of_colour[i], y=dataframe[list_of_xaxis[i]], s=20) # feel free to add more settings\n",
    "        ax[i].set_title(list_of_titles[i], fontsize=12)\n",
    "        ax[i].set_xlabel(list_of_xlabels[i], fontsize=12)\n",
    "        ax[i].set_ylabel(list_of_ylabels[i], fontsize=12)\n",
    "        plt.suptitle(main_title, fontsize=20)"
   ]
  },
  {
   "cell_type": "code",
   "execution_count": 67,
   "metadata": {
    "scrolled": true
   },
   "outputs": [
    {
     "data": {
      "image/png": "[encoded data removed]",
      "text/plain": [
       "<Figure size 1080x360 with 2 Axes>"
      ]
     },
     "metadata": {
      "needs_background": "light"
     },
     "output_type": "display_data"
    }
   ],
   "source": [
    "subplot_scatter(final, ['sat_2017_mth', 'sat_2017_erw'], ['act_2017_mth', 'act_2017_rdg'], ['Math', 'Reading'], ['SAT', 'SAT'], ['ACT', 'ACT'], '2017 SAT vs ACT Scores', ['tab:blue', 'tab:red'])"
   ]
  },
  {
   "cell_type": "markdown",
   "metadata": {},
   "source": [
    "#### SAT vs ACT 2017 Observations\n",
    "There is no correlation between the performance for Math and Reading for both exams (e.g. high math scores for SAT does not necessarily result in high math scores for ACT)"
   ]
  },
  {
   "cell_type": "code",
   "execution_count": 68,
   "metadata": {
    "scrolled": false
   },
   "outputs": [
    {
     "data": {
      "image/png": "[encoded data removed]",
      "text/plain": [
       "<Figure size 432x288 with 1 Axes>"
      ]
     },
     "metadata": {
      "needs_background": "light"
     },
     "output_type": "display_data"
    }
   ],
   "source": [
    "final.plot(kind='scatter', x='sat_2017_total', y='act_2017_composite')\n",
    "plt.suptitle('2017 SAT Total vs ACT Composite Scores', fontsize=20)\n",
    "plt.xlabel('SAT', fontsize=10)\n",
    "plt.ylabel('ACT', fontsize=10);"
   ]
  },
  {
   "cell_type": "markdown",
   "metadata": {},
   "source": [
    "#### SAT Total vs ACT Composite 2017 Observations\n",
    "There is a slight inverse correlation between the SAT total score and ACT correlation score. With states performing well for SAT in 2017 having a slightly lower ACT composite score and vice versa."
   ]
  },
  {
   "cell_type": "code",
   "execution_count": 69,
   "metadata": {
    "scrolled": true
   },
   "outputs": [
    {
     "data": {
      "image/png": "[encoded data removed]",
      "text/plain": [
       "<Figure size 1080x360 with 2 Axes>"
      ]
     },
     "metadata": {
      "needs_background": "light"
     },
     "output_type": "display_data"
    }
   ],
   "source": [
    "subplot_scatter(final, ['sat_2017_total', 'act_2017_composite'], ['sat_2018_total', 'act_2018_composite'], ['SAT Total', 'ACT Composite'], ['SAT 2017', 'ACT 2017'], ['SAT 2018', 'ACT 2018'], '2017 vs 2018 Total / Composite Score', ['tab:blue', 'tab:red'])"
   ]
  },
  {
   "cell_type": "markdown",
   "metadata": {},
   "source": [
    "#### 2017 vs 2018 Observations\n",
    "There is a clear correlation between the two years for both exams. States which performed well for SAT in 2017 performed well for 2018 as well, where the same applies to ACT. States which performed poorly for one exam also performed poorly for the same exam the following year."
   ]
  },
  {
   "cell_type": "markdown",
   "metadata": {},
   "source": [
    "#### Plot and interpret boxplots\n",
    "\n",
    "For each numeric variable in the dataframe create a boxplot using Seaborn. Boxplots demonstrate central tendency and spread in variables. In a certain sense, these are somewhat redundant with histograms, but you may be better able to identify clear outliers or differences in IQR, etc.\n",
    "\n",
    "Multiple values can be plotted to a single boxplot as long as they are of the same relative scale (meaning they have similar min/max values).\n",
    "\n",
    "Each boxplot should:\n",
    "- Only include variables of a similar scale\n",
    "- Have clear labels for each variable\n",
    "- Have appropriate titles and labels"
   ]
  },
  {
   "cell_type": "code",
   "execution_count": 70,
   "metadata": {},
   "outputs": [],
   "source": [
    "# Code\n",
    "# We create new sets of dataframes to categorise the elements we want in each boxplot\n",
    "# We categorise these new df based on their similar min and max values\n",
    "\n",
    "# SAT 2017 & 2018 modules\n",
    "# Rename columns to display presentable names in boxplot\n",
    "bpsat = pd.DataFrame(data = final, columns = ['sat_2017_mth', 'sat_2017_erw', 'sat_2018_mth', 'sat_2018_erw'])\n",
    "bpsat.rename(columns={\n",
    "    'sat_2017_mth': '2017 Math', 'sat_2017_erw': '2017 Reading', 'sat_2018_mth': '2018 Math', 'sat_2018_erw': '2018 Reading'    \n",
    "},inplace=True)\n",
    "\n",
    "# SAT 2017 & 2018 total\n",
    "bpsat_total = pd.DataFrame(data = final, columns = ['sat_2017_total', 'sat_2018_total'])\n",
    "bpsat_total.rename(columns={\n",
    "    'sat_2017_total': '2017', 'sat_2018_total': '2018'    \n",
    "},inplace=True)\n",
    "\n",
    "# ACT 2017 & 2018 modules\n",
    "bpact = pd.DataFrame(data = final, columns = ['act_2017_eng', 'act_2017_mth', 'act_2017_rdg', 'act_2017_sci', 'act_2018_eng', 'act_2018_mth', 'act_2018_rdg', 'act_2018_sci'])\n",
    "bpact.rename(columns={\n",
    "    'act_2017_eng': '2017 English', 'act_2017_mth': '2017 Math', 'act_2017_rdg': '2017 Reading', 'act_2017_sci': '2017 Science', 'act_2018_eng': '2018 English', 'act_2018_mth': '2018 Math', 'act_2018_rdg': '2018 Reading', 'act_2018_sci': '2018 Science'    \n",
    "},inplace=True)\n",
    "\n",
    "# ACT 2017 & 2018 composite\n",
    "bpact_composite = pd.DataFrame(data = final, columns = ['act_2017_composite', 'act_2018_composite'])\n",
    "bpact_composite.rename(columns={\n",
    "    'act_2017_composite': '2017', 'act_2018_composite': '2018'\n",
    "},inplace=True)\n",
    "\n",
    "# SAT & ACT participation for 2017 & 2018\n",
    "bp_participation = pd.DataFrame(data = final, columns = ['sat_2017_participation', 'sat_2018_participation', 'act_2017_participation', 'act_2018_participation'])\n",
    "bp_participation.rename(columns={\n",
    "    'sat_2017_participation': '2017 SAT', 'sat_2018_participation': '2018 SAT', 'act_2017_participation': '2017 ACT', 'act_2018_participation': '2018 ACT'\n",
    "},inplace=True)"
   ]
  },
  {
   "cell_type": "code",
   "execution_count": 71,
   "metadata": {},
   "outputs": [
    {
     "data": {
      "image/png": "[encoded data removed]",
      "text/plain": [
       "<Figure size 432x288 with 1 Axes>"
      ]
     },
     "metadata": {
      "needs_background": "light"
     },
     "output_type": "display_data"
    }
   ],
   "source": [
    "# Setting a criteria to group colours into categories based on differences in values (e.g. 2017 and 2018 are different categories)\n",
    "bpsatcat = {columns: \"SteelBlue\" if '2018' in columns else \"Salmon\" for columns in bpsat.columns.unique()}\n",
    "\n",
    "# Create a boxplot with title set\n",
    "sns.boxplot(data=(bpsat), palette=bpsatcat, orient='h').set_title('SAT Scores');\n",
    "\n"
   ]
  },
  {
   "cell_type": "markdown",
   "metadata": {},
   "source": [
    "#### SAT Module Observations\n",
    "We need to pay attention to states below the 25% percentile as the mean score is close to 100 above the minimum amount. There is at least 50% of the states which have scores below the mean and we need to identify the differences in education standards."
   ]
  },
  {
   "cell_type": "code",
   "execution_count": 72,
   "metadata": {
    "scrolled": true
   },
   "outputs": [
    {
     "data": {
      "image/png": "[encoded data removed]",
      "text/plain": [
       "<Figure size 432x288 with 1 Axes>"
      ]
     },
     "metadata": {
      "needs_background": "light"
     },
     "output_type": "display_data"
    }
   ],
   "source": [
    "bpsatcat_total = {columns: \"SteelBlue\" if '2018' in columns else \"Salmon\" for columns in bpsat_total.columns.unique()}\n",
    "\n",
    "sns.boxplot(data=(bpsat_total), palette=bpsatcat_total, orient='h').set_title('SAT Total Scores');"
   ]
  },
  {
   "cell_type": "markdown",
   "metadata": {},
   "source": [
    "#### SAT Total Observations\n",
    "As observed for each individual module, 50% of the states are performing below the mean (e.g. mean ~1100 vs median score ~1090). However, 2018 performance slightly improved as the minimum value has increased from 950 to 970."
   ]
  },
  {
   "cell_type": "code",
   "execution_count": 73,
   "metadata": {},
   "outputs": [
    {
     "data": {
      "image/png": "[encoded data removed]",
      "text/plain": [
       "<Figure size 432x288 with 1 Axes>"
      ]
     },
     "metadata": {
      "needs_background": "light"
     },
     "output_type": "display_data"
    }
   ],
   "source": [
    "bpactcat = {columns: \"forestgreen\" if '2018' in columns else \"plum\" for columns in bpact.columns.unique()}\n",
    "\n",
    "sns.boxplot(data=(bpact), orient = 'h', palette=bpactcat).set_title('ACT Scores');\n"
   ]
  },
  {
   "cell_type": "markdown",
   "metadata": {},
   "source": [
    "#### ACT Module Observations\n",
    "As observed for each individual module, english appears to be a subject which certain states are struggling in with the bottom 25% being very far off from the median. In 2018, the mean for all modules have decreased which indicates poorer performance from more states compared to 2017, with the greatest drop coming from the english subject."
   ]
  },
  {
   "cell_type": "code",
   "execution_count": 74,
   "metadata": {},
   "outputs": [
    {
     "data": {
      "image/png": "[encoded data removed]",
      "text/plain": [
       "<Figure size 432x288 with 1 Axes>"
      ]
     },
     "metadata": {
      "needs_background": "light"
     },
     "output_type": "display_data"
    }
   ],
   "source": [
    "bpactcat_composite = {columns: \"forestgreen\" if '2018' in columns else \"plum\" for columns in bpact_composite.columns.unique()}\n",
    "\n",
    "sns.boxplot(data=(bpact_composite), palette=bpactcat_composite, orient='h').set_title('ACT Composite Scores');"
   ]
  },
  {
   "cell_type": "markdown",
   "metadata": {},
   "source": [
    "#### ACT Composite Observations\n",
    "Performance remains consistent for 2017 and 2018, attention needs to be paid towards states which are consistently performing poorly for both years."
   ]
  },
  {
   "cell_type": "code",
   "execution_count": 75,
   "metadata": {},
   "outputs": [
    {
     "data": {
      "image/png": "[encoded data removed]",
      "text/plain": [
       "<Figure size 432x288 with 1 Axes>"
      ]
     },
     "metadata": {
      "needs_background": "light"
     },
     "output_type": "display_data"
    }
   ],
   "source": [
    "sns.boxplot(data=(bp_participation), palette='Set3', orient='h').set_title('Overall Participation Rates by %');"
   ]
  },
  {
   "cell_type": "markdown",
   "metadata": {},
   "source": [
    "#### Participation Rate Observations\n",
    "ACT appears to be the popular choice for most states as the mean participation is well above 50%. Outlier states for ACT are likely the participants for SAT in both years."
   ]
  },
  {
   "cell_type": "markdown",
   "metadata": {},
   "source": [
    "#### Feel free to do additional plots below\n",
    "*(do research and choose your own chart types & variables)*\n",
    "\n",
    "Are there any additional trends or relationships you haven't explored? Was there something interesting you saw that you'd like to dive further into? It's likely that there are a few more plots you might want to generate to support your narrative and recommendations that you are building toward. **As always, make sure you're interpreting your plots as you go**."
   ]
  },
  {
   "cell_type": "markdown",
   "metadata": {},
   "source": [
    "#### Investigating countries with significant participation rate changes"
   ]
  },
  {
   "cell_type": "code",
   "execution_count": 76,
   "metadata": {
    "scrolled": true
   },
   "outputs": [
    {
     "data": {
      "text/html": [
       "<div>\n",
       "<style scoped>\n",
       "    .dataframe tbody tr th:only-of-type {\n",
       "        vertical-align: middle;\n",
       "    }\n",
       "\n",
       "    .dataframe tbody tr th {\n",
       "        vertical-align: top;\n",
       "    }\n",
       "\n",
       "    .dataframe thead th {\n",
       "        text-align: right;\n",
       "    }\n",
       "</style>\n",
       "<table border=\"1\" class=\"dataframe\">\n",
       "  <thead>\n",
       "    <tr style=\"text-align: right;\">\n",
       "      <th></th>\n",
       "      <th>state</th>\n",
       "      <th>sat_2017_participation</th>\n",
       "      <th>sat_2018_participation</th>\n",
       "      <th>movement</th>\n",
       "    </tr>\n",
       "  </thead>\n",
       "  <tbody>\n",
       "    <tr>\n",
       "      <td>5</td>\n",
       "      <td>Colorado</td>\n",
       "      <td>0.11</td>\n",
       "      <td>1.00</td>\n",
       "      <td>-0.89</td>\n",
       "    </tr>\n",
       "    <tr>\n",
       "      <td>9</td>\n",
       "      <td>Florida</td>\n",
       "      <td>0.83</td>\n",
       "      <td>0.56</td>\n",
       "      <td>0.27</td>\n",
       "    </tr>\n",
       "    <tr>\n",
       "      <td>13</td>\n",
       "      <td>Illinois</td>\n",
       "      <td>0.09</td>\n",
       "      <td>0.99</td>\n",
       "      <td>-0.90</td>\n",
       "    </tr>\n",
       "    <tr>\n",
       "      <td>39</td>\n",
       "      <td>Rhode Island</td>\n",
       "      <td>0.71</td>\n",
       "      <td>0.97</td>\n",
       "      <td>-0.26</td>\n",
       "    </tr>\n",
       "  </tbody>\n",
       "</table>\n",
       "</div>"
      ],
      "text/plain": [
       "           state  sat_2017_participation  sat_2018_participation  movement\n",
       "5       Colorado                    0.11                    1.00     -0.89\n",
       "9        Florida                    0.83                    0.56      0.27\n",
       "13      Illinois                    0.09                    0.99     -0.90\n",
       "39  Rhode Island                    0.71                    0.97     -0.26"
      ]
     },
     "execution_count": 76,
     "metadata": {},
     "output_type": "execute_result"
    }
   ],
   "source": [
    "# We create a new column to determine which states have significant movement in participation from 2017 to 2018 by filtering movements by more than 15%\n",
    "sat_attention = final.loc[((final['sat_2017_participation'] - final['sat_2018_participation']) > 0.15) | ((final['sat_2017_participation'] - final['sat_2018_participation']) < -0.15),['state','sat_2017_participation','sat_2018_participation']]\n",
    "sat_attention['movement'] = sat_attention['sat_2017_participation'] - sat_attention['sat_2018_participation']\n",
    "sat_attention"
   ]
  },
  {
   "cell_type": "markdown",
   "metadata": {},
   "source": [
    "#### Plot a line chart to display States with significant participation movement\n",
    "##### By doing so, we can clearly present which states' method of encouraging participation rates is effective"
   ]
  },
  {
   "cell_type": "code",
   "execution_count": 77,
   "metadata": {
    "scrolled": true
   },
   "outputs": [
    {
     "data": {
      "image/png": "[encoded data removed]",
      "text/plain": [
       "<Figure size 800x800 with 1 Axes>"
      ]
     },
     "metadata": {
      "needs_background": "light"
     },
     "output_type": "display_data"
    }
   ],
   "source": [
    "import matplotlib.lines as mlines\n",
    "\n",
    "# Creating markers to indicate states and percentages for 2017 and 2018\n",
    "left_label = [str(c) + ', '+ str(round(y)) for c, y in zip(sat_attention.state, sat_attention['sat_2017_participation'])]\n",
    "right_label = [str(c) + ', '+ str(round(y)) for c, y in zip(sat_attention.state, sat_attention['sat_2018_participation'])]\n",
    "klass = ['red' if (y1-y2) < 0 else 'green' for y1, y2 in zip(sat_attention['sat_2017_participation'], sat_attention['sat_2018_participation'])]\n",
    "\n",
    "# Creating line style to indicate increase or decrease in participation rate based on color\n",
    "def newline(p1, p2, color='black'):\n",
    "    ax = plt.gca()\n",
    "    l = mlines.Line2D([p1[0],p2[0]], [p1[1],p2[1]], color='red' if p1[1]-p2[1] > 0 else 'green', marker='o', markersize=6)\n",
    "    ax.add_line(l)\n",
    "    return l\n",
    "\n",
    "fig, ax = plt.subplots(1,1,figsize=(10,10), dpi= 80)\n",
    "\n",
    "# Vertical Lines\n",
    "ax.vlines(x=1, ymin=0, ymax=1.1, color='black', alpha=0.7, linewidth=1, linestyles='dotted')\n",
    "ax.vlines(x=3, ymin=0, ymax=1.1, color='black', alpha=0.7, linewidth=1, linestyles='dotted')\n",
    "\n",
    "# Line Segmentsand Annotation\n",
    "for p1, p2, c in zip(sat_attention['sat_2017_participation'], sat_attention['sat_2018_participation'], sat_attention['state']):\n",
    "    newline([1,p1], [3,p2])\n",
    "    ax.text(1-0.05, p1, c + ', ' + str(int(p1*100)) + '%', horizontalalignment='right', verticalalignment='center', fontdict={'size':10})\n",
    "    ax.text(3+0.05, p2, str(int(p2*100)) + '%', horizontalalignment='left', verticalalignment='center', fontdict={'size':10})\n",
    "\n",
    "# 'Before' and 'After' Annotations\n",
    "ax.text(1-0.05, 1.1, '2017', horizontalalignment='right', verticalalignment='center', fontdict={'size':18, 'weight':500})\n",
    "ax.text(3+0.05, 1.1, '2018', horizontalalignment='left', verticalalignment='center', fontdict={'size':18, 'weight':500})\n",
    "\n",
    "# Decoration\n",
    "ax.set_title(\"Significant Changes in SAT Participation from 2017 to 2018\", fontdict={'size':22})\n",
    "ax.set(xlim=(0.2,4), ylim=(0,1.2), ylabel='Participation Rate')\n",
    "ax.set_xticks([1,3])\n",
    "ax.set_xticklabels([\"\", \"\"])\n",
    "plt.yticks(np.arange(0, 1.1, 0.1), fontsize=12)\n",
    "\n",
    "# Lighten borders\n",
    "plt.gca().spines[\"top\"].set_alpha(.0)\n",
    "plt.gca().spines[\"bottom\"].set_alpha(.0)\n",
    "plt.gca().spines[\"right\"].set_alpha(.0)\n",
    "plt.gca().spines[\"left\"].set_alpha(.0)\n",
    "plt.show()"
   ]
  },
  {
   "cell_type": "markdown",
   "metadata": {},
   "source": [
    "#### SAT Participation Rate Observations\n",
    "From the line chart, we can see that Colorado and Illinois have greatly increased their participation for SAT. Looking back at the boxplot charts, the mean score from 2017 to 2018 has increased which are likely contributed from these two states."
   ]
  },
  {
   "cell_type": "code",
   "execution_count": 78,
   "metadata": {},
   "outputs": [
    {
     "data": {
      "text/html": [
       "<div>\n",
       "<style scoped>\n",
       "    .dataframe tbody tr th:only-of-type {\n",
       "        vertical-align: middle;\n",
       "    }\n",
       "\n",
       "    .dataframe tbody tr th {\n",
       "        vertical-align: top;\n",
       "    }\n",
       "\n",
       "    .dataframe thead th {\n",
       "        text-align: right;\n",
       "    }\n",
       "</style>\n",
       "<table border=\"1\" class=\"dataframe\">\n",
       "  <thead>\n",
       "    <tr style=\"text-align: right;\">\n",
       "      <th></th>\n",
       "      <th>state</th>\n",
       "      <th>act_2017_participation</th>\n",
       "      <th>act_2018_participation</th>\n",
       "      <th>movement</th>\n",
       "    </tr>\n",
       "  </thead>\n",
       "  <tbody>\n",
       "    <tr>\n",
       "      <td>1</td>\n",
       "      <td>Alaska</td>\n",
       "      <td>0.65</td>\n",
       "      <td>0.33</td>\n",
       "      <td>0.32</td>\n",
       "    </tr>\n",
       "    <tr>\n",
       "      <td>5</td>\n",
       "      <td>Colorado</td>\n",
       "      <td>1.00</td>\n",
       "      <td>0.30</td>\n",
       "      <td>0.70</td>\n",
       "    </tr>\n",
       "    <tr>\n",
       "      <td>13</td>\n",
       "      <td>Illinois</td>\n",
       "      <td>0.93</td>\n",
       "      <td>0.43</td>\n",
       "      <td>0.50</td>\n",
       "    </tr>\n",
       "    <tr>\n",
       "      <td>27</td>\n",
       "      <td>Nebraska</td>\n",
       "      <td>0.84</td>\n",
       "      <td>1.00</td>\n",
       "      <td>-0.16</td>\n",
       "    </tr>\n",
       "    <tr>\n",
       "      <td>35</td>\n",
       "      <td>Ohio</td>\n",
       "      <td>0.75</td>\n",
       "      <td>1.00</td>\n",
       "      <td>-0.25</td>\n",
       "    </tr>\n",
       "  </tbody>\n",
       "</table>\n",
       "</div>"
      ],
      "text/plain": [
       "       state  act_2017_participation  act_2018_participation  movement\n",
       "1     Alaska                    0.65                    0.33      0.32\n",
       "5   Colorado                    1.00                    0.30      0.70\n",
       "13  Illinois                    0.93                    0.43      0.50\n",
       "27  Nebraska                    0.84                    1.00     -0.16\n",
       "35      Ohio                    0.75                    1.00     -0.25"
      ]
     },
     "execution_count": 78,
     "metadata": {},
     "output_type": "execute_result"
    }
   ],
   "source": [
    "act_attention = final.loc[((final['act_2017_participation'] - final['act_2018_participation']) > 0.15) | ((final['act_2017_participation'] - final['act_2018_participation']) < -0.15),['state','act_2017_participation','act_2018_participation']]\n",
    "act_attention['movement'] = act_attention['act_2017_participation'] - act_attention['act_2018_participation']\n",
    "act_attention"
   ]
  },
  {
   "cell_type": "code",
   "execution_count": 79,
   "metadata": {
    "scrolled": false
   },
   "outputs": [
    {
     "data": {
      "image/png": "[encoded data removed]",
      "text/plain": [
       "<Figure size 800x800 with 1 Axes>"
      ]
     },
     "metadata": {
      "needs_background": "light"
     },
     "output_type": "display_data"
    }
   ],
   "source": [
    "import matplotlib.lines as mlines\n",
    "\n",
    "# Creating Markers to indicate states and percentages for 2017 and 2018\n",
    "left_label = [str(c) + ', '+ str(round(y)) for c, y in zip(act_attention.state, act_attention['act_2017_participation'])]\n",
    "right_label = [str(c) + ', '+ str(round(y)) for c, y in zip(act_attention.state, act_attention['act_2018_participation'])]\n",
    "klass = ['red' if (y1-y2) < 0 else 'green' for y1, y2 in zip(act_attention['act_2017_participation'], act_attention['act_2018_participation'])]\n",
    "\n",
    "# Creating line style to indicate increase or decrease in participation rate based on color\n",
    "def newline(p1, p2, color='black'):\n",
    "    ax = plt.gca()\n",
    "    l = mlines.Line2D([p1[0],p2[0]], [p1[1],p2[1]], color='red' if p1[1]-p2[1] > 0 else 'green', marker='o', markersize=6)\n",
    "    ax.add_line(l)\n",
    "    return l\n",
    "\n",
    "fig, ax = plt.subplots(1,1,figsize=(10,10), dpi= 80)\n",
    "\n",
    "# Vertical Lines\n",
    "ax.vlines(x=1, ymin=0, ymax=1.1, color='black', alpha=0.7, linewidth=1, linestyles='dotted')\n",
    "ax.vlines(x=3, ymin=0, ymax=1.1, color='black', alpha=0.7, linewidth=1, linestyles='dotted')\n",
    "\n",
    "# Line Segmentsand Annotation\n",
    "for p1, p2, c in zip(act_attention['act_2017_participation'], act_attention['act_2018_participation'], act_attention['state']):\n",
    "    newline([1,p1], [3,p2])\n",
    "    ax.text(1-0.05, p1, c + ', ' + str(int(p1*100)) + '%', horizontalalignment='right', verticalalignment='center', fontdict={'size':10})\n",
    "    ax.text(3+0.05, p2, str(int(p2*100)) + '%', horizontalalignment='left', verticalalignment='center', fontdict={'size':10})\n",
    "\n",
    "# 'Before' and 'After' Annotations\n",
    "ax.text(1-0.05, 1.1, '2017', horizontalalignment='right', verticalalignment='center', fontdict={'size':18, 'weight':500})\n",
    "ax.text(3+0.05, 1.1, '2018', horizontalalignment='left', verticalalignment='center', fontdict={'size':18, 'weight':500})\n",
    "\n",
    "# Decoration\n",
    "ax.set_title(\"Significant Changes in ACT Participation from 2017 to 2018\", fontdict={'size':22})\n",
    "ax.set(xlim=(0.2,4), ylim=(0,1.2), ylabel='Participation Rate')\n",
    "ax.set_xticks([1,3])\n",
    "ax.set_xticklabels([\"\", \"\"])\n",
    "plt.yticks(np.arange(0, 1.1, 0.1), fontsize=12)\n",
    "\n",
    "# Lighten borders\n",
    "plt.gca().spines[\"top\"].set_alpha(.0)\n",
    "plt.gca().spines[\"bottom\"].set_alpha(.0)\n",
    "plt.gca().spines[\"right\"].set_alpha(.0)\n",
    "plt.gca().spines[\"left\"].set_alpha(.0)\n",
    "plt.show()"
   ]
  },
  {
   "cell_type": "markdown",
   "metadata": {},
   "source": [
    "#### ACT Participation Rate Observations\n",
    "As expected from the inverse relation, Colorado and Illinois' participation for ACT has decreased as rates increased for SAT. There appears to be more states moving out of ACT. However, Nebraska and Ohio have shifted to a 100% participation rate for ACT in 2018 from 84% and 75% respectively."
   ]
  },
  {
   "cell_type": "markdown",
   "metadata": {},
   "source": [
    "#### (Optional): Using Tableau, create a choropleth map for each variable using a map of the US. \n",
    "\n",
    "Save this plot as an image file in an images directory, provide a relative path, and insert the image into notebook in markdown."
   ]
  },
  {
   "cell_type": "code",
   "execution_count": null,
   "metadata": {},
   "outputs": [],
   "source": []
  },
  {
   "cell_type": "markdown",
   "metadata": {},
   "source": [
    "## Descriptive and Inferential Statistics"
   ]
  },
  {
   "cell_type": "code",
   "execution_count": 80,
   "metadata": {},
   "outputs": [
    {
     "data": {
      "text/html": [
       "<div>\n",
       "<style scoped>\n",
       "    .dataframe tbody tr th:only-of-type {\n",
       "        vertical-align: middle;\n",
       "    }\n",
       "\n",
       "    .dataframe tbody tr th {\n",
       "        vertical-align: top;\n",
       "    }\n",
       "\n",
       "    .dataframe thead th {\n",
       "        text-align: right;\n",
       "    }\n",
       "</style>\n",
       "<table border=\"1\" class=\"dataframe\">\n",
       "  <thead>\n",
       "    <tr style=\"text-align: right;\">\n",
       "      <th></th>\n",
       "      <th>sat_2017_participation</th>\n",
       "      <th>sat_2017_erw</th>\n",
       "      <th>sat_2017_mth</th>\n",
       "      <th>sat_2017_total</th>\n",
       "      <th>act_2017_participation</th>\n",
       "      <th>act_2017_eng</th>\n",
       "      <th>act_2017_mth</th>\n",
       "      <th>act_2017_rdg</th>\n",
       "      <th>act_2017_sci</th>\n",
       "      <th>act_2017_composite</th>\n",
       "      <th>sat_2018_participation</th>\n",
       "      <th>sat_2018_erw</th>\n",
       "      <th>sat_2018_mth</th>\n",
       "      <th>sat_2018_total</th>\n",
       "      <th>act_2018_participation</th>\n",
       "      <th>act_2018_composite</th>\n",
       "      <th>act_2018_eng</th>\n",
       "      <th>act_2018_mth</th>\n",
       "      <th>act_2018_rdg</th>\n",
       "      <th>act_2018_sci</th>\n",
       "    </tr>\n",
       "  </thead>\n",
       "  <tbody>\n",
       "    <tr>\n",
       "      <td>count</td>\n",
       "      <td>51.000000</td>\n",
       "      <td>51.000000</td>\n",
       "      <td>51.000000</td>\n",
       "      <td>51.000000</td>\n",
       "      <td>51.000000</td>\n",
       "      <td>51.000000</td>\n",
       "      <td>51.000000</td>\n",
       "      <td>51.000000</td>\n",
       "      <td>51.000000</td>\n",
       "      <td>51.000000</td>\n",
       "      <td>51.000000</td>\n",
       "      <td>51.000000</td>\n",
       "      <td>51.000000</td>\n",
       "      <td>51.000000</td>\n",
       "      <td>51.000000</td>\n",
       "      <td>51.000000</td>\n",
       "      <td>51.000000</td>\n",
       "      <td>51.000000</td>\n",
       "      <td>51.000000</td>\n",
       "      <td>51.000000</td>\n",
       "    </tr>\n",
       "    <tr>\n",
       "      <td>mean</td>\n",
       "      <td>0.398039</td>\n",
       "      <td>569.117647</td>\n",
       "      <td>556.882353</td>\n",
       "      <td>1126.098039</td>\n",
       "      <td>0.652549</td>\n",
       "      <td>20.931373</td>\n",
       "      <td>21.182353</td>\n",
       "      <td>22.013725</td>\n",
       "      <td>21.450980</td>\n",
       "      <td>21.519608</td>\n",
       "      <td>0.457451</td>\n",
       "      <td>563.686275</td>\n",
       "      <td>556.235294</td>\n",
       "      <td>1120.019608</td>\n",
       "      <td>0.616471</td>\n",
       "      <td>21.486275</td>\n",
       "      <td>20.988235</td>\n",
       "      <td>21.125490</td>\n",
       "      <td>22.015686</td>\n",
       "      <td>21.345098</td>\n",
       "    </tr>\n",
       "    <tr>\n",
       "      <td>std</td>\n",
       "      <td>0.352766</td>\n",
       "      <td>45.666901</td>\n",
       "      <td>47.121395</td>\n",
       "      <td>92.494812</td>\n",
       "      <td>0.321408</td>\n",
       "      <td>2.353677</td>\n",
       "      <td>1.981989</td>\n",
       "      <td>2.067271</td>\n",
       "      <td>1.739353</td>\n",
       "      <td>2.020695</td>\n",
       "      <td>0.373143</td>\n",
       "      <td>47.502627</td>\n",
       "      <td>47.772623</td>\n",
       "      <td>94.155083</td>\n",
       "      <td>0.340810</td>\n",
       "      <td>2.106278</td>\n",
       "      <td>2.446356</td>\n",
       "      <td>2.035765</td>\n",
       "      <td>2.167245</td>\n",
       "      <td>1.870114</td>\n",
       "    </tr>\n",
       "    <tr>\n",
       "      <td>min</td>\n",
       "      <td>0.020000</td>\n",
       "      <td>482.000000</td>\n",
       "      <td>468.000000</td>\n",
       "      <td>950.000000</td>\n",
       "      <td>0.080000</td>\n",
       "      <td>16.300000</td>\n",
       "      <td>18.000000</td>\n",
       "      <td>18.100000</td>\n",
       "      <td>18.200000</td>\n",
       "      <td>17.800000</td>\n",
       "      <td>0.020000</td>\n",
       "      <td>480.000000</td>\n",
       "      <td>480.000000</td>\n",
       "      <td>977.000000</td>\n",
       "      <td>0.070000</td>\n",
       "      <td>17.700000</td>\n",
       "      <td>16.600000</td>\n",
       "      <td>17.800000</td>\n",
       "      <td>18.000000</td>\n",
       "      <td>17.900000</td>\n",
       "    </tr>\n",
       "    <tr>\n",
       "      <td>25%</td>\n",
       "      <td>0.040000</td>\n",
       "      <td>533.500000</td>\n",
       "      <td>523.500000</td>\n",
       "      <td>1055.500000</td>\n",
       "      <td>0.310000</td>\n",
       "      <td>19.000000</td>\n",
       "      <td>19.400000</td>\n",
       "      <td>20.450000</td>\n",
       "      <td>19.950000</td>\n",
       "      <td>19.800000</td>\n",
       "      <td>0.045000</td>\n",
       "      <td>534.500000</td>\n",
       "      <td>522.500000</td>\n",
       "      <td>1057.500000</td>\n",
       "      <td>0.285000</td>\n",
       "      <td>19.950000</td>\n",
       "      <td>19.100000</td>\n",
       "      <td>19.400000</td>\n",
       "      <td>20.450000</td>\n",
       "      <td>19.850000</td>\n",
       "    </tr>\n",
       "    <tr>\n",
       "      <td>50%</td>\n",
       "      <td>0.380000</td>\n",
       "      <td>559.000000</td>\n",
       "      <td>548.000000</td>\n",
       "      <td>1107.000000</td>\n",
       "      <td>0.690000</td>\n",
       "      <td>20.700000</td>\n",
       "      <td>20.900000</td>\n",
       "      <td>21.800000</td>\n",
       "      <td>21.300000</td>\n",
       "      <td>21.400000</td>\n",
       "      <td>0.520000</td>\n",
       "      <td>552.000000</td>\n",
       "      <td>544.000000</td>\n",
       "      <td>1098.000000</td>\n",
       "      <td>0.660000</td>\n",
       "      <td>21.300000</td>\n",
       "      <td>20.200000</td>\n",
       "      <td>20.700000</td>\n",
       "      <td>21.600000</td>\n",
       "      <td>21.100000</td>\n",
       "    </tr>\n",
       "    <tr>\n",
       "      <td>75%</td>\n",
       "      <td>0.660000</td>\n",
       "      <td>613.000000</td>\n",
       "      <td>599.000000</td>\n",
       "      <td>1212.000000</td>\n",
       "      <td>1.000000</td>\n",
       "      <td>23.300000</td>\n",
       "      <td>23.100000</td>\n",
       "      <td>24.150000</td>\n",
       "      <td>23.200000</td>\n",
       "      <td>23.600000</td>\n",
       "      <td>0.775000</td>\n",
       "      <td>610.500000</td>\n",
       "      <td>593.500000</td>\n",
       "      <td>1204.000000</td>\n",
       "      <td>1.000000</td>\n",
       "      <td>23.550000</td>\n",
       "      <td>23.700000</td>\n",
       "      <td>23.150000</td>\n",
       "      <td>24.100000</td>\n",
       "      <td>23.050000</td>\n",
       "    </tr>\n",
       "    <tr>\n",
       "      <td>max</td>\n",
       "      <td>1.000000</td>\n",
       "      <td>644.000000</td>\n",
       "      <td>651.000000</td>\n",
       "      <td>1295.000000</td>\n",
       "      <td>1.000000</td>\n",
       "      <td>25.500000</td>\n",
       "      <td>25.300000</td>\n",
       "      <td>26.000000</td>\n",
       "      <td>24.900000</td>\n",
       "      <td>25.500000</td>\n",
       "      <td>1.000000</td>\n",
       "      <td>643.000000</td>\n",
       "      <td>655.000000</td>\n",
       "      <td>1298.000000</td>\n",
       "      <td>1.000000</td>\n",
       "      <td>25.600000</td>\n",
       "      <td>26.000000</td>\n",
       "      <td>25.200000</td>\n",
       "      <td>26.100000</td>\n",
       "      <td>24.900000</td>\n",
       "    </tr>\n",
       "  </tbody>\n",
       "</table>\n",
       "</div>"
      ],
      "text/plain": [
       "       sat_2017_participation  sat_2017_erw  sat_2017_mth  sat_2017_total  \\\n",
       "count               51.000000     51.000000     51.000000       51.000000   \n",
       "mean                 0.398039    569.117647    556.882353     1126.098039   \n",
       "std                  0.352766     45.666901     47.121395       92.494812   \n",
       "min                  0.020000    482.000000    468.000000      950.000000   \n",
       "25%                  0.040000    533.500000    523.500000     1055.500000   \n",
       "50%                  0.380000    559.000000    548.000000     1107.000000   \n",
       "75%                  0.660000    613.000000    599.000000     1212.000000   \n",
       "max                  1.000000    644.000000    651.000000     1295.000000   \n",
       "\n",
       "       act_2017_participation  act_2017_eng  act_2017_mth  act_2017_rdg  \\\n",
       "count               51.000000     51.000000     51.000000     51.000000   \n",
       "mean                 0.652549     20.931373     21.182353     22.013725   \n",
       "std                  0.321408      2.353677      1.981989      2.067271   \n",
       "min                  0.080000     16.300000     18.000000     18.100000   \n",
       "25%                  0.310000     19.000000     19.400000     20.450000   \n",
       "50%                  0.690000     20.700000     20.900000     21.800000   \n",
       "75%                  1.000000     23.300000     23.100000     24.150000   \n",
       "max                  1.000000     25.500000     25.300000     26.000000   \n",
       "\n",
       "       act_2017_sci  act_2017_composite  sat_2018_participation  sat_2018_erw  \\\n",
       "count     51.000000           51.000000               51.000000     51.000000   \n",
       "mean      21.450980           21.519608                0.457451    563.686275   \n",
       "std        1.739353            2.020695                0.373143     47.502627   \n",
       "min       18.200000           17.800000                0.020000    480.000000   \n",
       "25%       19.950000           19.800000                0.045000    534.500000   \n",
       "50%       21.300000           21.400000                0.520000    552.000000   \n",
       "75%       23.200000           23.600000                0.775000    610.500000   \n",
       "max       24.900000           25.500000                1.000000    643.000000   \n",
       "\n",
       "       sat_2018_mth  sat_2018_total  act_2018_participation  \\\n",
       "count     51.000000       51.000000               51.000000   \n",
       "mean     556.235294     1120.019608                0.616471   \n",
       "std       47.772623       94.155083                0.340810   \n",
       "min      480.000000      977.000000                0.070000   \n",
       "25%      522.500000     1057.500000                0.285000   \n",
       "50%      544.000000     1098.000000                0.660000   \n",
       "75%      593.500000     1204.000000                1.000000   \n",
       "max      655.000000     1298.000000                1.000000   \n",
       "\n",
       "       act_2018_composite  act_2018_eng  act_2018_mth  act_2018_rdg  \\\n",
       "count           51.000000     51.000000     51.000000     51.000000   \n",
       "mean            21.486275     20.988235     21.125490     22.015686   \n",
       "std              2.106278      2.446356      2.035765      2.167245   \n",
       "min             17.700000     16.600000     17.800000     18.000000   \n",
       "25%             19.950000     19.100000     19.400000     20.450000   \n",
       "50%             21.300000     20.200000     20.700000     21.600000   \n",
       "75%             23.550000     23.700000     23.150000     24.100000   \n",
       "max             25.600000     26.000000     25.200000     26.100000   \n",
       "\n",
       "       act_2018_sci  \n",
       "count     51.000000  \n",
       "mean      21.345098  \n",
       "std        1.870114  \n",
       "min       17.900000  \n",
       "25%       19.850000  \n",
       "50%       21.100000  \n",
       "75%       23.050000  \n",
       "max       24.900000  "
      ]
     },
     "execution_count": 80,
     "metadata": {},
     "output_type": "execute_result"
    }
   ],
   "source": [
    "final.describe()"
   ]
  },
  {
   "cell_type": "markdown",
   "metadata": {},
   "source": [
    "#### Summarizing Distributions\n",
    "\n",
    "Above, we used pandas `describe` to provide quick summary statistics of our numeric columns. We also demonstrated many visual relationships.\n",
    "\n",
    "As data scientists, having a complete understanding of data is imperative prior to modeling.\n",
    "\n",
    "While we will continue to build our analytic tools, we know that measures of *central tendency*, *spread*, and *shape/skewness* provide a quick summary of distributions.\n",
    "\n",
    "For each variable in your data, summarize the underlying distributions (in words & statistics)\n",
    " - Be thorough in your verbal description of these distributions.\n",
    " - Be sure to back up these summaries with statistics."
   ]
  },
  {
   "cell_type": "markdown",
   "metadata": {},
   "source": [
    "### Participation rates 2017 & 2018\n",
    "#### Both SAT and ACT are exponentially distributed and appear to be inversely correlated.\n",
    "\n",
    "This is because:\n",
    "- SAT has more than 25 states with participation below 40% for both years\n",
    "- ACT has more than 20 states with participation above 60%\n",
    "- States that have higher participation rates for ACT tend to have lower rates for SAT such as Colorado (11% for SAT and 100% for ACT in 2017)\n",
    "\n",
    "### Math 2017 & 2018\n",
    "#### SAT Math has a normal distribution with a slight positive skew\n",
    "\n",
    "This is because:\n",
    "- Mean is at 556 for both years, with the median being at around 545\n",
    "- From the median, we can identify that the graph is close to normal distribution due to it's low standard deviation of 47\n",
    "\n",
    "#### ACT Math does not have a normal distribution\n",
    "\n",
    "This is because:\n",
    "- Mean is at 21 with the median being slightly lower at around 20\n",
    "- Standard Deviation is quite high at 2, which indicates that varying states will perform either well or poorly for Math, far from the mean amount\n",
    "- Over 15 states achieved a score of above 23 and over 20 states achieved a score of below 20 which are out of the mean amount of 21\n",
    "\n",
    "### Reading 2017 & 2018\n",
    "#### SAT Reading does not have a normal distribution\n",
    "\n",
    "This is because:\n",
    "- Despite having a mean of around 560 for both years, the differences between each quartile is very close in value (e.g. SAT 2017 bottom 25% difference of 50 and second quartile difference of 30)\n",
    "- This results in the distribution being more spread out rather than a consistent bell shape. Additionally, a high number of states scored close to the max value of 644, resulting in the top quartile difference being around 30\n",
    "\n",
    "#### ACT Reading and English does not have a normal distribution\n",
    "\n",
    "This is because:\n",
    "- Similar to ACT Math, quartile differences are similar with a value of 2 which indicates a more even distribution\n",
    "- Standard deviation is also around the range of 2 to 2.5 for both years\n",
    "\n",
    "### Science 2017 & 2018\n",
    "#### ACT Science has a normal distribution\n",
    "\n",
    "This is because:\n",
    "- Lower standard deviation of 1.7\n",
    "- Second and third quartile are relatively close to the mean of 21.5 (second quartile ~20 and third quartile ~23) which indicates more states being closer to the national average with fewer outliers"
   ]
  },
  {
   "cell_type": "markdown",
   "metadata": {},
   "source": [
    "\n",
    "#### Distributions in the data\n",
    "\n",
    "In this dataset, each data represents a sample from a population.                        \n",
    "For example, for ACT math test:\n",
    "- Population: the test results of all the students who take this test, nation-wide.\n",
    "- Population mean: is the national average of ACT math test (total scores/total no. of test takers) \n",
    "- Sample: the state means of ACT math test. We have 51 samples (51 states)\n",
    "\n",
    "***According to CLT, we generally assuming that data we sample from a population will be normally distributed. Do we observe this trend?***"
   ]
  },
  {
   "cell_type": "markdown",
   "metadata": {},
   "source": [
    "Answer: Central Limit Theorem applies when there are at least 30 samples tested. As there are 51 samples each year, we have observed that there is a normal distribution (with slight skew)."
   ]
  },
  {
   "cell_type": "markdown",
   "metadata": {},
   "source": [
    "Does This Assumption Hold for:\n",
    "    - Math\n",
    "    - Reading\n",
    "    - Rates\n",
    "Explain your answers for each distribution and how you think this will affect estimates made from these data."
   ]
  },
  {
   "cell_type": "markdown",
   "metadata": {},
   "source": [
    "Answer: The assumption holds for both Math and Reading modules as it is observing consistent sample means of students who have already sat for the same exam, with the same questions and thus the mean for each state can be deduced as fair and consistent. When we prepare estimations for the following year, we are likely able to gauge where the mean would fall.\n",
    "\n",
    "\n",
    "However this is not the case for participation rates as selection of a sample from each state will usually lead to a definite True or False outcome, such as states with 100% participation and other states with less than 20% participation. As we continue to re-run our sample testing to create estimates, despite being a normal distribution with a large skew, we may not be able to anticipate great increase / decrease in participation from states such as Colorado and Illinois."
   ]
  },
  {
   "cell_type": "markdown",
   "metadata": {},
   "source": [
    "#### Estimate Limits of Data\n",
    "\n",
    "Suppose we only seek to understand the relationship between SAT and ACT participation rates in 2017. \n",
    "\n",
    "##### Does it make sense to conduct statistical inference given these data specifically? \n",
    "\n",
    "Why or why not?\n",
    "\n",
    "*(think about granularity, aggregation, the relationships between populations size & rates...consider the actually populations these data describe in answering this question)*"
   ]
  },
  {
   "cell_type": "markdown",
   "metadata": {},
   "source": [
    "Answer: It is difficult to perform a statistical inference from just SAT and ACT participation rates in 2017 only.\n",
    "\n",
    "Certain state colleges require specific module or knowledge from one of the two exams for entry which results in the preferences for each state.\n",
    "\n",
    "States that have less participation rate for ACT 2017 such as Maine (8%) only have a population of ~1.3M, while South Carolina with 100% participation has a population of ~5.1M, even though mean participation rate will be brought down by Maine, it does not indicate that the total population of the USA has a low overall participation rate."
   ]
  },
  {
   "cell_type": "markdown",
   "metadata": {},
   "source": [
    "##### Is it appropriate to compare *these* specific SAT and ACT math scores  - can we say students with higher SAT math score is better than those with lower ACT math score, or vice versa?\n",
    "\n",
    "Why or why not?"
   ]
  },
  {
   "cell_type": "markdown",
   "metadata": {},
   "source": [
    "Answer: We are not able to directly compare as SAT and ACT have different standards, marking scheme, questions and measurement of score (e.g. SAT and ACT math scores do not both range from 0 to 100). It is only appropriate to compare SAT scores of the same module by each year."
   ]
  },
  {
   "cell_type": "markdown",
   "metadata": {},
   "source": [
    "#### Statistical Evaluation of Distributions \n",
    "\n",
    "**If you feel it's appropriate**, using methods we discussed in class, run hypothesis tests to compare variables of interest in our dataset. "
   ]
  },
  {
   "cell_type": "code",
   "execution_count": 81,
   "metadata": {},
   "outputs": [
    {
     "data": {
      "text/plain": [
       "0    1165\n",
       "1    1080\n",
       "2    1116\n",
       "3    1208\n",
       "4    1055\n",
       "Name: sat_2017_total, dtype: int64"
      ]
     },
     "execution_count": 81,
     "metadata": {},
     "output_type": "execute_result"
    }
   ],
   "source": [
    "# Code:\n",
    "# Gathering total scores for SAT, split between 2017 and 2018\n",
    "sat2017hyp = final['sat_2017_total']\n",
    "sat2018hyp = final['sat_2018_total']\n",
    "sat2017hyp.head()"
   ]
  },
  {
   "cell_type": "code",
   "execution_count": 82,
   "metadata": {},
   "outputs": [
    {
     "data": {
      "text/plain": [
       "-6.078431372548948"
      ]
     },
     "execution_count": 82,
     "metadata": {},
     "output_type": "execute_result"
    }
   ],
   "source": [
    "# Testing measured difference\n",
    "sat2018hyp.mean()-sat2017hyp.mean()"
   ]
  },
  {
   "cell_type": "markdown",
   "metadata": {},
   "source": [
    "For our experiment, we will set up a null hypothesis and an alternative hypothesis:\n",
    "\n",
    "$H_0:$ The true mean difference in SAT Total Scores between 2017 and 2018 is 0.\n",
    "\n",
    "$H_A:$ The true mean difference in SAT Total Scores between 2017 and 2018 is NOT 0.\n",
    "\n",
    "$$\n",
    "\\begin{align}\n",
    "H_0: & \\mu_\\text{2018} = \\mu_\\text{2017} \\\\\n",
    "H_A: & \\mu_\\text{2018} \\ne \\mu_\\text{2017} \\\\\n",
    "\\end{align}\n",
    "$$\n",
    "\n",
    "Our measured difference is $\\bar{x}_\\text{2018} - \\bar{x}_\\text{2017} = -6.09$"
   ]
  },
  {
   "cell_type": "code",
   "execution_count": 83,
   "metadata": {},
   "outputs": [
    {
     "data": {
      "text/plain": [
       "Ttest_indResult(statistic=-0.32888697491988567, pvalue=0.7429288943265793)"
      ]
     },
     "execution_count": 83,
     "metadata": {},
     "output_type": "execute_result"
    }
   ],
   "source": [
    "# Conduct our t-test\n",
    "stats.ttest_ind(sat2018hyp,sat2017hyp)"
   ]
  },
  {
   "cell_type": "code",
   "execution_count": 84,
   "metadata": {},
   "outputs": [],
   "source": [
    "# Level of significance\n",
    "𝛼 = 0.05\n",
    "pvalue = 0.74"
   ]
  },
  {
   "cell_type": "markdown",
   "metadata": {},
   "source": [
    "As $p\\text{-value} \\ge \\alpha$, there is insufficient evidence to reject the null hypothesis and we cannot accept that either $H_0$ or $H_A$ is correct.\n",
    "    - i.e., there is no statistical difference between the two groups.\n",
    "\n",
    "Thus we cannot determine if there is any significant improvement in the states' SAT scores from 2017 to 2018."
   ]
  },
  {
   "cell_type": "markdown",
   "metadata": {},
   "source": [
    "## Outside Research"
   ]
  },
  {
   "cell_type": "markdown",
   "metadata": {},
   "source": [
    "Based upon your observations, choose **three** states that demonstrate interesting trends in their SAT and/or ACT participation rates. Spend some time doing outside research on state policies that might influence these rates, and summarize your findings below. **Feel free to go back and create new plots that highlight these states of interest**. If you bring in any outside tables or charts, make sure you are explicit about having borrowed them. If you quote any text, make sure that it renders as being quoted. (Make sure that you cite your sources -- check with you local instructor for citation preferences)."
   ]
  },
  {
   "cell_type": "markdown",
   "metadata": {},
   "source": [
    "Based on our research and observations, the three states that we are particularly interested in are **Colorado, Illinois and Nebraska**.\n",
    "\n",
    "- **Colorado**\n",
    "\n",
    "Colorado SAT participation rates increased from 11% to 100%. This is due to the state making it mandatory for students to sit for SAT after a drastic change in the education system to align the standards of SAT with the states' education values. As a result ACT participation rate had decreased from 100% to 30%.\n",
    "\n",
    "- **Illinois**\n",
    "\n",
    "We saw a massive increate in participation for SAT in Illinois from 9% to 99% in just one year. This is due to Illinois awarding SAT a multi-million dollar contract as a part of their plan to improve school standards and help underperforming schools. With this, the participation rates for ACT in 2018 dropped drastically to 43% from 93%.\n",
    "\n",
    "This results in schools paying for students' exam entrance fees of $50 which not all families are able to afford.\n",
    "\n",
    "- **Nebraska**\n",
    "\n",
    "The state of Nebraska saw an increase in participation rate from 84% to 100%. This is due to Nebraska offering the ACT for free to all juniors from 2017 onwards. As student loans are generally very expensive, this is an understandable increase to encourage students to take the ACTs. Additionally, Nebraska has appeared to score better than other states who have 100% participation which may indicate a relation for free admissions on participation rates as well as composite performance.\n"
   ]
  },
  {
   "cell_type": "markdown",
   "metadata": {},
   "source": [
    "## Conclusions and Recommendations"
   ]
  },
  {
   "cell_type": "markdown",
   "metadata": {},
   "source": [
    "Based on your exploration of the data, what are you key takeaways and recommendations? Choose one state with a lower participation rate and provide a suggestion for how the College Board might increase participation amongst graduating seniors in this state. Are there additional data you desire that would better inform your investigations?"
   ]
  },
  {
   "cell_type": "code",
   "execution_count": 85,
   "metadata": {},
   "outputs": [
    {
     "data": {
      "text/html": [
       "<div>\n",
       "<style scoped>\n",
       "    .dataframe tbody tr th:only-of-type {\n",
       "        vertical-align: middle;\n",
       "    }\n",
       "\n",
       "    .dataframe tbody tr th {\n",
       "        vertical-align: top;\n",
       "    }\n",
       "\n",
       "    .dataframe thead th {\n",
       "        text-align: right;\n",
       "    }\n",
       "</style>\n",
       "<table border=\"1\" class=\"dataframe\">\n",
       "  <thead>\n",
       "    <tr style=\"text-align: right;\">\n",
       "      <th></th>\n",
       "      <th>state</th>\n",
       "      <th>sat_2018_participation</th>\n",
       "      <th>act_2018_participation</th>\n",
       "    </tr>\n",
       "  </thead>\n",
       "  <tbody>\n",
       "    <tr>\n",
       "      <td>45</td>\n",
       "      <td>Vermont</td>\n",
       "      <td>0.64</td>\n",
       "      <td>0.24</td>\n",
       "    </tr>\n",
       "    <tr>\n",
       "      <td>46</td>\n",
       "      <td>Virginia</td>\n",
       "      <td>0.68</td>\n",
       "      <td>0.24</td>\n",
       "    </tr>\n",
       "    <tr>\n",
       "      <td>47</td>\n",
       "      <td>Washington</td>\n",
       "      <td>0.69</td>\n",
       "      <td>0.24</td>\n",
       "    </tr>\n",
       "    <tr>\n",
       "      <td>4</td>\n",
       "      <td>California</td>\n",
       "      <td>0.60</td>\n",
       "      <td>0.27</td>\n",
       "    </tr>\n",
       "    <tr>\n",
       "      <td>14</td>\n",
       "      <td>Indiana</td>\n",
       "      <td>0.63</td>\n",
       "      <td>0.32</td>\n",
       "    </tr>\n",
       "  </tbody>\n",
       "</table>\n",
       "</div>"
      ],
      "text/plain": [
       "         state  sat_2018_participation  act_2018_participation\n",
       "45     Vermont                    0.64                    0.24\n",
       "46    Virginia                    0.68                    0.24\n",
       "47  Washington                    0.69                    0.24\n",
       "4   California                    0.60                    0.27\n",
       "14     Indiana                    0.63                    0.32"
      ]
     },
     "execution_count": 85,
     "metadata": {},
     "output_type": "execute_result"
    }
   ],
   "source": [
    "# Identify States that have low participation for exams\n",
    "final[['state','sat_2018_participation','act_2018_participation']].loc[(final['sat_2018_participation'] < 0.7) & (final['act_2018_participation'] < 0.7)].sort_values(['act_2018_participation']).head()"
   ]
  },
  {
   "cell_type": "markdown",
   "metadata": {},
   "source": [
    "Based on our research on states that reflect a drastic improvement in participation rates such as Illinois and Nebraska. We deduced that offering free admissions would greatly encourage higher participation as well as potentially improving total / composite scores. Potentially there are many individuals who did not sit for the exam, not by choice, but because they may be unable to afford it.\n",
    "\n",
    "We recommend states such as Washington, California, Vermont, Virginia and Indiana with poor participation rates for both SAT and ACT in 2018, to consider making exam admissions more accessible and affordable for students. States like California also have a large population and the low percentage of participation of 60% and 27% for SAT and ACT respectively amounts to a large population of the United States.\n",
    "\n",
    "To help improve our findings, data such as per capita GDP for each state will help us target which states are greatly in need of financial assistance to improve the education system as well as giving all students in every state equal opportunity."
   ]
  }
 ],
 "metadata": {
  "anaconda-cloud": {},
  "kernelspec": {
   "display_name": "Python 3",
   "language": "python",
   "name": "python3"
  },
  "language_info": {
   "codemirror_mode": {
    "name": "ipython",
    "version": 3
   },
   "file_extension": ".py",
   "mimetype": "text/x-python",
   "name": "python",
   "nbconvert_exporter": "python",
   "pygments_lexer": "ipython3",
   "version": "3.7.4"
  },
  "varInspector": {
   "cols": {
    "lenName": 16,
    "lenType": 16,
    "lenVar": 40
   },
   "kernels_config": {
    "python": {
     "delete_cmd_postfix": "",
     "delete_cmd_prefix": "del ",
     "library": "var_list.py",
     "varRefreshCmd": "print(var_dic_list())"
    },
    "r": {
     "delete_cmd_postfix": ") ",
     "delete_cmd_prefix": "rm(",
     "library": "var_list.r",
     "varRefreshCmd": "cat(var_dic_list()) "
    }
   },
   "types_to_exclude": [
    "module",
    "function",
    "builtin_function_or_method",
    "instance",
    "_Feature"
   ],
   "window_display": false
  }
 },
 "nbformat": 4,
 "nbformat_minor": 2
}
